{
 "cells": [
  {
   "cell_type": "code",
   "execution_count": 50,
   "metadata": {},
   "outputs": [],
   "source": [
    "from hyperopt import hp\n",
    "import numpy as np\n",
    "\n",
    "from recpack.algorithms import ItemKNN\n",
    "from recpack.datasets import DummyDataset\n",
    "from recpack.pipelines import PipelineBuilder, HyperoptInfo\n",
    "from recpack.scenarios import WeakGeneralization"
   ]
  },
  {
   "cell_type": "code",
   "execution_count": 51,
   "metadata": {},
   "outputs": [],
   "source": [
    "HOUR = 3600\n",
    "DAY = 24*3600\n",
    "\n",
    "optimisation_info = HyperoptInfo(\n",
    "    hp.choice(\n",
    "        'similarity', [\n",
    "            {\n",
    "                'similarity': 'conditional_probability', \n",
    "                'pop_discount': hp.uniform('pop_discount', 0, 1),\n",
    "                \"K\": hp.loguniform(\"cp_K\", np.log(50), np.log(1000)),\n",
    "                \"normalize_X\": hp.choice(\"cp_normalize_X\", [True, False]),\n",
    "                \"normalize_sim\": hp.choice(\"cp_normalize_sim\",[True, False]),\n",
    "            }, \n",
    "            {\n",
    "                'similarity': 'cosine',\n",
    "                \"K\": hp.loguniform(\"c_K\", np.log(50), np.log(1000)),\n",
    "                \"normalize_X\": hp.choice(\"c_normalize_X\", [True, False]),\n",
    "                \"normalize_sim\": hp.choice(\"c_normalize_sim\",[True, False]),\n",
    "            }\n",
    "        ]\n",
    "    ),\n",
    "    timeout=DAY,\n",
    "    max_evals=50,\n",
    ")\n"
   ]
  },
  {
   "cell_type": "code",
   "execution_count": 52,
   "metadata": {},
   "outputs": [
    {
     "name": "stderr",
     "output_type": "stream",
     "text": [
      "100%|██████████| 490/490 [00:00<00:00, 392590.06it/s]\n",
      "100%|██████████| 490/490 [00:00<00:00, 422447.88it/s]\n",
      "92it [00:00, 2505.53it/s]\n",
      "92it [00:00, 2786.95it/s]\n"
     ]
    }
   ],
   "source": [
    "im = DummyDataset().load()\n",
    "scenario = WeakGeneralization(validation=True)\n",
    "scenario.split(im)"
   ]
  },
  {
   "cell_type": "code",
   "execution_count": null,
   "metadata": {},
   "outputs": [],
   "source": [
    "pb = PipelineBuilder()\n",
    "pb.add_algorithm(ItemKNN, optimisation_info=optimisation_info)\n",
    "pb.set_data_from_scenario(scenario)\n",
    "pb.set_optimisation_metric('NDCGK', 10)\n",
    "pb.add_metric('NDCGK', 10)\n",
    "\n",
    "pipe = pb.build()\n",
    "pipe.run()\n"
   ]
  },
  {
   "cell_type": "code",
   "execution_count": 54,
   "metadata": {},
   "outputs": [
    {
     "data": {
      "text/html": [
       "<div>\n",
       "<style scoped>\n",
       "    .dataframe tbody tr th:only-of-type {\n",
       "        vertical-align: middle;\n",
       "    }\n",
       "\n",
       "    .dataframe tbody tr th {\n",
       "        vertical-align: top;\n",
       "    }\n",
       "\n",
       "    .dataframe thead th {\n",
       "        text-align: right;\n",
       "    }\n",
       "</style>\n",
       "<table border=\"1\" class=\"dataframe\">\n",
       "  <thead>\n",
       "    <tr style=\"text-align: right;\">\n",
       "      <th></th>\n",
       "      <th>ndcgk_10</th>\n",
       "    </tr>\n",
       "  </thead>\n",
       "  <tbody>\n",
       "    <tr>\n",
       "      <th>ItemKNN(K=602.3509511335283,normalize_X=True,normalize_sim=False,pop_discount=None,similarity=cosine)</th>\n",
       "      <td>0.058466</td>\n",
       "    </tr>\n",
       "  </tbody>\n",
       "</table>\n",
       "</div>"
      ],
      "text/plain": [
       "                                                    ndcgk_10\n",
       "ItemKNN(K=602.3509511335283,normalize_X=True,no...  0.058466"
      ]
     },
     "execution_count": 54,
     "metadata": {},
     "output_type": "execute_result"
    }
   ],
   "source": [
    "pipe.get_metrics()"
   ]
  },
  {
   "cell_type": "code",
   "execution_count": null,
   "metadata": {},
   "outputs": [],
   "source": []
  }
 ],
 "metadata": {
  "kernelspec": {
   "display_name": "tars-item-knn",
   "language": "python",
   "name": "python3"
  },
  "language_info": {
   "codemirror_mode": {
    "name": "ipython",
    "version": 3
   },
   "file_extension": ".py",
   "mimetype": "text/x-python",
   "name": "python",
   "nbconvert_exporter": "python",
   "pygments_lexer": "ipython3",
   "version": "3.9.6"
  },
  "orig_nbformat": 4,
  "vscode": {
   "interpreter": {
    "hash": "5d8d46babf6f567af687cd56c0d495c1e92cc8e34ea495c80a1c6f885fc21ff2"
   }
  }
 },
 "nbformat": 4,
 "nbformat_minor": 2
}
