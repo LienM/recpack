{
    "cells": [
        {
            "cell_type": "markdown",
            "id": "prepared-afghanistan",
            "metadata": {},
            "source": [
                "# Demo Recpack\n",
                "\n",
                "This is an end to end demo of how to set up an experimental pipeline with Recpack.\n",
                "\n",
                "It covers:\n",
                "- Loading a dataset\n",
                "- Preprocessing the dataset\n",
                "- Transforming it to the appropriate data format\n",
                "- Splitting the dataset into a training(, validation) and test set. \n",
                "- Training the algorithm(s)\n",
                "- Making predictions\n",
                "- Evaluating the performance of the algorithm(s) using metrics\n",
                "\n",
                "### Dataset\n",
                "\n",
                "Recpack provides a set of datasets you can use out of the box. Some examples are:\n",
                "- MovieLens 25M\n",
                "- RecSys Challenge 2015\n",
                "- CiteULike\n",
                "\n",
                "If your dataset of choice is not included in this list, you can choose to either:\n",
                "- Create your own Dataset child class for this dataset.\n",
                "- Perform the transformation to an InteractionMatrix yourself.\n",
                "\n",
                "In this example we use the MovieLens 25M dataset which contains user-item rating tuples and timestamp information."
            ]
        },
        {
            "cell_type": "code",
            "execution_count": 1,
            "id": "liberal-cocktail",
            "metadata": {},
            "outputs": [],
            "source": [
                "import os\n",
                "import pandas as pd\n",
                "\n",
                "from recpack.datasets import DummyDataset"
            ]
        },
        {
            "cell_type": "code",
            "execution_count": 2,
            "id": "palestinian-business",
            "metadata": {},
            "outputs": [],
            "source": [
                "# We set use_default_filters to false, so we can highlight the selection and application of filters\n",
                "dataset = DummyDataset(use_default_filters=False)\n",
                "# Download the dataset if not present in data folder\n",
                "dataset.fetch_dataset()\n"
            ]
        },
        {
            "cell_type": "markdown",
            "id": "narrative-tablet",
            "metadata": {},
            "source": [
                "### Preprocessing\n",
                "\n",
                "Recpack makes it easy to perform some classic preprocessing steps.\n",
                "When using a Dataset, the preprocessing steps are performed when `load()` is called.\n",
                "\n",
                "Every Dataset comes with a set of default filters, i.e. typical preprocessing steps applied to this dataset in the literature.\n",
                "To overwrite these add the `use_default_filters=False` keyword argument when constructing the object, then proceed to define your own filters.\n",
                "\n",
                "In this example we won't use the default ML25M filters, but instead define our own. \n",
                "\n",
                "* MinRating = 3 -> Any rating of 3 and above is considered a positive interaction.\n",
                "* MinUsersPerItem = 30 -> Remove all items that fewer than 30 people interacted with, otherwise computation might go out of RAM.\n",
                "* MinItemsPerUser = 5 -> Remove all users who interacted with less than 5 items.\n",
                "\n",
                "The order in which these are added is important, as they are applied in order:\n",
                "first the rating filter will be applied, then the users per item and finally items per user.\n",
                "\n",
                "We usually apply the strictest filter first. \n",
                "Otherwise we might count interactions with rating < 3 in our min user per item filter, but then throw them away again later on."
            ]
        },
        {
            "cell_type": "code",
            "execution_count": 3,
            "id": "spanish-pipeline",
            "metadata": {},
            "outputs": [],
            "source": [
                "from recpack.preprocessing.filters import MinItemsPerUser, MinUsersPerItem"
            ]
        },
        {
            "cell_type": "code",
            "execution_count": 4,
            "id": "ceramic-combination",
            "metadata": {},
            "outputs": [],
            "source": [
                "# The order in which filters are added, matters.\n",
                "# First added filters, get applied first\n",
                "dataset.add_filter(MinUsersPerItem(3, item_ix=dataset.ITEM_IX, user_ix=dataset.USER_IX, count_duplicates=False))\n",
                "dataset.add_filter(MinItemsPerUser(2, item_ix=dataset.ITEM_IX, user_ix=dataset.USER_IX, count_duplicates=False))\n"
            ]
        },
        {
            "cell_type": "code",
            "execution_count": 5,
            "id": "understood-chile",
            "metadata": {},
            "outputs": [
                {
                    "data": {
                        "application/vnd.jupyter.widget-view+json": {
                            "model_id": "4a4698d213684c659973ca7f30b5ccd6",
                            "version_major": 2,
                            "version_minor": 0
                        },
                        "text/plain": [
                            "  0%|          | 0/481 [00:00<?, ?it/s]"
                        ]
                    },
                    "metadata": {},
                    "output_type": "display_data"
                },
                {
                    "data": {
                        "application/vnd.jupyter.widget-view+json": {
                            "model_id": "2df25c571fa74e36b482f0c27f8536d1",
                            "version_major": 2,
                            "version_minor": 0
                        },
                        "text/plain": [
                            "  0%|          | 0/481 [00:00<?, ?it/s]"
                        ]
                    },
                    "metadata": {},
                    "output_type": "display_data"
                }
            ],
            "source": [
                "# Applies filters, and loads filtered data into an InteractionMatrix\n",
                "data = dataset.load()"
            ]
        },
        {
            "cell_type": "code",
            "execution_count": 6,
            "id": "bd0d8ffc",
            "metadata": {},
            "outputs": [
                {
                    "data": {
                        "text/plain": [
                            "(95, 90)"
                        ]
                    },
                    "execution_count": 6,
                    "metadata": {},
                    "output_type": "execute_result"
                }
            ],
            "source": [
                "data.shape"
            ]
        },
        {
            "cell_type": "markdown",
            "id": "naked-innocent",
            "metadata": {},
            "source": [
                "### Scenario\n",
                "\n",
                "A scenario describes a situation in which to evaluate the performance of our algorithm.\n",
                "Examples are predicting for users that were not in the training set (StrongGeneralization),\n",
                "or predicting future interactions of the users in the training dataset (Timed).\n",
                "\n",
                "We're not optimizing any hyperparameters here, so we split into only a training and test set.\n",
                "If you do wish to optimize hyperparameters, add `validation=True` to the constructor of your scenario,\n",
                "and use this validation data to determine the optimal hyperparameters.\n",
                "\n",
                "Here we choose the StrongGeneralization scenario. This means we won't use the timestamp information for now.\n",
                "StrongGeneralization splits users into two datasets, only the training users' interactions are used for training.\n",
                "Test users' interactions are again split in two: one part is used as history to base predictions on,\n",
                "the other part consists of the held-out interactions we will try to predict.\n",
                "\n",
                "As parameters this scenario allows you to select the fraction of users to use for training, \n",
                "and the fraction of user interactions to use as history for your predictions.\n",
                "\n",
                "We will use 70% of users as training data.\n",
                "For prediction we will use 80% of the test users' interactions as history and predict the remaining 20%.\n",
                "Validation is set to False because we do not require validation data."
            ]
        },
        {
            "cell_type": "code",
            "execution_count": 7,
            "id": "temporal-trademark",
            "metadata": {},
            "outputs": [],
            "source": [
                "from recpack.scenarios import StrongGeneralization"
            ]
        },
        {
            "cell_type": "code",
            "execution_count": 8,
            "id": "bored-container",
            "metadata": {},
            "outputs": [],
            "source": [
                "scenario = StrongGeneralization(frac_users_train=0.7, frac_interactions_in=0.8, validation=False)"
            ]
        },
        {
            "cell_type": "code",
            "execution_count": 9,
            "id": "treated-balance",
            "metadata": {},
            "outputs": [
                {
                    "data": {
                        "application/vnd.jupyter.widget-view+json": {
                            "model_id": "3e77361f030e46ab97725a977c839b9d",
                            "version_major": 2,
                            "version_minor": 0
                        },
                        "text/plain": [
                            "0it [00:00, ?it/s]"
                        ]
                    },
                    "metadata": {},
                    "output_type": "display_data"
                }
            ],
            "source": [
                "scenario.split(data)"
            ]
        },
        {
            "cell_type": "markdown",
            "id": "colonial-cincinnati",
            "metadata": {},
            "source": [
                "## Pipeline\n",
                "\n",
                "We'll use a pipeline to do the heavy lifting for us.\n",
                "\n",
                "We construct the pipeline using the pipeline builder. In the next steps we will add the data, select the algorithms, set the metrics, and finally run the pipeline."
            ]
        },
        {
            "cell_type": "code",
            "execution_count": 10,
            "id": "genetic-jackson",
            "metadata": {},
            "outputs": [],
            "source": [
                "import recpack.pipelines"
            ]
        },
        {
            "cell_type": "code",
            "execution_count": 11,
            "id": "hungry-hormone",
            "metadata": {},
            "outputs": [],
            "source": [
                "pipeline_builder = recpack.pipelines.PipelineBuilder('demo')\n",
                "pipeline_builder.set_data_from_scenario(scenario)"
            ]
        },
        {
            "cell_type": "markdown",
            "id": "other-summit",
            "metadata": {},
            "source": [
                "### Algorithms\n",
                "\n",
                "We now choose two algorithms to evaluate:\n",
                "\n",
                "* Item KNN\n",
                "* Popularity \n",
                "\n",
                "You can also add EASE, but make sure to have enough RAM available, at least 32GB needed. \n",
                "\n",
                "Each algorithm has a set of parameters, so in practical settings, you would optimise them before comparison. \n",
                "Here we don't care as much about optimality, and so we just picked defaults that made some sense.\n",
                "\n",
                "It is also entirely possible to create your own algorithm. To learn how to do so, check out the Getting Started guide on docs!"
            ]
        },
        {
            "cell_type": "code",
            "execution_count": 12,
            "id": "naughty-testing",
            "metadata": {},
            "outputs": [],
            "source": [
                "pipeline_builder.add_algorithm('ItemKNN', params={'K': 10})\n",
                "# pipeline_builder.add_algorithm('ItemKNN', params={'K': 300})\n",
                "pipeline_builder.add_algorithm('Popularity', params={'K': 10})\n",
                "# pipeline_builder.add_algorithm('EASE', params={'l2': 100})"
            ]
        },
        {
            "cell_type": "markdown",
            "id": "continental-breeding",
            "metadata": {},
            "source": [
                "### Metrics\n",
                "We now select a couple metrics that will be evaluated on\n",
                " \n",
                "* CoverageK\n",
                "* CalibratedRecallK\n",
                "* NormalizedDiscountedCumulativeGainK\n",
                "* HitK\n",
                "* WeightedByInteractionsHitK\n",
                "\n",
                "As K value we will use 10 (as if we recommend a box of 10 items)"
            ]
        },
        {
            "cell_type": "code",
            "execution_count": 13,
            "id": "ready-interaction",
            "metadata": {},
            "outputs": [],
            "source": [
                "pipeline_builder.add_metric('CoverageK', 10)\n",
                "pipeline_builder.add_metric('CalibratedRecallK', 10)\n",
                "pipeline_builder.add_metric('NDCGK', 10)\n",
                "pipeline_builder.add_metric('HitK', 10)\n"
            ]
        },
        {
            "cell_type": "markdown",
            "id": "alleged-jewel",
            "metadata": {},
            "source": [
                "### Run\n",
                "\n",
                "\n",
                "To run we build the pipeline, and call `run()`\n"
            ]
        },
        {
            "cell_type": "code",
            "execution_count": 14,
            "id": "pharmaceutical-socket",
            "metadata": {},
            "outputs": [],
            "source": [
                "pipeline = pipeline_builder.build()"
            ]
        },
        {
            "cell_type": "code",
            "execution_count": 15,
            "id": "federal-linux",
            "metadata": {},
            "outputs": [
                {
                    "data": {
                        "application/vnd.jupyter.widget-view+json": {
                            "model_id": "4fcf1a9aed844554a6b47782a610b27a",
                            "version_major": 2,
                            "version_minor": 0
                        },
                        "text/plain": [
                            "  0%|          | 0/2 [00:00<?, ?it/s]"
                        ]
                    },
                    "metadata": {},
                    "output_type": "display_data"
                },
                {
                    "name": "stdout",
                    "output_type": "stream",
                    "text": [
                        "2022-10-20 10:02:28,336 - base - recpack - INFO - Fitting ItemKNN complete - Took 0.0121s\n",
                        "2022-10-20 10:02:28,364 - base - recpack - INFO - Fitting Popularity complete - Took 0.00445s\n"
                    ]
                }
            ],
            "source": [
                "pipeline.run()"
            ]
        },
        {
            "cell_type": "code",
            "execution_count": 16,
            "id": "adjustable-series",
            "metadata": {},
            "outputs": [
                {
                    "data": {
                        "text/html": [
                            "<div>\n",
                            "<style scoped>\n",
                            "    .dataframe tbody tr th:only-of-type {\n",
                            "        vertical-align: middle;\n",
                            "    }\n",
                            "\n",
                            "    .dataframe tbody tr th {\n",
                            "        vertical-align: top;\n",
                            "    }\n",
                            "\n",
                            "    .dataframe thead th {\n",
                            "        text-align: right;\n",
                            "    }\n",
                            "</style>\n",
                            "<table border=\"1\" class=\"dataframe\">\n",
                            "  <thead>\n",
                            "    <tr style=\"text-align: right;\">\n",
                            "      <th></th>\n",
                            "      <th>coveragek_10</th>\n",
                            "      <th>calibratedrecallk_10</th>\n",
                            "      <th>ndcgk_10</th>\n",
                            "      <th>hitk_10</th>\n",
                            "    </tr>\n",
                            "  </thead>\n",
                            "  <tbody>\n",
                            "    <tr>\n",
                            "      <th>ItemKNN(K=10,normalize_X=False,normalize_sim=False,pop_discount=None,similarity=cosine)</th>\n",
                            "      <td>0.811111</td>\n",
                            "      <td>0.071429</td>\n",
                            "      <td>0.045066</td>\n",
                            "      <td>0.071429</td>\n",
                            "    </tr>\n",
                            "    <tr>\n",
                            "      <th>Popularity(K=10)</th>\n",
                            "      <td>0.111111</td>\n",
                            "      <td>0.142857</td>\n",
                            "      <td>0.067600</td>\n",
                            "      <td>0.142857</td>\n",
                            "    </tr>\n",
                            "  </tbody>\n",
                            "</table>\n",
                            "</div>"
                        ],
                        "text/plain": [
                            "                                                    coveragek_10  \\\n",
                            "ItemKNN(K=10,normalize_X=False,normalize_sim=Fa...      0.811111   \n",
                            "Popularity(K=10)                                        0.111111   \n",
                            "\n",
                            "                                                    calibratedrecallk_10  \\\n",
                            "ItemKNN(K=10,normalize_X=False,normalize_sim=Fa...              0.071429   \n",
                            "Popularity(K=10)                                                0.142857   \n",
                            "\n",
                            "                                                    ndcgk_10   hitk_10  \n",
                            "ItemKNN(K=10,normalize_X=False,normalize_sim=Fa...  0.045066  0.071429  \n",
                            "Popularity(K=10)                                    0.067600  0.142857  "
                        ]
                    },
                    "execution_count": 16,
                    "metadata": {},
                    "output_type": "execute_result"
                }
            ],
            "source": [
                "pipeline.get_metrics()"
            ]
        },
        {
            "cell_type": "code",
            "execution_count": null,
            "id": "damaged-transparency",
            "metadata": {},
            "outputs": [],
            "source": []
        }
    ],
    "metadata": {
        "kernelspec": {
            "display_name": "Python 3.9.2 ('recpack')",
            "language": "python",
            "name": "python3"
        },
        "language_info": {
            "codemirror_mode": {
                "name": "ipython",
                "version": 3
            },
            "file_extension": ".py",
            "mimetype": "text/x-python",
            "name": "python",
            "nbconvert_exporter": "python",
            "pygments_lexer": "ipython3",
            "version": "3.9.6"
        },
        "metadata": {
            "interpreter": {
                "hash": "bbc584a665e03e802cc8919bac55e5568f0ebef10f66af7469634d26764da98b"
            }
        },
        "vscode": {
            "interpreter": {
                "hash": "24cfc0f7cec4c0d8ebeb7dd622fa1c59a8f003e5d18a46b85b85a9cd1cf8f7c9"
            }
        }
    },
    "nbformat": 4,
    "nbformat_minor": 5
}
