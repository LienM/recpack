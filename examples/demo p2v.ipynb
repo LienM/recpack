{
 "cells": [
  {
   "cell_type": "code",
   "execution_count": 1,
   "id": "spiritual-hours",
   "metadata": {},
   "outputs": [],
   "source": [
    "from recpack.algorithms import p2v\n",
    "from recpack.data.datasets import DemoPurchases\n",
    "from scipy.sparse import diags"
   ]
  },
  {
   "cell_type": "code",
   "execution_count": 2,
   "id": "limited-pizza",
   "metadata": {},
   "outputs": [],
   "source": [
    "d = DemoPurchases()"
   ]
  },
  {
   "cell_type": "code",
   "execution_count": 3,
   "id": "novel-edward",
   "metadata": {},
   "outputs": [
    {
     "data": {
      "text/html": [
       "<div>\n",
       "<style scoped>\n",
       "    .dataframe tbody tr th:only-of-type {\n",
       "        vertical-align: middle;\n",
       "    }\n",
       "\n",
       "    .dataframe tbody tr th {\n",
       "        vertical-align: top;\n",
       "    }\n",
       "\n",
       "    .dataframe thead th {\n",
       "        text-align: right;\n",
       "    }\n",
       "</style>\n",
       "<table border=\"1\" class=\"dataframe\">\n",
       "  <thead>\n",
       "    <tr style=\"text-align: right;\">\n",
       "      <th>item_id</th>\n",
       "      <th>beer</th>\n",
       "      <th>cake</th>\n",
       "      <th>chips</th>\n",
       "      <th>cola</th>\n",
       "      <th>nuts</th>\n",
       "    </tr>\n",
       "    <tr>\n",
       "      <th>user_id</th>\n",
       "      <th></th>\n",
       "      <th></th>\n",
       "      <th></th>\n",
       "      <th></th>\n",
       "      <th></th>\n",
       "    </tr>\n",
       "  </thead>\n",
       "  <tbody>\n",
       "    <tr>\n",
       "      <th>0</th>\n",
       "      <td>0.0</td>\n",
       "      <td>0.0</td>\n",
       "      <td>2.0</td>\n",
       "      <td>1.0</td>\n",
       "      <td>0.0</td>\n",
       "    </tr>\n",
       "    <tr>\n",
       "      <th>1</th>\n",
       "      <td>0.0</td>\n",
       "      <td>0.0</td>\n",
       "      <td>0.0</td>\n",
       "      <td>3.0</td>\n",
       "      <td>4.0</td>\n",
       "    </tr>\n",
       "    <tr>\n",
       "      <th>2</th>\n",
       "      <td>0.0</td>\n",
       "      <td>7.0</td>\n",
       "      <td>6.0</td>\n",
       "      <td>5.0</td>\n",
       "      <td>0.0</td>\n",
       "    </tr>\n",
       "    <tr>\n",
       "      <th>3</th>\n",
       "      <td>9.0</td>\n",
       "      <td>0.0</td>\n",
       "      <td>8.0</td>\n",
       "      <td>0.0</td>\n",
       "      <td>0.0</td>\n",
       "    </tr>\n",
       "    <tr>\n",
       "      <th>4</th>\n",
       "      <td>10.0</td>\n",
       "      <td>0.0</td>\n",
       "      <td>0.0</td>\n",
       "      <td>0.0</td>\n",
       "      <td>11.0</td>\n",
       "    </tr>\n",
       "    <tr>\n",
       "      <th>5</th>\n",
       "      <td>0.0</td>\n",
       "      <td>13.0</td>\n",
       "      <td>0.0</td>\n",
       "      <td>12.0</td>\n",
       "      <td>0.0</td>\n",
       "    </tr>\n",
       "  </tbody>\n",
       "</table>\n",
       "</div>"
      ],
      "text/plain": [
       "item_id  beer  cake  chips  cola  nuts\n",
       "user_id                               \n",
       "0         0.0   0.0    2.0   1.0   0.0\n",
       "1         0.0   0.0    0.0   3.0   4.0\n",
       "2         0.0   7.0    6.0   5.0   0.0\n",
       "3         9.0   0.0    8.0   0.0   0.0\n",
       "4        10.0   0.0    0.0   0.0  11.0\n",
       "5         0.0  13.0    0.0  12.0   0.0"
      ]
     },
     "execution_count": 3,
     "metadata": {},
     "output_type": "execute_result"
    }
   ],
   "source": [
    "# Visualise timestamps in pivot table\n",
    "d.load_dataframe().pivot(index=d.USER_IX, columns=d.ITEM_IX, values=d.TIMESTAMP_IX).fillna(0)"
   ]
  },
  {
   "cell_type": "code",
   "execution_count": 4,
   "id": "rental-cement",
   "metadata": {},
   "outputs": [
    {
     "data": {
      "application/vnd.jupyter.widget-view+json": {
       "model_id": "1262b6723f5442dcb7a24faa4c6c4a89",
       "version_major": 2,
       "version_minor": 0
      },
      "text/plain": [
       "HBox(children=(FloatProgress(value=0.0, max=13.0), HTML(value='')))"
      ]
     },
     "metadata": {},
     "output_type": "display_data"
    },
    {
     "name": "stdout",
     "output_type": "stream",
     "text": [
      "\n"
     ]
    },
    {
     "data": {
      "application/vnd.jupyter.widget-view+json": {
       "model_id": "ae2bc2fb69044bbda8689d706628ce45",
       "version_major": 2,
       "version_minor": 0
      },
      "text/plain": [
       "HBox(children=(FloatProgress(value=0.0, max=13.0), HTML(value='')))"
      ]
     },
     "metadata": {},
     "output_type": "display_data"
    },
    {
     "name": "stdout",
     "output_type": "stream",
     "text": [
      "\n"
     ]
    }
   ],
   "source": [
    "m = d.load_interaction_matrix()"
   ]
  },
  {
   "cell_type": "code",
   "execution_count": 5,
   "id": "latest-gross",
   "metadata": {},
   "outputs": [
    {
     "name": "stdout",
     "output_type": "stream",
     "text": [
      "2021-04-23 13:11:12,921 - base - recpack - INFO - Processed epoch 0 in 0.02 s. Batch Training Loss = 1.4326\n",
      "2021-04-23 13:11:12,936 - stopping_criterion - recpack - INFO - StoppingCriterion has value 0.21666666666666665, which is better than previous iterations.\n",
      "2021-04-23 13:11:12,936 - p2v - recpack - INFO - Model improved. Storing better model.\n",
      "2021-04-23 13:11:12,946 - base - recpack - INFO - Processed epoch 1 in 0.01 s. Batch Training Loss = 1.3953\n",
      "2021-04-23 13:11:12,955 - stopping_criterion - recpack - INFO - StoppingCriterion has value 0.21666666666666665, which is worse than previous iterations.\n",
      "2021-04-23 13:11:12,963 - base - recpack - INFO - Processed epoch 2 in 0.01 s. Batch Training Loss = 1.4959\n",
      "2021-04-23 13:11:12,970 - stopping_criterion - recpack - INFO - StoppingCriterion has value 0.21666666666666665, which is worse than previous iterations.\n",
      "2021-04-23 13:11:12,977 - base - recpack - INFO - Processed epoch 3 in 0.01 s. Batch Training Loss = 1.4458\n",
      "2021-04-23 13:11:12,986 - stopping_criterion - recpack - INFO - StoppingCriterion has value 0.21666666666666665, which is worse than previous iterations.\n",
      "2021-04-23 13:11:12,993 - base - recpack - INFO - Processed epoch 4 in 0.01 s. Batch Training Loss = 1.4560\n",
      "2021-04-23 13:11:13,003 - stopping_criterion - recpack - INFO - StoppingCriterion has value 0.21666666666666665, which is worse than previous iterations.\n",
      "2021-04-23 13:11:13,010 - base - recpack - INFO - Processed epoch 5 in 0.01 s. Batch Training Loss = 1.4245\n",
      "2021-04-23 13:11:13,018 - stopping_criterion - recpack - INFO - StoppingCriterion has value 0.21666666666666665, which is worse than previous iterations.\n",
      "2021-04-23 13:11:13,025 - base - recpack - INFO - Processed epoch 6 in 0.01 s. Batch Training Loss = 1.4107\n",
      "2021-04-23 13:11:13,034 - stopping_criterion - recpack - INFO - StoppingCriterion has value 0.21666666666666665, which is worse than previous iterations.\n",
      "2021-04-23 13:11:13,041 - base - recpack - INFO - Processed epoch 7 in 0.01 s. Batch Training Loss = 1.5003\n",
      "2021-04-23 13:11:13,049 - stopping_criterion - recpack - INFO - StoppingCriterion has value 0.21666666666666665, which is worse than previous iterations.\n",
      "2021-04-23 13:11:13,057 - base - recpack - INFO - Processed epoch 8 in 0.01 s. Batch Training Loss = 1.4687\n",
      "2021-04-23 13:11:13,063 - stopping_criterion - recpack - INFO - StoppingCriterion has value 0.21666666666666665, which is worse than previous iterations.\n",
      "2021-04-23 13:11:13,072 - base - recpack - INFO - Processed epoch 9 in 0.01 s. Batch Training Loss = 1.3659\n",
      "2021-04-23 13:11:13,078 - stopping_criterion - recpack - INFO - StoppingCriterion has value 0.21666666666666665, which is worse than previous iterations.\n",
      "2021-04-23 13:11:13,087 - base - recpack - INFO - Processed epoch 10 in 0.01 s. Batch Training Loss = 1.4066\n",
      "2021-04-23 13:11:13,093 - stopping_criterion - recpack - INFO - StoppingCriterion has value 0.21666666666666665, which is worse than previous iterations.\n",
      "2021-04-23 13:11:13,103 - base - recpack - INFO - Processed epoch 11 in 0.01 s. Batch Training Loss = 1.6027\n",
      "2021-04-23 13:11:13,111 - stopping_criterion - recpack - INFO - StoppingCriterion has value 0.21666666666666665, which is worse than previous iterations.\n",
      "2021-04-23 13:11:13,120 - base - recpack - INFO - Processed epoch 12 in 0.01 s. Batch Training Loss = 1.4557\n",
      "2021-04-23 13:11:13,127 - stopping_criterion - recpack - INFO - StoppingCriterion has value 0.21666666666666665, which is worse than previous iterations.\n"
     ]
    },
    {
     "name": "stderr",
     "output_type": "stream",
     "text": [
      "/Users/robinverachtert/workspace/doctorate/dist-env/lib/python3.9/site-packages/scipy/sparse/_index.py:116: SparseEfficiencyWarning: Changing the sparsity structure of a csr_matrix is expensive. lil_matrix is more efficient.\n",
      "  self._set_arrayXarray_sparse(i, j, x)\n",
      "/Users/robinverachtert/workspace/doctorate/dist-env/lib/python3.9/site-packages/recpack/algorithms/p2v.py:177: UserWarning: K is larger than the number of items.\n",
      "  warnings.warn(\"K is larger than the number of items.\", UserWarning)\n"
     ]
    },
    {
     "name": "stdout",
     "output_type": "stream",
     "text": [
      "2021-04-23 13:11:13,136 - base - recpack - INFO - Processed epoch 13 in 0.01 s. Batch Training Loss = 1.3934\n",
      "2021-04-23 13:11:13,142 - stopping_criterion - recpack - INFO - StoppingCriterion has value 0.21666666666666665, which is worse than previous iterations.\n",
      "2021-04-23 13:11:13,153 - base - recpack - INFO - Processed epoch 14 in 0.01 s. Batch Training Loss = 1.4409\n",
      "2021-04-23 13:11:13,161 - stopping_criterion - recpack - INFO - StoppingCriterion has value 0.21666666666666665, which is worse than previous iterations.\n",
      "2021-04-23 13:11:13,170 - base - recpack - INFO - Processed epoch 15 in 0.01 s. Batch Training Loss = 1.5192\n",
      "2021-04-23 13:11:13,177 - stopping_criterion - recpack - INFO - StoppingCriterion has value 0.21666666666666665, which is worse than previous iterations.\n",
      "2021-04-23 13:11:13,186 - base - recpack - INFO - Processed epoch 16 in 0.01 s. Batch Training Loss = 1.4188\n",
      "2021-04-23 13:11:13,193 - stopping_criterion - recpack - INFO - StoppingCriterion has value 0.21666666666666665, which is worse than previous iterations.\n",
      "2021-04-23 13:11:13,202 - base - recpack - INFO - Processed epoch 17 in 0.01 s. Batch Training Loss = 1.4730\n",
      "2021-04-23 13:11:13,210 - stopping_criterion - recpack - INFO - StoppingCriterion has value 0.21666666666666665, which is worse than previous iterations.\n",
      "2021-04-23 13:11:13,220 - base - recpack - INFO - Processed epoch 18 in 0.01 s. Batch Training Loss = 1.3961\n",
      "2021-04-23 13:11:13,226 - stopping_criterion - recpack - INFO - StoppingCriterion has value 0.21666666666666665, which is worse than previous iterations.\n",
      "2021-04-23 13:11:13,234 - base - recpack - INFO - Processed epoch 19 in 0.01 s. Batch Training Loss = 1.3299\n",
      "2021-04-23 13:11:13,242 - stopping_criterion - recpack - INFO - StoppingCriterion has value 0.21666666666666665, which is worse than previous iterations.\n",
      "2021-04-23 13:11:13,252 - base - recpack - INFO - Processed epoch 20 in 0.01 s. Batch Training Loss = 1.4809\n",
      "2021-04-23 13:11:13,260 - stopping_criterion - recpack - INFO - StoppingCriterion has value 0.21666666666666665, which is worse than previous iterations.\n",
      "2021-04-23 13:11:13,268 - base - recpack - INFO - Processed epoch 21 in 0.01 s. Batch Training Loss = 1.3177\n",
      "2021-04-23 13:11:13,275 - stopping_criterion - recpack - INFO - StoppingCriterion has value 0.21666666666666665, which is worse than previous iterations.\n",
      "2021-04-23 13:11:13,284 - base - recpack - INFO - Processed epoch 22 in 0.01 s. Batch Training Loss = 1.3955\n",
      "2021-04-23 13:11:13,291 - stopping_criterion - recpack - INFO - StoppingCriterion has value 0.21666666666666665, which is worse than previous iterations.\n",
      "2021-04-23 13:11:13,300 - base - recpack - INFO - Processed epoch 23 in 0.01 s. Batch Training Loss = 1.3457\n",
      "2021-04-23 13:11:13,307 - stopping_criterion - recpack - INFO - StoppingCriterion has value 0.21666666666666665, which is worse than previous iterations.\n",
      "2021-04-23 13:11:13,318 - base - recpack - INFO - Processed epoch 24 in 0.01 s. Batch Training Loss = 1.2986\n",
      "2021-04-23 13:11:13,325 - stopping_criterion - recpack - INFO - StoppingCriterion has value 0.21666666666666665, which is worse than previous iterations.\n",
      "2021-04-23 13:11:13,335 - base - recpack - INFO - Processed epoch 25 in 0.01 s. Batch Training Loss = 1.3146\n",
      "2021-04-23 13:11:13,345 - stopping_criterion - recpack - INFO - StoppingCriterion has value 0.21666666666666665, which is worse than previous iterations.\n",
      "2021-04-23 13:11:13,355 - base - recpack - INFO - Processed epoch 26 in 0.01 s. Batch Training Loss = 1.2935\n",
      "2021-04-23 13:11:13,362 - stopping_criterion - recpack - INFO - StoppingCriterion has value 0.21666666666666665, which is worse than previous iterations.\n",
      "2021-04-23 13:11:13,370 - base - recpack - INFO - Processed epoch 27 in 0.01 s. Batch Training Loss = 1.4080\n",
      "2021-04-23 13:11:13,377 - stopping_criterion - recpack - INFO - StoppingCriterion has value 0.21666666666666665, which is worse than previous iterations.\n",
      "2021-04-23 13:11:13,386 - base - recpack - INFO - Processed epoch 28 in 0.01 s. Batch Training Loss = 1.2966\n",
      "2021-04-23 13:11:13,392 - stopping_criterion - recpack - INFO - StoppingCriterion has value 0.21666666666666665, which is worse than previous iterations.\n",
      "2021-04-23 13:11:13,402 - base - recpack - INFO - Processed epoch 29 in 0.01 s. Batch Training Loss = 1.5084\n",
      "2021-04-23 13:11:13,409 - stopping_criterion - recpack - INFO - StoppingCriterion has value 0.21666666666666665, which is worse than previous iterations.\n",
      "2021-04-23 13:11:13,418 - base - recpack - INFO - Processed epoch 30 in 0.01 s. Batch Training Loss = 1.5436\n",
      "2021-04-23 13:11:13,425 - stopping_criterion - recpack - INFO - StoppingCriterion has value 0.21666666666666665, which is worse than previous iterations.\n",
      "2021-04-23 13:11:13,433 - base - recpack - INFO - Processed epoch 31 in 0.01 s. Batch Training Loss = 1.3741\n",
      "2021-04-23 13:11:13,442 - stopping_criterion - recpack - INFO - StoppingCriterion has value 0.21666666666666665, which is worse than previous iterations.\n",
      "2021-04-23 13:11:13,451 - base - recpack - INFO - Processed epoch 32 in 0.01 s. Batch Training Loss = 1.5532\n",
      "2021-04-23 13:11:13,458 - stopping_criterion - recpack - INFO - StoppingCriterion has value 0.21666666666666665, which is worse than previous iterations.\n",
      "2021-04-23 13:11:13,466 - base - recpack - INFO - Processed epoch 33 in 0.01 s. Batch Training Loss = 1.4620\n",
      "2021-04-23 13:11:13,474 - stopping_criterion - recpack - INFO - StoppingCriterion has value 0.21666666666666665, which is worse than previous iterations.\n",
      "2021-04-23 13:11:13,482 - base - recpack - INFO - Processed epoch 34 in 0.01 s. Batch Training Loss = 1.4169\n",
      "2021-04-23 13:11:13,491 - stopping_criterion - recpack - INFO - StoppingCriterion has value 0.21666666666666665, which is worse than previous iterations.\n",
      "2021-04-23 13:11:13,500 - base - recpack - INFO - Processed epoch 35 in 0.01 s. Batch Training Loss = 1.4446\n",
      "2021-04-23 13:11:13,508 - stopping_criterion - recpack - INFO - StoppingCriterion has value 0.21666666666666665, which is worse than previous iterations.\n",
      "2021-04-23 13:11:13,516 - base - recpack - INFO - Processed epoch 36 in 0.01 s. Batch Training Loss = 1.5460\n",
      "2021-04-23 13:11:13,522 - stopping_criterion - recpack - INFO - StoppingCriterion has value 0.21666666666666665, which is worse than previous iterations.\n",
      "2021-04-23 13:11:13,531 - base - recpack - INFO - Processed epoch 37 in 0.01 s. Batch Training Loss = 1.4169\n",
      "2021-04-23 13:11:13,537 - stopping_criterion - recpack - INFO - StoppingCriterion has value 0.21666666666666665, which is worse than previous iterations.\n",
      "2021-04-23 13:11:13,544 - base - recpack - INFO - Processed epoch 38 in 0.01 s. Batch Training Loss = 1.2502\n",
      "2021-04-23 13:11:13,554 - stopping_criterion - recpack - INFO - StoppingCriterion has value 0.21666666666666665, which is worse than previous iterations.\n",
      "2021-04-23 13:11:13,561 - base - recpack - INFO - Processed epoch 39 in 0.01 s. Batch Training Loss = 1.3902\n",
      "2021-04-23 13:11:13,569 - stopping_criterion - recpack - INFO - StoppingCriterion has value 0.21666666666666665, which is worse than previous iterations.\n",
      "2021-04-23 13:11:13,576 - base - recpack - INFO - Processed epoch 40 in 0.01 s. Batch Training Loss = 1.5063\n",
      "2021-04-23 13:11:13,585 - stopping_criterion - recpack - INFO - StoppingCriterion has value 0.21666666666666665, which is worse than previous iterations.\n",
      "2021-04-23 13:11:13,592 - base - recpack - INFO - Processed epoch 41 in 0.01 s. Batch Training Loss = 1.5842\n",
      "2021-04-23 13:11:13,601 - stopping_criterion - recpack - INFO - StoppingCriterion has value 0.21666666666666665, which is worse than previous iterations.\n",
      "2021-04-23 13:11:13,608 - base - recpack - INFO - Processed epoch 42 in 0.01 s. Batch Training Loss = 1.2780\n",
      "2021-04-23 13:11:13,616 - stopping_criterion - recpack - INFO - StoppingCriterion has value 0.21666666666666665, which is worse than previous iterations.\n",
      "2021-04-23 13:11:13,624 - base - recpack - INFO - Processed epoch 43 in 0.01 s. Batch Training Loss = 1.5880\n",
      "2021-04-23 13:11:13,631 - stopping_criterion - recpack - INFO - StoppingCriterion has value 0.21666666666666665, which is worse than previous iterations.\n",
      "2021-04-23 13:11:13,638 - base - recpack - INFO - Processed epoch 44 in 0.01 s. Batch Training Loss = 1.3143\n"
     ]
    },
    {
     "name": "stdout",
     "output_type": "stream",
     "text": [
      "2021-04-23 13:11:13,646 - stopping_criterion - recpack - INFO - StoppingCriterion has value 0.21666666666666665, which is worse than previous iterations.\n",
      "2021-04-23 13:11:13,654 - base - recpack - INFO - Processed epoch 45 in 0.01 s. Batch Training Loss = 1.2972\n",
      "2021-04-23 13:11:13,661 - stopping_criterion - recpack - INFO - StoppingCriterion has value 0.21666666666666665, which is worse than previous iterations.\n",
      "2021-04-23 13:11:13,669 - base - recpack - INFO - Processed epoch 46 in 0.01 s. Batch Training Loss = 1.3570\n",
      "2021-04-23 13:11:13,676 - stopping_criterion - recpack - INFO - StoppingCriterion has value 0.21666666666666665, which is worse than previous iterations.\n",
      "2021-04-23 13:11:13,685 - base - recpack - INFO - Processed epoch 47 in 0.01 s. Batch Training Loss = 1.5352\n",
      "2021-04-23 13:11:13,692 - stopping_criterion - recpack - INFO - StoppingCriterion has value 0.21666666666666665, which is worse than previous iterations.\n",
      "2021-04-23 13:11:13,700 - base - recpack - INFO - Processed epoch 48 in 0.01 s. Batch Training Loss = 1.5208\n",
      "2021-04-23 13:11:13,707 - stopping_criterion - recpack - INFO - StoppingCriterion has value 0.21666666666666665, which is worse than previous iterations.\n",
      "2021-04-23 13:11:13,715 - base - recpack - INFO - Processed epoch 49 in 0.01 s. Batch Training Loss = 1.4547\n",
      "2021-04-23 13:11:13,721 - stopping_criterion - recpack - INFO - StoppingCriterion has value 0.21666666666666665, which is worse than previous iterations.\n",
      "2021-04-23 13:11:13,728 - base - recpack - INFO - Processed epoch 50 in 0.01 s. Batch Training Loss = 1.3109\n",
      "2021-04-23 13:11:13,736 - stopping_criterion - recpack - INFO - StoppingCriterion has value 0.21666666666666665, which is worse than previous iterations.\n",
      "2021-04-23 13:11:13,743 - base - recpack - INFO - Processed epoch 51 in 0.01 s. Batch Training Loss = 1.4567\n",
      "2021-04-23 13:11:13,752 - stopping_criterion - recpack - INFO - StoppingCriterion has value 0.21666666666666665, which is worse than previous iterations.\n",
      "2021-04-23 13:11:13,759 - base - recpack - INFO - Processed epoch 52 in 0.01 s. Batch Training Loss = 1.4947\n",
      "2021-04-23 13:11:13,768 - stopping_criterion - recpack - INFO - StoppingCriterion has value 0.21666666666666665, which is worse than previous iterations.\n",
      "2021-04-23 13:11:13,775 - base - recpack - INFO - Processed epoch 53 in 0.01 s. Batch Training Loss = 1.4446\n",
      "2021-04-23 13:11:13,782 - stopping_criterion - recpack - INFO - StoppingCriterion has value 0.21666666666666665, which is worse than previous iterations.\n",
      "2021-04-23 13:11:13,789 - base - recpack - INFO - Processed epoch 54 in 0.01 s. Batch Training Loss = 1.3895\n",
      "2021-04-23 13:11:13,797 - stopping_criterion - recpack - INFO - StoppingCriterion has value 0.21666666666666665, which is worse than previous iterations.\n",
      "2021-04-23 13:11:13,804 - base - recpack - INFO - Processed epoch 55 in 0.01 s. Batch Training Loss = 1.3755\n",
      "2021-04-23 13:11:13,811 - stopping_criterion - recpack - INFO - StoppingCriterion has value 0.21666666666666665, which is worse than previous iterations.\n",
      "2021-04-23 13:11:13,819 - base - recpack - INFO - Processed epoch 56 in 0.01 s. Batch Training Loss = 1.4198\n",
      "2021-04-23 13:11:13,825 - stopping_criterion - recpack - INFO - StoppingCriterion has value 0.21666666666666665, which is worse than previous iterations.\n",
      "2021-04-23 13:11:13,833 - base - recpack - INFO - Processed epoch 57 in 0.01 s. Batch Training Loss = 1.4352\n",
      "2021-04-23 13:11:13,841 - stopping_criterion - recpack - INFO - StoppingCriterion has value 0.21666666666666665, which is worse than previous iterations.\n",
      "2021-04-23 13:11:13,850 - base - recpack - INFO - Processed epoch 58 in 0.01 s. Batch Training Loss = 1.3276\n",
      "2021-04-23 13:11:13,858 - stopping_criterion - recpack - INFO - StoppingCriterion has value 0.21666666666666665, which is worse than previous iterations.\n",
      "2021-04-23 13:11:13,868 - base - recpack - INFO - Processed epoch 59 in 0.01 s. Batch Training Loss = 1.5358\n",
      "2021-04-23 13:11:13,875 - stopping_criterion - recpack - INFO - StoppingCriterion has value 0.21666666666666665, which is worse than previous iterations.\n",
      "2021-04-23 13:11:13,883 - base - recpack - INFO - Processed epoch 60 in 0.01 s. Batch Training Loss = 1.4782\n",
      "2021-04-23 13:11:13,889 - stopping_criterion - recpack - INFO - StoppingCriterion has value 0.21666666666666665, which is worse than previous iterations.\n",
      "2021-04-23 13:11:13,898 - base - recpack - INFO - Processed epoch 61 in 0.01 s. Batch Training Loss = 1.4504\n",
      "2021-04-23 13:11:13,905 - stopping_criterion - recpack - INFO - StoppingCriterion has value 0.21666666666666665, which is worse than previous iterations.\n",
      "2021-04-23 13:11:13,912 - base - recpack - INFO - Processed epoch 62 in 0.01 s. Batch Training Loss = 1.2810\n",
      "2021-04-23 13:11:13,919 - stopping_criterion - recpack - INFO - StoppingCriterion has value 0.21666666666666665, which is worse than previous iterations.\n",
      "2021-04-23 13:11:13,926 - base - recpack - INFO - Processed epoch 63 in 0.01 s. Batch Training Loss = 1.3562\n",
      "2021-04-23 13:11:13,934 - stopping_criterion - recpack - INFO - StoppingCriterion has value 0.21666666666666665, which is worse than previous iterations.\n",
      "2021-04-23 13:11:13,942 - base - recpack - INFO - Processed epoch 64 in 0.01 s. Batch Training Loss = 1.4359\n",
      "2021-04-23 13:11:13,950 - stopping_criterion - recpack - INFO - StoppingCriterion has value 0.21666666666666665, which is worse than previous iterations.\n",
      "2021-04-23 13:11:13,958 - base - recpack - INFO - Processed epoch 65 in 0.01 s. Batch Training Loss = 1.2118\n",
      "2021-04-23 13:11:13,965 - stopping_criterion - recpack - INFO - StoppingCriterion has value 0.21666666666666665, which is worse than previous iterations.\n",
      "2021-04-23 13:11:13,973 - base - recpack - INFO - Processed epoch 66 in 0.01 s. Batch Training Loss = 1.3322\n",
      "2021-04-23 13:11:13,981 - stopping_criterion - recpack - INFO - StoppingCriterion has value 0.21666666666666665, which is worse than previous iterations.\n",
      "2021-04-23 13:11:13,989 - base - recpack - INFO - Processed epoch 67 in 0.01 s. Batch Training Loss = 1.4881\n",
      "2021-04-23 13:11:13,997 - stopping_criterion - recpack - INFO - StoppingCriterion has value 0.21666666666666665, which is worse than previous iterations.\n",
      "2021-04-23 13:11:14,005 - base - recpack - INFO - Processed epoch 68 in 0.01 s. Batch Training Loss = 1.2398\n",
      "2021-04-23 13:11:14,011 - stopping_criterion - recpack - INFO - StoppingCriterion has value 0.21666666666666665, which is worse than previous iterations.\n",
      "2021-04-23 13:11:14,020 - base - recpack - INFO - Processed epoch 69 in 0.01 s. Batch Training Loss = 1.3810\n",
      "2021-04-23 13:11:14,026 - stopping_criterion - recpack - INFO - StoppingCriterion has value 0.21666666666666665, which is worse than previous iterations.\n",
      "2021-04-23 13:11:14,035 - base - recpack - INFO - Processed epoch 70 in 0.01 s. Batch Training Loss = 1.3670\n",
      "2021-04-23 13:11:14,043 - stopping_criterion - recpack - INFO - StoppingCriterion has value 0.21666666666666665, which is worse than previous iterations.\n",
      "2021-04-23 13:11:14,052 - base - recpack - INFO - Processed epoch 71 in 0.01 s. Batch Training Loss = 1.2743\n",
      "2021-04-23 13:11:14,060 - stopping_criterion - recpack - INFO - StoppingCriterion has value 0.21666666666666665, which is worse than previous iterations.\n",
      "2021-04-23 13:11:14,070 - base - recpack - INFO - Processed epoch 72 in 0.01 s. Batch Training Loss = 1.4687\n",
      "2021-04-23 13:11:14,076 - stopping_criterion - recpack - INFO - StoppingCriterion has value 0.21666666666666665, which is worse than previous iterations.\n",
      "2021-04-23 13:11:14,084 - base - recpack - INFO - Processed epoch 73 in 0.01 s. Batch Training Loss = 1.5580\n",
      "2021-04-23 13:11:14,091 - stopping_criterion - recpack - INFO - StoppingCriterion has value 0.21666666666666665, which is worse than previous iterations.\n",
      "2021-04-23 13:11:14,099 - base - recpack - INFO - Processed epoch 74 in 0.01 s. Batch Training Loss = 1.3568\n",
      "2021-04-23 13:11:14,108 - stopping_criterion - recpack - INFO - StoppingCriterion has value 0.21666666666666665, which is worse than previous iterations.\n",
      "2021-04-23 13:11:14,117 - base - recpack - INFO - Processed epoch 75 in 0.01 s. Batch Training Loss = 1.6205\n",
      "2021-04-23 13:11:14,124 - stopping_criterion - recpack - INFO - StoppingCriterion has value 0.21666666666666665, which is worse than previous iterations.\n"
     ]
    },
    {
     "name": "stdout",
     "output_type": "stream",
     "text": [
      "2021-04-23 13:11:14,132 - base - recpack - INFO - Processed epoch 76 in 0.01 s. Batch Training Loss = 1.3856\n",
      "2021-04-23 13:11:14,139 - stopping_criterion - recpack - INFO - StoppingCriterion has value 0.21666666666666665, which is worse than previous iterations.\n",
      "2021-04-23 13:11:14,147 - base - recpack - INFO - Processed epoch 77 in 0.01 s. Batch Training Loss = 1.3800\n",
      "2021-04-23 13:11:14,154 - stopping_criterion - recpack - INFO - StoppingCriterion has value 0.21666666666666665, which is worse than previous iterations.\n",
      "2021-04-23 13:11:14,162 - base - recpack - INFO - Processed epoch 78 in 0.01 s. Batch Training Loss = 1.3225\n",
      "2021-04-23 13:11:14,170 - stopping_criterion - recpack - INFO - StoppingCriterion has value 0.21666666666666665, which is worse than previous iterations.\n",
      "2021-04-23 13:11:14,178 - base - recpack - INFO - Processed epoch 79 in 0.01 s. Batch Training Loss = 1.3621\n",
      "2021-04-23 13:11:14,186 - stopping_criterion - recpack - INFO - StoppingCriterion has value 0.21666666666666665, which is worse than previous iterations.\n",
      "2021-04-23 13:11:14,193 - base - recpack - INFO - Processed epoch 80 in 0.01 s. Batch Training Loss = 1.3564\n",
      "2021-04-23 13:11:14,202 - stopping_criterion - recpack - INFO - StoppingCriterion has value 0.21666666666666665, which is worse than previous iterations.\n",
      "2021-04-23 13:11:14,210 - base - recpack - INFO - Processed epoch 81 in 0.01 s. Batch Training Loss = 1.4658\n",
      "2021-04-23 13:11:14,219 - stopping_criterion - recpack - INFO - StoppingCriterion has value 0.21666666666666665, which is worse than previous iterations.\n",
      "2021-04-23 13:11:14,226 - base - recpack - INFO - Processed epoch 82 in 0.01 s. Batch Training Loss = 1.2513\n",
      "2021-04-23 13:11:14,234 - stopping_criterion - recpack - INFO - StoppingCriterion has value 0.21666666666666665, which is worse than previous iterations.\n",
      "2021-04-23 13:11:14,243 - base - recpack - INFO - Processed epoch 83 in 0.01 s. Batch Training Loss = 1.4230\n",
      "2021-04-23 13:11:14,252 - stopping_criterion - recpack - INFO - StoppingCriterion has value 0.21666666666666665, which is worse than previous iterations.\n",
      "2021-04-23 13:11:14,259 - base - recpack - INFO - Processed epoch 84 in 0.01 s. Batch Training Loss = 1.4733\n",
      "2021-04-23 13:11:14,268 - stopping_criterion - recpack - INFO - StoppingCriterion has value 0.21666666666666665, which is worse than previous iterations.\n",
      "2021-04-23 13:11:14,275 - base - recpack - INFO - Processed epoch 85 in 0.01 s. Batch Training Loss = 1.3765\n",
      "2021-04-23 13:11:14,283 - stopping_criterion - recpack - INFO - StoppingCriterion has value 0.21666666666666665, which is worse than previous iterations.\n",
      "2021-04-23 13:11:14,290 - base - recpack - INFO - Processed epoch 86 in 0.01 s. Batch Training Loss = 1.2049\n",
      "2021-04-23 13:11:14,298 - stopping_criterion - recpack - INFO - StoppingCriterion has value 0.21666666666666665, which is worse than previous iterations.\n",
      "2021-04-23 13:11:14,306 - base - recpack - INFO - Processed epoch 87 in 0.01 s. Batch Training Loss = 1.3524\n",
      "2021-04-23 13:11:14,314 - stopping_criterion - recpack - INFO - StoppingCriterion has value 0.21666666666666665, which is worse than previous iterations.\n",
      "2021-04-23 13:11:14,322 - base - recpack - INFO - Processed epoch 88 in 0.01 s. Batch Training Loss = 1.3782\n",
      "2021-04-23 13:11:14,328 - stopping_criterion - recpack - INFO - StoppingCriterion has value 0.21666666666666665, which is worse than previous iterations.\n",
      "2021-04-23 13:11:14,338 - base - recpack - INFO - Processed epoch 89 in 0.01 s. Batch Training Loss = 1.3993\n",
      "2021-04-23 13:11:14,344 - stopping_criterion - recpack - INFO - StoppingCriterion has value 0.21666666666666665, which is worse than previous iterations.\n",
      "2021-04-23 13:11:14,353 - base - recpack - INFO - Processed epoch 90 in 0.01 s. Batch Training Loss = 1.5284\n",
      "2021-04-23 13:11:14,359 - stopping_criterion - recpack - INFO - StoppingCriterion has value 0.21666666666666665, which is worse than previous iterations.\n",
      "2021-04-23 13:11:14,368 - base - recpack - INFO - Processed epoch 91 in 0.01 s. Batch Training Loss = 1.3544\n",
      "2021-04-23 13:11:14,376 - stopping_criterion - recpack - INFO - StoppingCriterion has value 0.21666666666666665, which is worse than previous iterations.\n",
      "2021-04-23 13:11:14,384 - base - recpack - INFO - Processed epoch 92 in 0.01 s. Batch Training Loss = 1.4158\n",
      "2021-04-23 13:11:14,392 - stopping_criterion - recpack - INFO - StoppingCriterion has value 0.21666666666666665, which is worse than previous iterations.\n",
      "2021-04-23 13:11:14,403 - base - recpack - INFO - Processed epoch 93 in 0.01 s. Batch Training Loss = 1.4566\n",
      "2021-04-23 13:11:14,410 - stopping_criterion - recpack - INFO - StoppingCriterion has value 0.21666666666666665, which is worse than previous iterations.\n",
      "2021-04-23 13:11:14,418 - base - recpack - INFO - Processed epoch 94 in 0.01 s. Batch Training Loss = 1.3842\n",
      "2021-04-23 13:11:14,425 - stopping_criterion - recpack - INFO - StoppingCriterion has value 0.21666666666666665, which is worse than previous iterations.\n",
      "2021-04-23 13:11:14,432 - base - recpack - INFO - Processed epoch 95 in 0.01 s. Batch Training Loss = 1.3466\n",
      "2021-04-23 13:11:14,439 - stopping_criterion - recpack - INFO - StoppingCriterion has value 0.21666666666666665, which is worse than previous iterations.\n",
      "2021-04-23 13:11:14,448 - base - recpack - INFO - Processed epoch 96 in 0.01 s. Batch Training Loss = 1.4283\n",
      "2021-04-23 13:11:14,455 - stopping_criterion - recpack - INFO - StoppingCriterion has value 0.21666666666666665, which is worse than previous iterations.\n",
      "2021-04-23 13:11:14,462 - base - recpack - INFO - Processed epoch 97 in 0.01 s. Batch Training Loss = 1.3297\n",
      "2021-04-23 13:11:14,470 - stopping_criterion - recpack - INFO - StoppingCriterion has value 0.21666666666666665, which is worse than previous iterations.\n",
      "2021-04-23 13:11:14,476 - base - recpack - INFO - Processed epoch 98 in 0.01 s. Batch Training Loss = 1.3824\n",
      "2021-04-23 13:11:14,484 - stopping_criterion - recpack - INFO - StoppingCriterion has value 0.21666666666666665, which is worse than previous iterations.\n",
      "2021-04-23 13:11:14,491 - base - recpack - INFO - Processed epoch 99 in 0.01 s. Batch Training Loss = 1.4041\n",
      "2021-04-23 13:11:14,500 - stopping_criterion - recpack - INFO - StoppingCriterion has value 0.21666666666666665, which is worse than previous iterations.\n",
      "2021-04-23 13:11:14,503 - base - recpack - INFO - fitting Prod2Vec complete - Took 1.61s\n"
     ]
    },
    {
     "data": {
      "text/plain": [
       "Prod2Vec(batch_size=6, embedding_size=2, keep_last=True, learning_rate=0.001,\n",
       "         max_epochs=100, min_improvement=1e-05, negative_samples=1,\n",
       "         stopping_criterion=<recpack.algorithms.stopping_criterion.StoppingCriterion object at 0x137ab2ac0>,\n",
       "         window_size=1)"
      ]
     },
     "execution_count": 5,
     "metadata": {},
     "output_type": "execute_result"
    }
   ],
   "source": [
    "prod2vec = p2v.Prod2Vec(\n",
    "    embedding_size=2,\n",
    "    negative_samples=1,\n",
    "    window_size=1,\n",
    "    stopping_criterion='precision',\n",
    "    max_epochs=100,\n",
    "    min_improvement=0.00001,\n",
    "    learning_rate=0.001,\n",
    "    batch_size=6,\n",
    "    keep_last=True     # Because we don't have a validation dataset, \n",
    "                       # we just keep training and give the last result rather than the best.\n",
    "                       # We are interested in overfitting the training data anyway \n",
    ")\n",
    "\n",
    "# Fit to the small matrix, \n",
    "# we don't really care about the validation data, so we can just make it m\n",
    "prod2vec.fit(m, (m, m))"
   ]
  },
  {
   "cell_type": "code",
   "execution_count": 6,
   "id": "adverse-magic",
   "metadata": {},
   "outputs": [
    {
     "data": {
      "text/plain": [
       "Parameter containing:\n",
       "tensor([[ 0.2138, -1.0723],\n",
       "        [ 0.0176,  0.8948],\n",
       "        [ 0.2105,  0.5667],\n",
       "        [-0.4055,  0.7590],\n",
       "        [ 0.4230,  0.9045]], requires_grad=True)"
      ]
     },
     "execution_count": 6,
     "metadata": {},
     "output_type": "execute_result"
    }
   ],
   "source": [
    "# Print the input embedding\n",
    "prod2vec.model_.input_embedding.weight"
   ]
  },
  {
   "cell_type": "code",
   "execution_count": 7,
   "id": "turned-traveler",
   "metadata": {},
   "outputs": [
    {
     "data": {
      "text/plain": [
       "Parameter containing:\n",
       "tensor([[-0.0117,  0.1809],\n",
       "        [-0.4091, -0.5479],\n",
       "        [ 0.4336,  0.2137],\n",
       "        [-0.4260,  1.0644],\n",
       "        [ 0.0359,  0.5424]], requires_grad=True)"
      ]
     },
     "execution_count": 7,
     "metadata": {},
     "output_type": "execute_result"
    }
   ],
   "source": [
    "# Print the output embedding\n",
    "prod2vec.model_.output_embedding.weight"
   ]
  },
  {
   "cell_type": "code",
   "execution_count": 8,
   "id": "comprehensive-resolution",
   "metadata": {},
   "outputs": [],
   "source": [
    "# Compute similarities between items.\n",
    "# Is the same as input_embedding @ output_embedding\n",
    "similarities = prod2vec.predict(diags([1, 1, 1, 1, 1]).tocsr()).toarray()"
   ]
  },
  {
   "cell_type": "code",
   "execution_count": 9,
   "id": "solid-divide",
   "metadata": {},
   "outputs": [
    {
     "data": {
      "text/plain": [
       "{'cola': 0, 'chips': 1, 'nuts': 2, 'cake': 3, 'beer': 4}"
      ]
     },
     "execution_count": 9,
     "metadata": {},
     "output_type": "execute_result"
    }
   ],
   "source": [
    "# For interpretability: \n",
    "# The mapping from item name to index in the matrices.\n",
    "d.preprocessor.item_id_mapping"
   ]
  },
  {
   "cell_type": "code",
   "execution_count": 10,
   "id": "metallic-indication",
   "metadata": {},
   "outputs": [
    {
     "data": {
      "text/plain": [
       "array([[ 0.        ,  0.50006241, -0.1365016 , -1.23240793, -0.57391232],\n",
       "       [ 0.1616227 ,  0.        ,  0.19889797,  0.94493109,  0.48596701],\n",
       "       [ 0.10003698, -0.39663592,  0.        ,  0.51357508,  0.3149569 ],\n",
       "       [ 0.14200912, -0.24998374, -0.01358683,  0.        ,  0.39711219],\n",
       "       [ 0.15863195, -0.66865623,  0.37676549,  0.78249115,  0.        ]])"
      ]
     },
     "execution_count": 10,
     "metadata": {},
     "output_type": "execute_result"
    }
   ],
   "source": [
    "# the similarities.\n",
    "similarities"
   ]
  },
  {
   "cell_type": "markdown",
   "id": "dominican-course",
   "metadata": {},
   "source": [
    "# Visualisation\n",
    "\n",
    "Similar visualisation as on https://ronxin.github.io/wevi/\n",
    "\n",
    "To use the wevi tool to learn from the same data, you can paste the following into the training data field of wevi:\n",
    "\n",
    "```\n",
    "cola|chips,cola|nuts,cola|cake,chips|beer,beer|nuts,chips|cake,cola|cake,chips|cola,nuts|cola,cake|chips,chips|cola,beer|chips,cake|cola\n",
    "```\n",
    "\n"
   ]
  },
  {
   "cell_type": "code",
   "execution_count": null,
   "id": "smaller-teach",
   "metadata": {},
   "outputs": [],
   "source": []
  }
 ],
 "metadata": {
  "kernelspec": {
   "display_name": "Python 3",
   "language": "python",
   "name": "python3"
  },
  "language_info": {
   "codemirror_mode": {
    "name": "ipython",
    "version": 3
   },
   "file_extension": ".py",
   "mimetype": "text/x-python",
   "name": "python",
   "nbconvert_exporter": "python",
   "pygments_lexer": "ipython3",
   "version": "3.9.2"
  }
 },
 "nbformat": 4,
 "nbformat_minor": 5
}
