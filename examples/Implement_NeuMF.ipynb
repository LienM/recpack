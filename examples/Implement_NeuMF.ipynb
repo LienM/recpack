{
  "cells": [
    {
      "cell_type": "code",
      "execution_count": 1,
      "id": "85c37828",
      "metadata": {
        "slideshow": {
          "slide_type": "skip"
        }
      },
      "outputs": [],
      "source": [
        "import numpy as np\n",
        "import pytest\n",
        "import torch\n",
        "from torch import nn\n",
        "\n",
        "from typing import Callable, List, Optional, Union"
      ]
    },
    {
      "cell_type": "markdown",
      "id": "c196de69",
      "metadata": {
        "slideshow": {
          "slide_type": "slide"
        }
      },
      "source": [
        "### Implementing MLP network\n"
      ]
    },
    {
      "cell_type": "code",
      "execution_count": 2,
      "id": "743b93a9",
      "metadata": {
        "slideshow": {
          "slide_type": "skip"
        }
      },
      "outputs": [],
      "source": [
        "class MLP(nn.Module):\n",
        "    \"\"\"A multi-layer perceptron module.\n",
        "    This module is a sequence of linear layers plus activation functions.\n",
        "    The user can optionally add normalization and/or dropout to each of the layers.\n",
        "    \n",
        "    Code used from https://github.com/facebookresearch/multimodal/blob/5dec8a/torchmultimodal/modules/layers/mlp.py\n",
        "    \n",
        "    :param in_dim: Input dimension.\n",
        "    :type in_dim: int\n",
        "    :param out_dim: Output dimension.\n",
        "    :type out_dim: int\n",
        "    :param hidden_dims: Output dimension for each hidden layer.\n",
        "    :type hidden_dims: Optional[Union[int, List[int]]] \n",
        "    :param dropout: Probability for dropout layers between each hidden layer.\n",
        "    :type dropout: float\n",
        "    :param activation: Which activation function to use. \n",
        "        Supports module type or partial.\n",
        "    :type activation: Callable[..., nn.Module]\n",
        "    \"\"\"\n",
        "    def __init__(\n",
        "        self, \n",
        "        in_dim: int, \n",
        "        out_dim: int,\n",
        "        hidden_dims: Optional[Union[int, List[int]]] = None,\n",
        "        dropout: float = 0.5,\n",
        "        activation: Callable[..., nn.Module] = nn.ReLU,\n",
        "    ):\n",
        "        super().__init__()\n",
        "\n",
        "        layers = nn.ModuleList()\n",
        "\n",
        "        if hidden_dims is None:\n",
        "            hidden_dims = []\n",
        "\n",
        "        if isinstance(hidden_dims, int):\n",
        "            hidden_dims = [hidden_dims]\n",
        "\n",
        "        for hidden_dim in hidden_dims:\n",
        "            layers.append(nn.Linear(in_dim, hidden_dim))\n",
        "            layers.append(activation())\n",
        "            layers.append(nn.Dropout(dropout))\n",
        "            in_dim = hidden_dim\n",
        "        layers.append(nn.Linear(in_dim, out_dim))\n",
        "        self.model = nn.Sequential(*layers)\n",
        "\n",
        "    def forward(self, x: torch.Tensor) -> torch.Tensor:\n",
        "        return self.model(x)"
      ]
    },
    {
      "cell_type": "code",
      "execution_count": 3,
      "id": "83fcd62d",
      "metadata": {
        "slideshow": {
          "slide_type": "skip"
        }
      },
      "outputs": [],
      "source": [
        "EMBEDDING_SIZE = 3\n",
        "N_USERS = 5\n",
        "N_ITEMS = 10\n",
        "a = MLP(2*EMBEDDING_SIZE, N_ITEMS, [6, 4, 2], dropout=0)"
      ]
    },
    {
      "cell_type": "markdown",
      "id": "cea26454",
      "metadata": {
        "slideshow": {
          "slide_type": "slide"
        }
      },
      "source": [
        "## Implementing the Neural Architecture\n",
        "\n"
      ]
    },
    {
      "cell_type": "code",
      "execution_count": 4,
      "id": "34a78b55",
      "metadata": {
        "slideshow": {
          "slide_type": "skip"
        }
      },
      "outputs": [],
      "source": [
        "class NMFModule(nn.Module):\n",
        "    \"\"\"Model that encodes the Neural Matrix Factorization Network.\n",
        "    \n",
        "    Implements the 3 tiered network defined in the He et al. paper.\n",
        "\n",
        "    :param predictive_powers: size of the last hidden layer in MLP.\n",
        "        Embedding sizes computed as 2 * predictive powers.\n",
        "    :type predictive_powers: int\n",
        "    :param n_users: number of users in the network\n",
        "    :type n_users: int\n",
        "    :param n_items: number of items in the network\n",
        "    :type n_items: int\n",
        "    :param hidden_dims: dimensions of the MLP hidden layers.\n",
        "    :type hidden_dims: Union[int, List[int]]\n",
        "    :param dropout: Dropout chance between layers of the MLP\n",
        "    :type dropout: float\n",
        "    \"\"\"\n",
        "    def __init__(\n",
        "        self, predictive_powers: int, n_users: int, n_items: int, dropout: float\n",
        "    ):\n",
        "        super().__init__()\n",
        "        num_components = 2 * predictive_powers\n",
        "        \n",
        "        self.user_embedding = nn.Embedding(n_users, num_components)\n",
        "        self.item_embedding = nn.Embedding(n_items, num_components)\n",
        "\n",
        "        # we use a three tiered MLP as described in the experiments of the paper.\n",
        "        hidden_dims = [\n",
        "            4 * predictive_powers, \n",
        "            2 * predictive_powers, \n",
        "            predictive_powers\n",
        "        ]\n",
        "\n",
        "        # Output is always 1, since we need a single score for u,i\n",
        "        self.mlp = MLP(4 * predictive_powers, 1, \n",
        "                       hidden_dims, dropout=dropout)\n",
        "\n",
        "        self.final = nn.Sigmoid()\n",
        "\n",
        "        # weight initialization\n",
        "        self.user_embedding.weight.data.normal_(0, \n",
        "            1.0 / self.user_embedding.embedding_dim)\n",
        "        self.item_embedding.weight.data.normal_(0, \n",
        "            1.0 / self.item_embedding.embedding_dim)\n",
        "        \n",
        "    def forward(self, users: torch.LongTensor, items: torch.LongTensor) -> torch.FloatTensor:\n",
        "        \"\"\"Predict scores for the user item pairs obtained \n",
        "        by zipping together the two inputs\n",
        "\n",
        "        :param users: 1D tensor with user ids\n",
        "        :type users: torch.LongTensor\n",
        "        :param items: 1D tensor with item ids\n",
        "        :type items: torch.LongTensor\n",
        "        :return: 1D tensor with predicted similarities.\n",
        "            Position i is the similarity between \n",
        "            `users[i]` and `items[i]`\n",
        "        :rtype: torch.FloatTensor\n",
        "        \"\"\"\n",
        "\n",
        "        # Embedding lookups\n",
        "        user_emb = self.user_embedding(users)\n",
        "        item_emb = self.item_embedding(items)\n",
        "\n",
        "        # Pass concatenated through MLP and apply sigmoid\n",
        "        return self.final(\n",
        "            self.mlp(\n",
        "                torch.hstack([user_emb, item_emb])\n",
        "            )\n",
        "        )"
      ]
    },
    {
      "cell_type": "code",
      "execution_count": 5,
      "id": "b8bcb491",
      "metadata": {
        "slideshow": {
          "slide_type": "skip"
        }
      },
      "outputs": [],
      "source": [
        "def test_output_shapes_NMF(\n",
        "    predictive_factors, num_users, num_items\n",
        "):\n",
        "    \"\"\"Check that no mather the inner settings of the network, the output is always correct\"\"\"\n",
        "    mod = NMFModule(predictive_factors, num_users, num_items, 0.0)\n",
        "    \n",
        "    user_tensor = torch.LongTensor([1, 2])\n",
        "    item_tensor = torch.LongTensor([1, 2])\n",
        "    \n",
        "    res = mod(user_tensor, item_tensor) # predict scores for items given the users\n",
        "    \n",
        "    assert res.shape == (2, 1)\n",
        "\n",
        "    assert (res.detach().numpy() <= 1).all()\n",
        "    assert (res.detach().numpy() >= 0).all()\n",
        "\n",
        "\n",
        "test_output_shapes_NMF(5, 10, 10)\n",
        "test_output_shapes_NMF(5, 3, 10)\n",
        "test_output_shapes_NMF(1, 3, 3)\n",
        "\n"
      ]
    },
    {
      "cell_type": "code",
      "execution_count": 6,
      "id": "3c07d570",
      "metadata": {
        "slideshow": {
          "slide_type": "skip"
        }
      },
      "outputs": [],
      "source": [
        "from typing import List, Union, Optional\n",
        "\n",
        "import pandas as pd\n",
        "from recpack.algorithms.base import TorchMLAlgorithm\n",
        "from recpack.algorithms.samplers import PositiveNegativeSampler\n",
        "from recpack.algorithms.util import get_users\n",
        "from recpack.matrix import InteractionMatrix\n",
        "from scipy.sparse import csr_matrix, lil_matrix\n"
      ]
    },
    {
      "cell_type": "markdown",
      "id": "217f8d30",
      "metadata": {
        "slideshow": {
          "slide_type": "slide"
        }
      },
      "source": [
        "## Implementing the algorithm"
      ]
    },
    {
      "cell_type": "code",
      "execution_count": 7,
      "id": "e359a201",
      "metadata": {
        "slideshow": {
          "slide_type": "skip"
        }
      },
      "outputs": [],
      "source": [
        "class NeuMF(TorchMLAlgorithm):\n",
        "    \"\"\"Implementation of Neural Matrix Factoration.\n",
        "\n",
        "    Neural Matrix Factorization based on MLP architecture\n",
        "    as presented in Figure 2 in He, Xiangnan, et al. \n",
        "    \"Neural collaborative filtering.\"\n",
        "    In Proceedings of the 26th international conference on world wide web. 2017.\n",
        "\n",
        "    Represents the users and items using an embedding, \n",
        "    similarity between the two is modelled using a neural network.\n",
        "\n",
        "    The network consists of an embedding for both users and items.\n",
        "    To compute similarity those two embeddings are \n",
        "    concatenated and passed through the MLP\n",
        "    Finally the similarity is transformed to the [0,1] domain\n",
        "    using a sigmoid function.\n",
        "\n",
        "    As in the paper, the sum of square errors is used as loss function.\n",
        "    Positive items should get a prediction close to 1, \n",
        "    while sampled negatives should get a value close to 0.\n",
        "\n",
        "    The MLP has 3 layers, as suggested in the experiments section.\n",
        "    Bottom layer has dimension `4 * predictive_powers`, \n",
        "    middle layer `2 * predictive_powers`\n",
        "    and the top layer has `predictive_powers`.\n",
        "\n",
        "    :param predictive_powers: Size of the last hidden layer in the MLP network.\n",
        "        Embedding size is 2 * predictive_powers\n",
        "    :type predictive_powers: int\n",
        "    :param batch_size: How many samples to use in each update step.\n",
        "        Higher batch sizes make each epoch more efficient,\n",
        "        but increases the amount of epochs needed to converge to the optimum,\n",
        "        by reducing the amount of updates per epoch.\n",
        "        Defaults to 512.\n",
        "    :type batch_size: Optional[int]\n",
        "    :param max_epochs: The max number of epochs to train.\n",
        "        If the stopping criterion uses early stopping, less epochs could be used.\n",
        "        Defaults to 10.\n",
        "    :type max_epochs: Optional[int]\n",
        "    :param learning_rate: How much to update the weights at each update. Defaults to 0.01\n",
        "    :type learning_rate: Optional[float]\n",
        "    :param stopping_criterion: Name of the stopping criterion to use for training.\n",
        "        For available values,\n",
        "        check :meth:`recpack.algorithms.stopping_criterion.StoppingCriterion.FUNCTIONS`\n",
        "        Defaults to 'ndcg'\n",
        "    :type stopping_criterion: Optional[str]\n",
        "    :param stop_early: If True, early stopping is enabled,\n",
        "        and after ``max_iter_no_change`` iterations where improvement of loss function\n",
        "        is below ``min_improvement`` the optimisation is stopped,\n",
        "        even if max_epochs is not reached.\n",
        "        Defaults to False\n",
        "    :type stop_early: bool, optional\n",
        "    :param max_iter_no_change: If early stopping is enabled,\n",
        "        stop after this amount of iterations without change.\n",
        "        Defaults to 5\n",
        "    :type max_iter_no_change: int, optional\n",
        "    :param min_improvement: If early stopping is enabled, no change is detected,\n",
        "        if the improvement is below this value.\n",
        "        Defaults to 0.01\n",
        "    :type min_improvement: float, optional\n",
        "    :param seed: Seed to the randomizers, useful for reproducible results,\n",
        "        defaults to None\n",
        "    :type seed: int, optional\n",
        "    :param save_best_to_file: If true, the best model will be saved after training,\n",
        "        defaults to False\n",
        "    :type save_best_to_file: bool, optional\n",
        "    :param keep_last: Retain last model, rather than best\n",
        "        (according to stopping criterion value on validation data), defaults to False\n",
        "    :type keep_last: bool, optional\n",
        "    :param predict_topK: The topK recommendations to keep per row in the matrix.\n",
        "        Use when the user x item output matrix would become too large for RAM.\n",
        "        Defaults to None, which results in no filtering.\n",
        "    :type predict_topK: int, optional\n",
        "    :param n_negatives_per_positive: Amount of negatives to sample for each positive example, defaults to 1\n",
        "    :type n_negatives_per_positive: int, optional\n",
        "    :param dropout: Dropout parameter used in MLP, defaults to 0.0\n",
        "    :type dropout: float, optional\n",
        "    :param exact_sampling: Enable or disable exact checks while sampling. \n",
        "        With exact sampling the sampled negatives are guaranteed to not have been visited by the user. \n",
        "        Non exact sampling assumes that the space for item selection is large enough, \n",
        "        such that most items are likely not seen before.\n",
        "        Defaults to False,\n",
        "    :type exact_sampling: bool, optional\n",
        "    \"\"\"\n",
        "    def __init__(\n",
        "        self,\n",
        "        predictive_factors: int,\n",
        "        batch_size: Optional[int] = 512,\n",
        "        max_epochs: Optional[int] = 10,\n",
        "        learning_rate: Optional[float] = 0.01,\n",
        "        stopping_criterion: Optional[str] = \"ndcg\",\n",
        "        stop_early: Optional[bool] = False,\n",
        "        max_iter_no_change: Optional[int] = 5,\n",
        "        min_improvement: Optional[float] = 0.0,\n",
        "        seed: Optional[int] = None,\n",
        "        save_best_to_file: Optional[bool] = False,\n",
        "        keep_last: Optional[bool] = False,\n",
        "        predict_topK: Optional[int] = None,\n",
        "        n_negatives_per_positive: Optional[int] = 1,\n",
        "        exact_sampling: Optional[bool] = False,\n",
        "        dropout: Optional[float] = 0.0,\n",
        "    ):\n",
        "        print(batch_size, max_epochs, learning_rate, stopping_criterion)\n",
        "        super().__init__(batch_size, max_epochs, learning_rate,\n",
        "            stopping_criterion, stop_early, max_iter_no_change,\n",
        "            min_improvement, seed, save_best_to_file, keep_last,\n",
        "            predict_topK,\n",
        "        )\n",
        "\n",
        "        self.predictive_factors = predictive_factors\n",
        "\n",
        "        self.n_negatives_per_positive = n_negatives_per_positive\n",
        "        self.dropout = dropout\n",
        "        self.exact_sampling = exact_sampling\n",
        "\n",
        "        self.sampler = PositiveNegativeSampler(\n",
        "            num_negatives=self.n_negatives_per_positive, replace=False, exact=exact_sampling, \n",
        "            batch_size=self.batch_size\n",
        "        )\n",
        "\n",
        "    def _init_model(self, X: csr_matrix):\n",
        "        num_users, num_items = X.shape\n",
        "        self.model_ = NMFModule(\n",
        "            self.predictive_factors, num_users, num_items, self.dropout\n",
        "        ).to(self.device)\n",
        "\n",
        "        self.optimizer = torch.optim.Adam(\n",
        "            self.model_.parameters(), lr=self.learning_rate\n",
        "        )\n",
        "        \n",
        "    def _train_epoch(self, X: csr_matrix) -> List[int]:\n",
        "        losses = []\n",
        "        for users, positives, negatives in self.sampler.sample(X):\n",
        "\n",
        "            self.optimizer.zero_grad()\n",
        "\n",
        "            # Predict for the positives\n",
        "            positive_scores = self.model_(\n",
        "                users.to(self.device), positives.to(self.device))\n",
        "            # Predict for the negatives\n",
        "            negative_scores = self.model_(\n",
        "                *self._construct_negative_prediction_input(\n",
        "                    users.to(self.device), negatives.to(self.device))\n",
        "            )\n",
        "\n",
        "            loss = self._compute_loss(\n",
        "                positive_scores, negative_scores)\n",
        "\n",
        "            # Backwards propagation of the loss\n",
        "            loss.backward()\n",
        "            self.optimizer.step()\n",
        "\n",
        "            losses.append(loss.item())\n",
        "\n",
        "        return losses\n",
        "\n",
        "    def _compute_loss(\n",
        "        self, positive_scores: torch.FloatTensor, negative_scores: torch.FloatTensor\n",
        "    ) -> torch.FloatTensor:\n",
        "        \"\"\"Compute the Square Error loss given recommendations \n",
        "        for positive items, and sampled negatives.\n",
        "        \"\"\"\n",
        "\n",
        "        mse = nn.MSELoss(reduction=\"sum\")\n",
        "        return mse(positive_scores, torch.ones_like(positive_scores, dtype=torch.float)) + mse(\n",
        "            negative_scores, torch.zeros_like(negative_scores, dtype=torch.float)\n",
        "        )\n",
        "\n",
        "    def _construct_negative_prediction_input(self, users, negatives):\n",
        "        \"\"\"Construct the prediction input given a 1D user tensor and a 2D negatives tensor.\n",
        "        \n",
        "        Since negatives has shape |batch| x U, and users is a 1d vector,\n",
        "        these need to be turned into two 1D vectors of shape |batch| * U\n",
        "\n",
        "        First the users as a row are stacked U times and transposed,\n",
        "        so that this is also a batch x U tensor.\n",
        "        Then both are reshaped to remove the 2nd dimension, \n",
        "        resulting in a single long 1d vector.\n",
        "        \"\"\"\n",
        "        return (\n",
        "            users.repeat(self.n_negatives_per_positive, 1).T.reshape(-1), \n",
        "            negatives.reshape(-1)\n",
        "        )\n",
        "    \n",
        "    def _batch_predict(\n",
        "        self, X: csr_matrix, users: List[int]\n",
        "    ) -> csr_matrix:\n",
        "        \"\"\"Generate recommendations for each of the users.\"\"\"\n",
        "\n",
        "        X_pred = lil_matrix(X.shape)\n",
        "        if users is None:\n",
        "            users = get_users(X)\n",
        "\n",
        "        _, n_items = X.shape\n",
        "        n_users = len(users)\n",
        "\n",
        "        # Create tensors such that each user, item pair gets a score.\n",
        "        # The user tensor contains the users in order \n",
        "        # (eg. [1, 1, 2, 2]), \n",
        "        # item indices are repeated (eg. [0, 1, 2, 0, 1, 2]).\n",
        "        user_tensor = torch.LongTensor(users).repeat(\n",
        "            n_items, 1).T.reshape(-1).to(self.device)\n",
        "        item_tensor = torch.arange(n_items).repeat(\n",
        "            n_users).to(self.device)\n",
        "\n",
        "        X_pred[users] = self.model_(\n",
        "            user_tensor, item_tensor\n",
        "        ).detach().cpu().numpy().reshape(n_users, n_items)\n",
        "        return X_pred.tocsr()"
      ]
    },
    {
      "cell_type": "code",
      "execution_count": 8,
      "id": "9ca8f574",
      "metadata": {
        "slideshow": {
          "slide_type": "skip"
        }
      },
      "outputs": [],
      "source": [
        "TIMESTAMP_IX = 'ts'\n",
        "ITEM_IX = 'iid'\n",
        "USER_IX = 'uid'\n",
        "\n",
        "data = {\n",
        "    TIMESTAMP_IX: [3, 2, 1, 4, 0, 1, 2, 4, 0, 1, 2],\n",
        "    ITEM_IX: [0, 1, 2, 3, 0, 1, 2, 4, 0, 1, 2],\n",
        "    USER_IX: [0, 0, 1, 1, 2, 2, 3, 3, 4, 4, 5],\n",
        "}\n",
        "df = pd.DataFrame.from_dict(data)\n",
        "\n",
        "mat = InteractionMatrix(df, ITEM_IX, USER_IX, timestamp_ix=TIMESTAMP_IX)\n"
      ]
    },
    {
      "cell_type": "code",
      "execution_count": 9,
      "id": "ed4d2e7d",
      "metadata": {
        "slideshow": {
          "slide_type": "skip"
        }
      },
      "outputs": [
        {
          "name": "stdout",
          "output_type": "stream",
          "text": [
            "512 10 0.01 ndcg\n",
            "512 10 0.01 ndcg\n"
          ]
        }
      ],
      "source": [
        "def test_negative_input_construction(users, negatives, U):\n",
        "    \n",
        "    a = NeuMF(\n",
        "        predictive_factors=8, \n",
        "        n_negatives_per_positive=U\n",
        "    )\n",
        "    \n",
        "    num_users = users.shape[0]\n",
        "    users_input, negatives_input = a._construct_negative_prediction_input(users, negatives)\n",
        "    assert users_input.shape == negatives_input.shape\n",
        "    assert len(users_input.shape) == 1 # 1d vectors\n",
        "    \n",
        "    # Check that both are in the right order (each user is repeated U times before the next user is present)\n",
        "    for ix in range(users_input.shape[0]):\n",
        "        assert users_input[ix] == users[ix // U]\n",
        "        assert negatives_input[ix] == negatives[ix // U, ix % U]\n",
        "\n",
        "test_negative_input_construction(torch.LongTensor([4, 5, 6]), torch.LongTensor([[1, 2], [1, 2], [1, 2]]), U=2)\n",
        "test_negative_input_construction(torch.LongTensor([4, 5, 6]), torch.LongTensor([[1], [1], [1]]), U=1)\n"
      ]
    },
    {
      "cell_type": "code",
      "execution_count": 10,
      "id": "7f31c898",
      "metadata": {
        "scrolled": true,
        "slideshow": {
          "slide_type": "skip"
        }
      },
      "outputs": [
        {
          "name": "stdout",
          "output_type": "stream",
          "text": [
            "1 20 0.02 ndcg\n",
            "2022-10-20 10:02:57,527 - base - recpack - INFO - Processed epoch 0 in 0.10 s.Batch Training Loss = 0.5039\n",
            "2022-10-20 10:02:57,573 - stopping_criterion - recpack - INFO - StoppingCriterion has value 0.8767380337977416, which is better than previous iterations.\n",
            "2022-10-20 10:02:57,600 - base - recpack - INFO - Model improved. Storing better model.\n",
            "2022-10-20 10:02:57,606 - base - recpack - INFO - Evaluation at end of 0 took 0.07 s.\n",
            "2022-10-20 10:02:57,684 - base - recpack - INFO - Processed epoch 1 in 0.08 s.Batch Training Loss = 0.5008\n",
            "2022-10-20 10:02:57,711 - stopping_criterion - recpack - INFO - StoppingCriterion has value 0.7690688380178908, which is worse than previous iterations.\n",
            "2022-10-20 10:02:57,715 - base - recpack - INFO - Evaluation at end of 1 took 0.03 s.\n",
            "2022-10-20 10:02:57,840 - base - recpack - INFO - Processed epoch 2 in 0.12 s.Batch Training Loss = 0.5013\n",
            "2022-10-20 10:02:57,864 - stopping_criterion - recpack - INFO - StoppingCriterion has value 0.7690688380178908, which is worse than previous iterations.\n",
            "2022-10-20 10:02:57,865 - base - recpack - INFO - Evaluation at end of 2 took 0.02 s.\n",
            "2022-10-20 10:02:57,957 - base - recpack - INFO - Processed epoch 3 in 0.09 s.Batch Training Loss = 0.4958\n",
            "2022-10-20 10:02:57,982 - stopping_criterion - recpack - INFO - StoppingCriterion has value 0.7690688380178909, which is worse than previous iterations.\n",
            "2022-10-20 10:02:57,983 - base - recpack - INFO - Evaluation at end of 3 took 0.02 s.\n",
            "2022-10-20 10:02:58,065 - base - recpack - INFO - Processed epoch 4 in 0.08 s.Batch Training Loss = 0.4855\n",
            "2022-10-20 10:02:58,086 - stopping_criterion - recpack - INFO - StoppingCriterion has value 0.7690688380178908, which is worse than previous iterations.\n",
            "2022-10-20 10:02:58,087 - base - recpack - INFO - Evaluation at end of 4 took 0.02 s.\n",
            "2022-10-20 10:02:58,171 - base - recpack - INFO - Processed epoch 5 in 0.08 s.Batch Training Loss = 0.4368\n",
            "2022-10-20 10:02:58,190 - stopping_criterion - recpack - INFO - StoppingCriterion has value 0.7690688380178908, which is worse than previous iterations.\n",
            "2022-10-20 10:02:58,195 - base - recpack - INFO - Evaluation at end of 5 took 0.02 s.\n",
            "2022-10-20 10:02:58,260 - base - recpack - INFO - Processed epoch 6 in 0.06 s.Batch Training Loss = 0.3955\n",
            "2022-10-20 10:02:58,277 - stopping_criterion - recpack - INFO - StoppingCriterion has value 0.7690688380178908, which is worse than previous iterations.\n",
            "2022-10-20 10:02:58,279 - base - recpack - INFO - Evaluation at end of 6 took 0.02 s.\n",
            "2022-10-20 10:02:58,342 - base - recpack - INFO - Processed epoch 7 in 0.06 s.Batch Training Loss = 0.3073\n",
            "2022-10-20 10:02:58,365 - stopping_criterion - recpack - INFO - StoppingCriterion has value 0.7690688380178908, which is worse than previous iterations.\n",
            "2022-10-20 10:02:58,366 - base - recpack - INFO - Evaluation at end of 7 took 0.02 s.\n",
            "2022-10-20 10:02:58,445 - base - recpack - INFO - Processed epoch 8 in 0.08 s.Batch Training Loss = 0.3576\n",
            "2022-10-20 10:02:58,463 - stopping_criterion - recpack - INFO - StoppingCriterion has value 0.8712600368121339, which is worse than previous iterations.\n",
            "2022-10-20 10:02:58,465 - base - recpack - INFO - Evaluation at end of 8 took 0.02 s.\n",
            "2022-10-20 10:02:58,535 - base - recpack - INFO - Processed epoch 9 in 0.07 s.Batch Training Loss = 0.2715\n",
            "2022-10-20 10:02:58,554 - stopping_criterion - recpack - INFO - StoppingCriterion has value 0.8712600368121339, which is worse than previous iterations.\n",
            "2022-10-20 10:02:58,555 - base - recpack - INFO - Evaluation at end of 9 took 0.02 s.\n",
            "2022-10-20 10:02:58,639 - base - recpack - INFO - Processed epoch 10 in 0.08 s.Batch Training Loss = 0.2785\n",
            "2022-10-20 10:02:58,664 - stopping_criterion - recpack - INFO - StoppingCriterion has value 0.8712600368121339, which is worse than previous iterations.\n",
            "2022-10-20 10:02:58,665 - base - recpack - INFO - Evaluation at end of 10 took 0.02 s.\n",
            "2022-10-20 10:02:58,730 - base - recpack - INFO - Processed epoch 11 in 0.06 s.Batch Training Loss = 0.2529\n",
            "2022-10-20 10:02:58,749 - stopping_criterion - recpack - INFO - StoppingCriterion has value 0.891724150922459, which is better than previous iterations.\n",
            "2022-10-20 10:02:58,752 - base - recpack - INFO - Model improved. Storing better model.\n",
            "2022-10-20 10:02:58,761 - base - recpack - INFO - Evaluation at end of 11 took 0.03 s.\n",
            "2022-10-20 10:02:58,838 - base - recpack - INFO - Processed epoch 12 in 0.08 s.Batch Training Loss = 0.2294\n",
            "2022-10-20 10:02:58,860 - stopping_criterion - recpack - INFO - StoppingCriterion has value 0.9032867981913645, which is better than previous iterations.\n",
            "2022-10-20 10:02:58,861 - base - recpack - INFO - Model improved. Storing better model.\n",
            "2022-10-20 10:02:58,868 - base - recpack - INFO - Evaluation at end of 12 took 0.03 s.\n",
            "2022-10-20 10:02:58,945 - base - recpack - INFO - Processed epoch 13 in 0.08 s.Batch Training Loss = 0.1953\n",
            "2022-10-20 10:02:58,963 - stopping_criterion - recpack - INFO - StoppingCriterion has value 0.9032867981913645, which is worse than previous iterations.\n",
            "2022-10-20 10:02:58,965 - base - recpack - INFO - Evaluation at end of 13 took 0.02 s.\n",
            "2022-10-20 10:02:59,027 - base - recpack - INFO - Processed epoch 14 in 0.06 s.Batch Training Loss = 0.1986\n",
            "2022-10-20 10:02:59,044 - stopping_criterion - recpack - INFO - StoppingCriterion has value 0.9032867981913645, which is worse than previous iterations.\n",
            "2022-10-20 10:02:59,046 - base - recpack - INFO - Evaluation at end of 14 took 0.02 s.\n",
            "2022-10-20 10:02:59,115 - base - recpack - INFO - Processed epoch 15 in 0.06 s.Batch Training Loss = 0.1912\n",
            "2022-10-20 10:02:59,135 - stopping_criterion - recpack - INFO - StoppingCriterion has value 0.9866201315246977, which is better than previous iterations.\n",
            "2022-10-20 10:02:59,136 - base - recpack - INFO - Model improved. Storing better model.\n",
            "2022-10-20 10:02:59,147 - base - recpack - INFO - Evaluation at end of 15 took 0.03 s.\n",
            "2022-10-20 10:02:59,208 - base - recpack - INFO - Processed epoch 16 in 0.06 s.Batch Training Loss = 0.1567\n",
            "2022-10-20 10:02:59,224 - stopping_criterion - recpack - INFO - StoppingCriterion has value 0.9732402630493957, which is worse than previous iterations.\n",
            "2022-10-20 10:02:59,226 - base - recpack - INFO - Evaluation at end of 16 took 0.02 s.\n",
            "2022-10-20 10:02:59,286 - base - recpack - INFO - Processed epoch 17 in 0.06 s.Batch Training Loss = 0.2121\n",
            "2022-10-20 10:02:59,303 - stopping_criterion - recpack - INFO - StoppingCriterion has value 0.9866201315246979, which is better than previous iterations.\n",
            "2022-10-20 10:02:59,305 - base - recpack - INFO - Model improved. Storing better model.\n",
            "2022-10-20 10:02:59,313 - base - recpack - INFO - Evaluation at end of 17 took 0.03 s.\n",
            "2022-10-20 10:02:59,379 - base - recpack - INFO - Processed epoch 18 in 0.06 s.Batch Training Loss = 0.1480\n",
            "2022-10-20 10:02:59,400 - stopping_criterion - recpack - INFO - StoppingCriterion has value 0.9999999999999999, which is better than previous iterations.\n",
            "2022-10-20 10:02:59,402 - base - recpack - INFO - Model improved. Storing better model.\n",
            "2022-10-20 10:02:59,410 - base - recpack - INFO - Evaluation at end of 18 took 0.03 s.\n",
            "2022-10-20 10:02:59,482 - base - recpack - INFO - Processed epoch 19 in 0.07 s.Batch Training Loss = 0.0817\n",
            "2022-10-20 10:02:59,499 - stopping_criterion - recpack - INFO - StoppingCriterion has value 0.9866201315246977, which is worse than previous iterations.\n",
            "2022-10-20 10:02:59,503 - base - recpack - INFO - Evaluation at end of 19 took 0.02 s.\n",
            "2022-10-20 10:02:59,510 - base - recpack - INFO - Fitting NeuMF complete - Took 2.1s\n"
          ]
        }
      ],
      "source": [
        "def test_overfit(mat):\n",
        "    m = NeuMF(\n",
        "        predictive_factors=5,\n",
        "        batch_size=1,\n",
        "        max_epochs=20,\n",
        "        learning_rate=0.02,\n",
        "        stopping_criterion=\"ndcg\",\n",
        "        n_negatives_per_positive=1,\n",
        "    )\n",
        "\n",
        "    # set sampler to exact sampling\n",
        "    m.sampler.exact = True\n",
        "    m.fit(mat, (mat, mat))\n",
        "    bin_mat = mat.binary_values\n",
        "    pred = m.predict(mat.binary_values).toarray()\n",
        "    for user in mat.active_users:\n",
        "        # The model should have overfitted, so that the visited items have the highest similarities\n",
        "        positives = bin_mat[user].nonzero()[1]\n",
        "        negatives = list(set(range(mat.shape[1])) - set(positives))\n",
        "\n",
        "        for item in positives:\n",
        "            assert (pred[user][negatives] < pred[user, item]).all()\n",
        "            \n",
        "test_overfit(mat)\n",
        "    "
      ]
    },
    {
      "cell_type": "markdown",
      "id": "4b414610",
      "metadata": {
        "slideshow": {
          "slide_type": "slide"
        }
      },
      "source": [
        "## Experiment\n",
        "\n",
        "Use RecPack Pipeline to compare the newly implemented algorithm to frequently used baselines"
      ]
    },
    {
      "cell_type": "code",
      "execution_count": 11,
      "id": "f3225456",
      "metadata": {
        "slideshow": {
          "slide_type": "subslide"
        }
      },
      "outputs": [],
      "source": [
        "from recpack.pipelines import PipelineBuilder\n",
        "from recpack.datasets import DummyDataset\n",
        "from recpack.scenarios import WeakGeneralization"
      ]
    },
    {
      "cell_type": "code",
      "execution_count": 12,
      "id": "345019f0",
      "metadata": {
        "slideshow": {
          "slide_type": "subslide"
        }
      },
      "outputs": [
        {
          "data": {
            "application/vnd.jupyter.widget-view+json": {
              "model_id": "9941deb6c0a64e1eb44b59a9abb7bb2b",
              "version_major": 2,
              "version_minor": 0
            },
            "text/plain": [
              "  0%|          | 0/496 [00:00<?, ?it/s]"
            ]
          },
          "metadata": {},
          "output_type": "display_data"
        },
        {
          "data": {
            "application/vnd.jupyter.widget-view+json": {
              "model_id": "1abef36cb4b5409c8769da4bf3edcf85",
              "version_major": 2,
              "version_minor": 0
            },
            "text/plain": [
              "  0%|          | 0/496 [00:00<?, ?it/s]"
            ]
          },
          "metadata": {},
          "output_type": "display_data"
        }
      ],
      "source": [
        "dataset = DummyDataset()\n",
        "data = dataset.load()"
      ]
    },
    {
      "cell_type": "code",
      "execution_count": 13,
      "id": "a5a8b9ab",
      "metadata": {
        "slideshow": {
          "slide_type": "subslide"
        }
      },
      "outputs": [
        {
          "data": {
            "application/vnd.jupyter.widget-view+json": {
              "model_id": "eb7eed63c6d3435fbec429c96dc37be9",
              "version_major": 2,
              "version_minor": 0
            },
            "text/plain": [
              "0it [00:00, ?it/s]"
            ]
          },
          "metadata": {},
          "output_type": "display_data"
        },
        {
          "data": {
            "application/vnd.jupyter.widget-view+json": {
              "model_id": "88ca57c82c1f4eb88fe17a99e8cc3bcb",
              "version_major": 2,
              "version_minor": 0
            },
            "text/plain": [
              "0it [00:00, ?it/s]"
            ]
          },
          "metadata": {},
          "output_type": "display_data"
        }
      ],
      "source": [
        "scenario = WeakGeneralization(frac_data_in=0.8, validation=True)\n",
        "scenario.split(data)"
      ]
    },
    {
      "cell_type": "code",
      "execution_count": 14,
      "id": "ba6aa1bc",
      "metadata": {
        "slideshow": {
          "slide_type": "subslide"
        }
      },
      "outputs": [],
      "source": [
        "from recpack.pipelines import ALGORITHM_REGISTRY\n",
        "ALGORITHM_REGISTRY.register('NeuMF', NeuMF)"
      ]
    },
    {
      "cell_type": "code",
      "execution_count": 15,
      "id": "2c46caa2",
      "metadata": {
        "slideshow": {
          "slide_type": "subslide"
        }
      },
      "outputs": [
        {
          "data": {
            "application/vnd.jupyter.widget-view+json": {
              "model_id": "2e17e81a38c84f749f7e2cd7ea6486f3",
              "version_major": 2,
              "version_minor": 0
            },
            "text/plain": [
              "  0%|          | 0/3 [00:00<?, ?it/s]"
            ]
          },
          "metadata": {},
          "output_type": "display_data"
        },
        {
          "name": "stdout",
          "output_type": "stream",
          "text": [
            "128 10 0.001 ndcg\n",
            "2022-10-20 10:03:00,706 - base - recpack - INFO - Processed epoch 0 in 0.03 s.Batch Training Loss = 126.7962\n",
            "2022-10-20 10:03:00,732 - stopping_criterion - recpack - INFO - StoppingCriterion has value 0.10464415522960299, which is better than previous iterations.\n",
            "2022-10-20 10:03:00,732 - base - recpack - INFO - Model improved. Storing better model.\n",
            "2022-10-20 10:03:00,739 - base - recpack - INFO - Evaluation at end of 0 took 0.03 s.\n",
            "2022-10-20 10:03:00,757 - base - recpack - INFO - Processed epoch 1 in 0.02 s.Batch Training Loss = 125.1835\n",
            "2022-10-20 10:03:00,775 - stopping_criterion - recpack - INFO - StoppingCriterion has value 0.10721834575607861, which is better than previous iterations.\n",
            "2022-10-20 10:03:00,776 - base - recpack - INFO - Model improved. Storing better model.\n",
            "2022-10-20 10:03:00,781 - base - recpack - INFO - Evaluation at end of 1 took 0.02 s.\n",
            "2022-10-20 10:03:00,813 - base - recpack - INFO - Processed epoch 2 in 0.03 s.Batch Training Loss = 123.6661\n",
            "2022-10-20 10:03:00,831 - stopping_criterion - recpack - INFO - StoppingCriterion has value 0.11299572924634357, which is better than previous iterations.\n",
            "2022-10-20 10:03:00,832 - base - recpack - INFO - Model improved. Storing better model.\n",
            "2022-10-20 10:03:00,837 - base - recpack - INFO - Evaluation at end of 2 took 0.02 s.\n",
            "2022-10-20 10:03:00,852 - base - recpack - INFO - Processed epoch 3 in 0.01 s.Batch Training Loss = 122.2019\n",
            "2022-10-20 10:03:00,876 - stopping_criterion - recpack - INFO - StoppingCriterion has value 0.128050046013507, which is better than previous iterations.\n",
            "2022-10-20 10:03:00,877 - base - recpack - INFO - Model improved. Storing better model.\n",
            "2022-10-20 10:03:00,882 - base - recpack - INFO - Evaluation at end of 3 took 0.03 s.\n",
            "2022-10-20 10:03:00,897 - base - recpack - INFO - Processed epoch 4 in 0.01 s.Batch Training Loss = 120.7638\n",
            "2022-10-20 10:03:00,914 - stopping_criterion - recpack - INFO - StoppingCriterion has value 0.11264392678752963, which is worse than previous iterations.\n",
            "2022-10-20 10:03:00,915 - base - recpack - INFO - Evaluation at end of 4 took 0.02 s.\n",
            "2022-10-20 10:03:00,933 - base - recpack - INFO - Processed epoch 5 in 0.02 s.Batch Training Loss = 119.3116\n",
            "2022-10-20 10:03:00,953 - stopping_criterion - recpack - INFO - StoppingCriterion has value 0.12502438085075068, which is worse than previous iterations.\n",
            "2022-10-20 10:03:00,953 - base - recpack - INFO - Evaluation at end of 5 took 0.02 s.\n",
            "2022-10-20 10:03:00,969 - base - recpack - INFO - Processed epoch 6 in 0.01 s.Batch Training Loss = 118.0970\n",
            "2022-10-20 10:03:01,004 - stopping_criterion - recpack - INFO - StoppingCriterion has value 0.12131485658592317, which is worse than previous iterations.\n",
            "2022-10-20 10:03:01,135 - base - recpack - INFO - Evaluation at end of 6 took 0.16 s.\n",
            "2022-10-20 10:03:01,197 - base - recpack - INFO - Processed epoch 7 in 0.06 s.Batch Training Loss = 116.8754\n",
            "2022-10-20 10:03:01,215 - stopping_criterion - recpack - INFO - StoppingCriterion has value 0.13332604104317564, which is better than previous iterations.\n",
            "2022-10-20 10:03:01,217 - base - recpack - INFO - Model improved. Storing better model.\n",
            "2022-10-20 10:03:01,223 - base - recpack - INFO - Evaluation at end of 7 took 0.03 s.\n",
            "2022-10-20 10:03:01,239 - base - recpack - INFO - Processed epoch 8 in 0.01 s.Batch Training Loss = 115.6320\n",
            "2022-10-20 10:03:01,258 - stopping_criterion - recpack - INFO - StoppingCriterion has value 0.1529491673212347, which is better than previous iterations.\n",
            "2022-10-20 10:03:01,260 - base - recpack - INFO - Model improved. Storing better model.\n",
            "2022-10-20 10:03:01,264 - base - recpack - INFO - Evaluation at end of 8 took 0.02 s.\n",
            "2022-10-20 10:03:01,281 - base - recpack - INFO - Processed epoch 9 in 0.02 s.Batch Training Loss = 114.3189\n",
            "2022-10-20 10:03:01,300 - stopping_criterion - recpack - INFO - StoppingCriterion has value 0.14379974594213302, which is worse than previous iterations.\n",
            "2022-10-20 10:03:01,301 - base - recpack - INFO - Evaluation at end of 9 took 0.02 s.\n",
            "2022-10-20 10:03:01,306 - base - recpack - INFO - Fitting NeuMF complete - Took 0.635s\n",
            "128 10 0.001 ndcg\n",
            "2022-10-20 10:03:01,351 - base - recpack - INFO - Processed epoch 0 in 0.02 s.Batch Training Loss = 110.6025\n",
            "2022-10-20 10:03:01,371 - stopping_criterion - recpack - INFO - StoppingCriterion has value 0.16253772232044225, which is better than previous iterations.\n",
            "2022-10-20 10:03:01,372 - base - recpack - INFO - Model improved. Storing better model.\n",
            "2022-10-20 10:03:01,376 - base - recpack - INFO - Evaluation at end of 0 took 0.02 s.\n",
            "2022-10-20 10:03:01,394 - base - recpack - INFO - Processed epoch 1 in 0.02 s.Batch Training Loss = 109.5446\n",
            "2022-10-20 10:03:01,412 - stopping_criterion - recpack - INFO - StoppingCriterion has value 0.1560883866520614, which is worse than previous iterations.\n",
            "2022-10-20 10:03:01,413 - base - recpack - INFO - Evaluation at end of 1 took 0.02 s.\n",
            "2022-10-20 10:03:01,430 - base - recpack - INFO - Processed epoch 2 in 0.02 s.Batch Training Loss = 108.5582\n",
            "2022-10-20 10:03:01,448 - stopping_criterion - recpack - INFO - StoppingCriterion has value 0.15488598369561846, which is worse than previous iterations.\n",
            "2022-10-20 10:03:01,449 - base - recpack - INFO - Evaluation at end of 2 took 0.02 s.\n",
            "2022-10-20 10:03:01,466 - base - recpack - INFO - Processed epoch 3 in 0.02 s.Batch Training Loss = 107.5973\n",
            "2022-10-20 10:03:01,483 - stopping_criterion - recpack - INFO - StoppingCriterion has value 0.1572866166965381, which is worse than previous iterations.\n",
            "2022-10-20 10:03:01,484 - base - recpack - INFO - Evaluation at end of 3 took 0.02 s.\n",
            "2022-10-20 10:03:01,500 - base - recpack - INFO - Processed epoch 4 in 0.02 s.Batch Training Loss = 106.5659\n",
            "2022-10-20 10:03:01,518 - stopping_criterion - recpack - INFO - StoppingCriterion has value 0.15435386507758103, which is worse than previous iterations.\n",
            "2022-10-20 10:03:01,519 - base - recpack - INFO - Evaluation at end of 4 took 0.02 s.\n",
            "2022-10-20 10:03:01,537 - base - recpack - INFO - Processed epoch 5 in 0.02 s.Batch Training Loss = 105.4400\n",
            "2022-10-20 10:03:01,556 - stopping_criterion - recpack - INFO - StoppingCriterion has value 0.15467064054195034, which is worse than previous iterations.\n",
            "2022-10-20 10:03:01,557 - base - recpack - INFO - Evaluation at end of 5 took 0.02 s.\n",
            "2022-10-20 10:03:01,574 - base - recpack - INFO - Processed epoch 6 in 0.02 s.Batch Training Loss = 104.1642\n",
            "2022-10-20 10:03:01,591 - stopping_criterion - recpack - INFO - StoppingCriterion has value 0.16256562153830945, which is better than previous iterations.\n",
            "2022-10-20 10:03:01,593 - base - recpack - INFO - Model improved. Storing better model.\n",
            "2022-10-20 10:03:01,598 - base - recpack - INFO - Evaluation at end of 6 took 0.02 s.\n",
            "2022-10-20 10:03:01,615 - base - recpack - INFO - Processed epoch 7 in 0.02 s.Batch Training Loss = 102.6904\n",
            "2022-10-20 10:03:01,632 - stopping_criterion - recpack - INFO - StoppingCriterion has value 0.16384473977763336, which is better than previous iterations.\n",
            "2022-10-20 10:03:01,633 - base - recpack - INFO - Model improved. Storing better model.\n",
            "2022-10-20 10:03:01,639 - base - recpack - INFO - Evaluation at end of 7 took 0.02 s.\n",
            "2022-10-20 10:03:01,655 - base - recpack - INFO - Processed epoch 8 in 0.02 s.Batch Training Loss = 100.9785\n",
            "2022-10-20 10:03:01,674 - stopping_criterion - recpack - INFO - StoppingCriterion has value 0.14889990806111472, which is worse than previous iterations.\n",
            "2022-10-20 10:03:01,674 - base - recpack - INFO - Evaluation at end of 8 took 0.02 s.\n",
            "2022-10-20 10:03:01,692 - base - recpack - INFO - Processed epoch 9 in 0.02 s.Batch Training Loss = 98.9514\n",
            "2022-10-20 10:03:01,711 - stopping_criterion - recpack - INFO - StoppingCriterion has value 0.1516829286031686, which is worse than previous iterations.\n",
            "2022-10-20 10:03:01,712 - base - recpack - INFO - Evaluation at end of 9 took 0.02 s.\n",
            "2022-10-20 10:03:01,716 - base - recpack - INFO - Fitting NeuMF complete - Took 0.387s\n",
            "128 10 0.001 ndcg\n",
            "2022-10-20 10:03:01,807 - base - recpack - INFO - Processed epoch 0 in 0.06 s.Batch Training Loss = 121.6977\n",
            "2022-10-20 10:03:01,845 - stopping_criterion - recpack - INFO - StoppingCriterion has value 0.15541725549768864, which is better than previous iterations.\n",
            "2022-10-20 10:03:01,845 - base - recpack - INFO - Model improved. Storing better model.\n",
            "2022-10-20 10:03:01,851 - base - recpack - INFO - Evaluation at end of 0 took 0.04 s.\n",
            "2022-10-20 10:03:01,876 - base - recpack - INFO - Processed epoch 1 in 0.02 s.Batch Training Loss = 119.8574\n",
            "2022-10-20 10:03:01,903 - stopping_criterion - recpack - INFO - StoppingCriterion has value 0.12512879466661392, which is worse than previous iterations.\n",
            "2022-10-20 10:03:01,904 - base - recpack - INFO - Evaluation at end of 1 took 0.03 s.\n",
            "2022-10-20 10:03:01,930 - base - recpack - INFO - Processed epoch 2 in 0.02 s.Batch Training Loss = 117.9290\n",
            "2022-10-20 10:03:01,955 - stopping_criterion - recpack - INFO - StoppingCriterion has value 0.11813008620965501, which is worse than previous iterations.\n",
            "2022-10-20 10:03:01,955 - base - recpack - INFO - Evaluation at end of 2 took 0.02 s.\n",
            "2022-10-20 10:03:01,980 - base - recpack - INFO - Processed epoch 3 in 0.02 s.Batch Training Loss = 115.8658\n",
            "2022-10-20 10:03:02,003 - stopping_criterion - recpack - INFO - StoppingCriterion has value 0.11486532473034933, which is worse than previous iterations.\n",
            "2022-10-20 10:03:02,004 - base - recpack - INFO - Evaluation at end of 3 took 0.02 s.\n",
            "2022-10-20 10:03:02,029 - base - recpack - INFO - Processed epoch 4 in 0.02 s.Batch Training Loss = 113.7053\n",
            "2022-10-20 10:03:02,053 - stopping_criterion - recpack - INFO - StoppingCriterion has value 0.12772521498536696, which is worse than previous iterations.\n",
            "2022-10-20 10:03:02,054 - base - recpack - INFO - Evaluation at end of 4 took 0.02 s.\n",
            "2022-10-20 10:03:02,078 - base - recpack - INFO - Processed epoch 5 in 0.02 s.Batch Training Loss = 111.0598\n",
            "2022-10-20 10:03:02,103 - stopping_criterion - recpack - INFO - StoppingCriterion has value 0.11009977099858967, which is worse than previous iterations.\n",
            "2022-10-20 10:03:02,105 - base - recpack - INFO - Evaluation at end of 5 took 0.03 s.\n",
            "2022-10-20 10:03:02,130 - base - recpack - INFO - Processed epoch 6 in 0.02 s.Batch Training Loss = 107.5283\n",
            "2022-10-20 10:03:02,156 - stopping_criterion - recpack - INFO - StoppingCriterion has value 0.09822504180513643, which is worse than previous iterations.\n",
            "2022-10-20 10:03:02,157 - base - recpack - INFO - Evaluation at end of 6 took 0.03 s.\n",
            "2022-10-20 10:03:02,183 - base - recpack - INFO - Processed epoch 7 in 0.03 s.Batch Training Loss = 102.7115\n",
            "2022-10-20 10:03:02,212 - stopping_criterion - recpack - INFO - StoppingCriterion has value 0.09081599465535997, which is worse than previous iterations.\n",
            "2022-10-20 10:03:02,213 - base - recpack - INFO - Evaluation at end of 7 took 0.03 s.\n",
            "2022-10-20 10:03:02,237 - base - recpack - INFO - Processed epoch 8 in 0.02 s.Batch Training Loss = 96.3775\n",
            "2022-10-20 10:03:02,265 - stopping_criterion - recpack - INFO - StoppingCriterion has value 0.09993393139112003, which is worse than previous iterations.\n",
            "2022-10-20 10:03:02,266 - base - recpack - INFO - Evaluation at end of 8 took 0.03 s.\n",
            "2022-10-20 10:03:02,294 - base - recpack - INFO - Processed epoch 9 in 0.03 s.Batch Training Loss = 88.8246\n",
            "2022-10-20 10:03:02,321 - stopping_criterion - recpack - INFO - StoppingCriterion has value 0.10253180474530345, which is worse than previous iterations.\n",
            "2022-10-20 10:03:02,322 - base - recpack - INFO - Evaluation at end of 9 took 0.03 s.\n",
            "2022-10-20 10:03:02,328 - base - recpack - INFO - Fitting NeuMF complete - Took 0.588s\n",
            "128 10 0.001 ndcg\n",
            "2022-10-20 10:03:02,432 - base - recpack - INFO - Processed epoch 0 in 0.04 s.Batch Training Loss = 131.4483\n",
            "2022-10-20 10:03:02,484 - stopping_criterion - recpack - INFO - StoppingCriterion has value 0.11673931721387797, which is better than previous iterations.\n",
            "2022-10-20 10:03:02,485 - base - recpack - INFO - Model improved. Storing better model.\n",
            "2022-10-20 10:03:02,499 - base - recpack - INFO - Evaluation at end of 0 took 0.06 s.\n",
            "2022-10-20 10:03:02,531 - base - recpack - INFO - Processed epoch 1 in 0.03 s.Batch Training Loss = 129.2230\n",
            "2022-10-20 10:03:02,566 - stopping_criterion - recpack - INFO - StoppingCriterion has value 0.1364818883260355, which is better than previous iterations.\n",
            "2022-10-20 10:03:02,568 - base - recpack - INFO - Model improved. Storing better model.\n",
            "2022-10-20 10:03:02,579 - base - recpack - INFO - Evaluation at end of 1 took 0.05 s.\n",
            "2022-10-20 10:03:02,616 - base - recpack - INFO - Processed epoch 2 in 0.04 s.Batch Training Loss = 127.1013\n",
            "2022-10-20 10:03:02,648 - stopping_criterion - recpack - INFO - StoppingCriterion has value 0.11023357369607542, which is worse than previous iterations.\n",
            "2022-10-20 10:03:02,648 - base - recpack - INFO - Evaluation at end of 2 took 0.03 s.\n",
            "2022-10-20 10:03:02,698 - base - recpack - INFO - Processed epoch 3 in 0.05 s.Batch Training Loss = 124.8155\n",
            "2022-10-20 10:03:02,734 - stopping_criterion - recpack - INFO - StoppingCriterion has value 0.09527805209592474, which is worse than previous iterations.\n",
            "2022-10-20 10:03:02,736 - base - recpack - INFO - Evaluation at end of 3 took 0.04 s.\n",
            "2022-10-20 10:03:02,812 - base - recpack - INFO - Processed epoch 4 in 0.07 s.Batch Training Loss = 122.3185\n",
            "2022-10-20 10:03:02,864 - stopping_criterion - recpack - INFO - StoppingCriterion has value 0.096680751360675, which is worse than previous iterations.\n",
            "2022-10-20 10:03:02,866 - base - recpack - INFO - Evaluation at end of 4 took 0.05 s.\n",
            "2022-10-20 10:03:02,948 - base - recpack - INFO - Processed epoch 5 in 0.08 s.Batch Training Loss = 119.5377\n",
            "2022-10-20 10:03:03,029 - stopping_criterion - recpack - INFO - StoppingCriterion has value 0.09610069716436431, which is worse than previous iterations.\n",
            "2022-10-20 10:03:03,031 - base - recpack - INFO - Evaluation at end of 5 took 0.08 s.\n",
            "2022-10-20 10:03:03,075 - base - recpack - INFO - Processed epoch 6 in 0.04 s.Batch Training Loss = 115.9104\n",
            "2022-10-20 10:03:03,124 - stopping_criterion - recpack - INFO - StoppingCriterion has value 0.09168167007542673, which is worse than previous iterations.\n",
            "2022-10-20 10:03:03,129 - base - recpack - INFO - Evaluation at end of 6 took 0.05 s.\n",
            "2022-10-20 10:03:03,168 - base - recpack - INFO - Processed epoch 7 in 0.04 s.Batch Training Loss = 111.0314\n",
            "2022-10-20 10:03:03,202 - stopping_criterion - recpack - INFO - StoppingCriterion has value 0.07642656812788166, which is worse than previous iterations.\n",
            "2022-10-20 10:03:03,203 - base - recpack - INFO - Evaluation at end of 7 took 0.03 s.\n",
            "2022-10-20 10:03:03,238 - base - recpack - INFO - Processed epoch 8 in 0.03 s.Batch Training Loss = 104.5252\n",
            "2022-10-20 10:03:03,270 - stopping_criterion - recpack - INFO - StoppingCriterion has value 0.0925498200164127, which is worse than previous iterations.\n",
            "2022-10-20 10:03:03,271 - base - recpack - INFO - Evaluation at end of 8 took 0.03 s.\n",
            "2022-10-20 10:03:03,305 - base - recpack - INFO - Processed epoch 9 in 0.03 s.Batch Training Loss = 96.5012\n",
            "2022-10-20 10:03:03,341 - stopping_criterion - recpack - INFO - StoppingCriterion has value 0.10182743044037046, which is worse than previous iterations.\n",
            "2022-10-20 10:03:03,343 - base - recpack - INFO - Evaluation at end of 9 took 0.04 s.\n",
            "2022-10-20 10:03:03,348 - base - recpack - INFO - Fitting NeuMF complete - Took 0.968s\n",
            "2022-10-20 10:03:03,396 - base - recpack - INFO - Fitting Popularity complete - Took 0.0019s\n",
            "2022-10-20 10:03:03,439 - base - recpack - INFO - Fitting ItemKNN complete - Took 0.0234s\n",
            "2022-10-20 10:03:03,461 - base - recpack - INFO - Fitting ItemKNN complete - Took 0.00974s\n",
            "2022-10-20 10:03:03,498 - base - recpack - INFO - Fitting ItemKNN complete - Took 0.0225s\n"
          ]
        },
        {
          "name": "stderr",
          "output_type": "stream",
          "text": [
            "/Users/robinverachtert/.virtualenvs/recpack/lib/python3.9/site-packages/scipy/sparse/_index.py:146: SparseEfficiencyWarning: Changing the sparsity structure of a csr_matrix is expensive. lil_matrix is more efficient.\n",
            "  self._set_arrayXarray(i, j, x)\n"
          ]
        }
      ],
      "source": [
        "builder = PipelineBuilder()\n",
        "builder.set_data_from_scenario(scenario)\n",
        "\n",
        "builder.add_metric('NDCGK', K=10)\n",
        "builder.add_metric('CoverageK', K=10)\n",
        "\n",
        "builder.add_algorithm(\n",
        "    algorithm = 'NeuMF', \n",
        "    params = {\n",
        "        'batch_size': 128,\n",
        "        'max_epochs': 10,\n",
        "        'learning_rate': 0.001,\n",
        "        'stopping_criterion': 'ndcg',\n",
        "        'predict_topK': 50,\n",
        "        'n_negatives_per_positive': 4,\n",
        "        'dropout': 0.0\n",
        "    },\n",
        "    grid = {\n",
        "        'predictive_factors': [8, 16, 32],\n",
        "    }\n",
        ")\n",
        "\n",
        "builder.add_algorithm('Popularity', params={'K': 50})\n",
        "builder.add_algorithm(\n",
        "    'ItemKNN', \n",
        "    grid={'similarity': ['conditional_probability', 'cosine']}\n",
        ")\n",
        "builder.set_optimisation_metric('NDCGK', K=10)\n",
        "\n",
        "pipeline = builder.build()\n",
        "\n",
        "pipeline.run()"
      ]
    },
    {
      "cell_type": "code",
      "execution_count": 16,
      "id": "3a36b1d0",
      "metadata": {
        "slideshow": {
          "slide_type": "skip"
        }
      },
      "outputs": [
        {
          "data": {
            "text/html": [
              "<div>\n",
              "<style scoped>\n",
              "    .dataframe tbody tr th:only-of-type {\n",
              "        vertical-align: middle;\n",
              "    }\n",
              "\n",
              "    .dataframe tbody tr th {\n",
              "        vertical-align: top;\n",
              "    }\n",
              "\n",
              "    .dataframe thead th {\n",
              "        text-align: right;\n",
              "    }\n",
              "</style>\n",
              "<table border=\"1\" class=\"dataframe\">\n",
              "  <thead>\n",
              "    <tr style=\"text-align: right;\">\n",
              "      <th></th>\n",
              "      <th>ndcgk_10</th>\n",
              "      <th>coveragek_10</th>\n",
              "    </tr>\n",
              "  </thead>\n",
              "  <tbody>\n",
              "    <tr>\n",
              "      <th>NeuMF</th>\n",
              "      <td>0.060578</td>\n",
              "      <td>0.144330</td>\n",
              "    </tr>\n",
              "    <tr>\n",
              "      <th>Popularity</th>\n",
              "      <td>0.054975</td>\n",
              "      <td>0.164948</td>\n",
              "    </tr>\n",
              "    <tr>\n",
              "      <th>ItemKNN</th>\n",
              "      <td>0.060369</td>\n",
              "      <td>0.979381</td>\n",
              "    </tr>\n",
              "  </tbody>\n",
              "</table>\n",
              "</div>"
            ],
            "text/plain": [
              "            ndcgk_10  coveragek_10\n",
              "NeuMF       0.060578      0.144330\n",
              "Popularity  0.054975      0.164948\n",
              "ItemKNN     0.060369      0.979381"
            ]
          },
          "execution_count": 16,
          "metadata": {},
          "output_type": "execute_result"
        }
      ],
      "source": [
        "pipeline.get_metrics(short=True)"
      ]
    },
    {
      "cell_type": "code",
      "execution_count": 17,
      "id": "bbf22a9c",
      "metadata": {
        "slideshow": {
          "slide_type": "subslide"
        }
      },
      "outputs": [
        {
          "data": {
            "text/html": [
              "<div>\n",
              "<style scoped>\n",
              "    .dataframe tbody tr th:only-of-type {\n",
              "        vertical-align: middle;\n",
              "    }\n",
              "\n",
              "    .dataframe tbody tr th {\n",
              "        vertical-align: top;\n",
              "    }\n",
              "\n",
              "    .dataframe thead th {\n",
              "        text-align: right;\n",
              "    }\n",
              "</style>\n",
              "<table border=\"1\" class=\"dataframe\">\n",
              "  <thead>\n",
              "    <tr style=\"text-align: right;\">\n",
              "      <th></th>\n",
              "      <th>identifier</th>\n",
              "      <th>params</th>\n",
              "      <th>ndcgk_10</th>\n",
              "    </tr>\n",
              "  </thead>\n",
              "  <tbody>\n",
              "    <tr>\n",
              "      <th>0</th>\n",
              "      <td>NeuMF(batch_size=128,dropout=0.0,exact_samplin...</td>\n",
              "      <td>{'predictive_factors': 8, 'batch_size': 128, '...</td>\n",
              "      <td>0.073851</td>\n",
              "    </tr>\n",
              "    <tr>\n",
              "      <th>1</th>\n",
              "      <td>NeuMF(batch_size=128,dropout=0.0,exact_samplin...</td>\n",
              "      <td>{'predictive_factors': 16, 'batch_size': 128, ...</td>\n",
              "      <td>0.063731</td>\n",
              "    </tr>\n",
              "    <tr>\n",
              "      <th>2</th>\n",
              "      <td>NeuMF(batch_size=128,dropout=0.0,exact_samplin...</td>\n",
              "      <td>{'predictive_factors': 32, 'batch_size': 128, ...</td>\n",
              "      <td>0.074465</td>\n",
              "    </tr>\n",
              "    <tr>\n",
              "      <th>3</th>\n",
              "      <td>ItemKNN(K=200,normalize_X=False,normalize_sim=...</td>\n",
              "      <td>{'similarity': 'conditional_probability'}</td>\n",
              "      <td>0.000000</td>\n",
              "    </tr>\n",
              "    <tr>\n",
              "      <th>4</th>\n",
              "      <td>ItemKNN(K=200,normalize_X=False,normalize_sim=...</td>\n",
              "      <td>{'similarity': 'cosine'}</td>\n",
              "      <td>0.015472</td>\n",
              "    </tr>\n",
              "  </tbody>\n",
              "</table>\n",
              "</div>"
            ],
            "text/plain": [
              "                                          identifier  \\\n",
              "0  NeuMF(batch_size=128,dropout=0.0,exact_samplin...   \n",
              "1  NeuMF(batch_size=128,dropout=0.0,exact_samplin...   \n",
              "2  NeuMF(batch_size=128,dropout=0.0,exact_samplin...   \n",
              "3  ItemKNN(K=200,normalize_X=False,normalize_sim=...   \n",
              "4  ItemKNN(K=200,normalize_X=False,normalize_sim=...   \n",
              "\n",
              "                                              params  ndcgk_10  \n",
              "0  {'predictive_factors': 8, 'batch_size': 128, '...  0.073851  \n",
              "1  {'predictive_factors': 16, 'batch_size': 128, ...  0.063731  \n",
              "2  {'predictive_factors': 32, 'batch_size': 128, ...  0.074465  \n",
              "3          {'similarity': 'conditional_probability'}  0.000000  \n",
              "4                           {'similarity': 'cosine'}  0.015472  "
            ]
          },
          "execution_count": 17,
          "metadata": {},
          "output_type": "execute_result"
        }
      ],
      "source": [
        "pipeline.optimisation_results"
      ]
    },
    {
      "cell_type": "code",
      "execution_count": 18,
      "id": "a6cd85cd",
      "metadata": {},
      "outputs": [
        {
          "data": {
            "application/vnd.jupyter.widget-view+json": {
              "model_id": "ed388238000a418c81ffb2e94e802195",
              "version_major": 2,
              "version_minor": 0
            },
            "text/plain": [
              "  0%|          | 0/1 [00:00<?, ?it/s]"
            ]
          },
          "metadata": {},
          "output_type": "display_data"
        },
        {
          "name": "stdout",
          "output_type": "stream",
          "text": [
            "2022-10-20 10:03:04,241 - base - recpack - INFO - Fitting NMF complete - Took 0.0896s\n",
            "2022-10-20 10:03:04,355 - base - recpack - INFO - Fitting NMF complete - Took 0.0914s\n",
            "2022-10-20 10:03:04,813 - base - recpack - INFO - Fitting NMF complete - Took 0.442s\n"
          ]
        },
        {
          "name": "stderr",
          "output_type": "stream",
          "text": [
            "/Users/robinverachtert/.virtualenvs/recpack/lib/python3.9/site-packages/sklearn/decomposition/_nmf.py:1692: ConvergenceWarning: Maximum number of iterations 200 reached. Increase it to improve convergence.\n",
            "  warnings.warn(\n"
          ]
        },
        {
          "name": "stdout",
          "output_type": "stream",
          "text": [
            "2022-10-20 10:03:05,184 - base - recpack - INFO - Fitting NMF complete - Took 0.359s\n",
            "2022-10-20 10:03:05,221 - base - recpack - INFO - Fitting NMF complete - Took 0.0232s\n"
          ]
        }
      ],
      "source": [
        "builder = PipelineBuilder()\n",
        "builder.set_data_from_scenario(scenario)\n",
        "\n",
        "builder.add_metric('NDCGK', K=10)\n",
        "builder.add_metric('CoverageK', K=10)\n",
        "\n",
        "builder.add_algorithm(\n",
        "    algorithm = 'NMF', \n",
        "    grid = {\n",
        "        'num_components': [16, 32, 64, 128],\n",
        "    }\n",
        ")\n",
        "\n",
        "builder.set_optimisation_metric('NDCGK', K=10)\n",
        "\n",
        "pipeline = builder.build()\n",
        "\n",
        "pipeline.run()"
      ]
    },
    {
      "cell_type": "code",
      "execution_count": 19,
      "id": "d0e3c55c",
      "metadata": {},
      "outputs": [
        {
          "data": {
            "text/html": [
              "<div>\n",
              "<style scoped>\n",
              "    .dataframe tbody tr th:only-of-type {\n",
              "        vertical-align: middle;\n",
              "    }\n",
              "\n",
              "    .dataframe tbody tr th {\n",
              "        vertical-align: top;\n",
              "    }\n",
              "\n",
              "    .dataframe thead th {\n",
              "        text-align: right;\n",
              "    }\n",
              "</style>\n",
              "<table border=\"1\" class=\"dataframe\">\n",
              "  <thead>\n",
              "    <tr style=\"text-align: right;\">\n",
              "      <th></th>\n",
              "      <th>coveragek_10</th>\n",
              "      <th>ndcgk_10</th>\n",
              "    </tr>\n",
              "  </thead>\n",
              "  <tbody>\n",
              "    <tr>\n",
              "      <th>NMF</th>\n",
              "      <td>0.958763</td>\n",
              "      <td>0.079932</td>\n",
              "    </tr>\n",
              "  </tbody>\n",
              "</table>\n",
              "</div>"
            ],
            "text/plain": [
              "     coveragek_10  ndcgk_10\n",
              "NMF      0.958763  0.079932"
            ]
          },
          "execution_count": 19,
          "metadata": {},
          "output_type": "execute_result"
        }
      ],
      "source": [
        "pipeline.get_metrics(short=True)"
      ]
    },
    {
      "cell_type": "code",
      "execution_count": 20,
      "id": "6446dcc6",
      "metadata": {},
      "outputs": [
        {
          "data": {
            "text/html": [
              "<div>\n",
              "<style scoped>\n",
              "    .dataframe tbody tr th:only-of-type {\n",
              "        vertical-align: middle;\n",
              "    }\n",
              "\n",
              "    .dataframe tbody tr th {\n",
              "        vertical-align: top;\n",
              "    }\n",
              "\n",
              "    .dataframe thead th {\n",
              "        text-align: right;\n",
              "    }\n",
              "</style>\n",
              "<table border=\"1\" class=\"dataframe\">\n",
              "  <thead>\n",
              "    <tr style=\"text-align: right;\">\n",
              "      <th></th>\n",
              "      <th>identifier</th>\n",
              "      <th>params</th>\n",
              "      <th>ndcgk_10</th>\n",
              "    </tr>\n",
              "  </thead>\n",
              "  <tbody>\n",
              "    <tr>\n",
              "      <th>0</th>\n",
              "      <td>NMF(alpha=0.0,l1_ratio=0.0,num_components=16,s...</td>\n",
              "      <td>{'num_components': 16}</td>\n",
              "      <td>0.076446</td>\n",
              "    </tr>\n",
              "    <tr>\n",
              "      <th>1</th>\n",
              "      <td>NMF(alpha=0.0,l1_ratio=0.0,num_components=32,s...</td>\n",
              "      <td>{'num_components': 32}</td>\n",
              "      <td>0.041717</td>\n",
              "    </tr>\n",
              "    <tr>\n",
              "      <th>2</th>\n",
              "      <td>NMF(alpha=0.0,l1_ratio=0.0,num_components=64,s...</td>\n",
              "      <td>{'num_components': 64}</td>\n",
              "      <td>0.026887</td>\n",
              "    </tr>\n",
              "    <tr>\n",
              "      <th>3</th>\n",
              "      <td>NMF(alpha=0.0,l1_ratio=0.0,num_components=128,...</td>\n",
              "      <td>{'num_components': 128}</td>\n",
              "      <td>0.065244</td>\n",
              "    </tr>\n",
              "  </tbody>\n",
              "</table>\n",
              "</div>"
            ],
            "text/plain": [
              "                                          identifier                   params  \\\n",
              "0  NMF(alpha=0.0,l1_ratio=0.0,num_components=16,s...   {'num_components': 16}   \n",
              "1  NMF(alpha=0.0,l1_ratio=0.0,num_components=32,s...   {'num_components': 32}   \n",
              "2  NMF(alpha=0.0,l1_ratio=0.0,num_components=64,s...   {'num_components': 64}   \n",
              "3  NMF(alpha=0.0,l1_ratio=0.0,num_components=128,...  {'num_components': 128}   \n",
              "\n",
              "   ndcgk_10  \n",
              "0  0.076446  \n",
              "1  0.041717  \n",
              "2  0.026887  \n",
              "3  0.065244  "
            ]
          },
          "execution_count": 20,
          "metadata": {},
          "output_type": "execute_result"
        }
      ],
      "source": [
        "pipeline.optimisation_results"
      ]
    },
    {
      "cell_type": "code",
      "execution_count": 21,
      "id": "066d5f64",
      "metadata": {},
      "outputs": [
        {
          "data": {
            "application/vnd.jupyter.widget-view+json": {
              "model_id": "6270db893aa64d5bb99af148fc677022",
              "version_major": 2,
              "version_minor": 0
            },
            "text/plain": [
              "  0%|          | 0/1 [00:00<?, ?it/s]"
            ]
          },
          "metadata": {},
          "output_type": "display_data"
        },
        {
          "data": {
            "application/vnd.jupyter.widget-view+json": {
              "model_id": "416d36f4bc4f4634ba5b655263f959fc",
              "version_major": 2,
              "version_minor": 0
            },
            "text/plain": [
              "train_epoch BPRMF: 0it [00:00, ?it/s]"
            ]
          },
          "metadata": {},
          "output_type": "display_data"
        },
        {
          "name": "stdout",
          "output_type": "stream",
          "text": [
            "2022-10-20 10:03:05,723 - base - recpack - INFO - Processed epoch 0 in 0.07 s.Batch Training Loss = 2.7234\n",
            "2022-10-20 10:03:05,751 - stopping_criterion - recpack - INFO - StoppingCriterion has value 0.1383568746910678, which is better than previous iterations.\n",
            "2022-10-20 10:03:05,752 - base - recpack - INFO - Model improved. Storing better model.\n",
            "2022-10-20 10:03:05,755 - base - recpack - INFO - Evaluation at end of 0 took 0.02 s.\n"
          ]
        },
        {
          "data": {
            "application/vnd.jupyter.widget-view+json": {
              "model_id": "da71d5e1271e41419632c3b576236633",
              "version_major": 2,
              "version_minor": 0
            },
            "text/plain": [
              "train_epoch BPRMF: 0it [00:00, ?it/s]"
            ]
          },
          "metadata": {},
          "output_type": "display_data"
        },
        {
          "name": "stdout",
          "output_type": "stream",
          "text": [
            "2022-10-20 10:03:05,817 - base - recpack - INFO - Processed epoch 1 in 0.06 s.Batch Training Loss = 2.6572\n",
            "2022-10-20 10:03:05,845 - stopping_criterion - recpack - INFO - StoppingCriterion has value 0.1383568746910678, which is worse than previous iterations.\n",
            "2022-10-20 10:03:05,846 - base - recpack - INFO - Evaluation at end of 1 took 0.03 s.\n"
          ]
        },
        {
          "data": {
            "application/vnd.jupyter.widget-view+json": {
              "model_id": "10c04acf1b0c4f6da3c44958e9f62b3e",
              "version_major": 2,
              "version_minor": 0
            },
            "text/plain": [
              "train_epoch BPRMF: 0it [00:00, ?it/s]"
            ]
          },
          "metadata": {},
          "output_type": "display_data"
        },
        {
          "name": "stdout",
          "output_type": "stream",
          "text": [
            "2022-10-20 10:03:05,909 - base - recpack - INFO - Processed epoch 2 in 0.06 s.Batch Training Loss = 2.6916\n",
            "2022-10-20 10:03:05,934 - stopping_criterion - recpack - INFO - StoppingCriterion has value 0.1383568746910678, which is worse than previous iterations.\n",
            "2022-10-20 10:03:05,935 - base - recpack - INFO - Evaluation at end of 2 took 0.02 s.\n"
          ]
        },
        {
          "data": {
            "application/vnd.jupyter.widget-view+json": {
              "model_id": "05f31d3cefe343e58cf0af27db2aa084",
              "version_major": 2,
              "version_minor": 0
            },
            "text/plain": [
              "train_epoch BPRMF: 0it [00:00, ?it/s]"
            ]
          },
          "metadata": {},
          "output_type": "display_data"
        },
        {
          "name": "stdout",
          "output_type": "stream",
          "text": [
            "2022-10-20 10:03:06,003 - base - recpack - INFO - Processed epoch 3 in 0.07 s.Batch Training Loss = 2.6673\n",
            "2022-10-20 10:03:06,027 - stopping_criterion - recpack - INFO - StoppingCriterion has value 0.1383568746910678, which is worse than previous iterations.\n",
            "2022-10-20 10:03:06,028 - base - recpack - INFO - Evaluation at end of 3 took 0.02 s.\n"
          ]
        },
        {
          "data": {
            "application/vnd.jupyter.widget-view+json": {
              "model_id": "56bab24d6c104d33872e65aaf508f706",
              "version_major": 2,
              "version_minor": 0
            },
            "text/plain": [
              "train_epoch BPRMF: 0it [00:00, ?it/s]"
            ]
          },
          "metadata": {},
          "output_type": "display_data"
        },
        {
          "name": "stdout",
          "output_type": "stream",
          "text": [
            "2022-10-20 10:03:06,103 - base - recpack - INFO - Processed epoch 4 in 0.07 s.Batch Training Loss = 2.6683\n",
            "2022-10-20 10:03:06,134 - stopping_criterion - recpack - INFO - StoppingCriterion has value 0.1383568746910678, which is worse than previous iterations.\n",
            "2022-10-20 10:03:06,135 - base - recpack - INFO - Evaluation at end of 4 took 0.03 s.\n"
          ]
        },
        {
          "data": {
            "application/vnd.jupyter.widget-view+json": {
              "model_id": "3160a50f4177461aa89ddd488327bfa8",
              "version_major": 2,
              "version_minor": 0
            },
            "text/plain": [
              "train_epoch BPRMF: 0it [00:00, ?it/s]"
            ]
          },
          "metadata": {},
          "output_type": "display_data"
        },
        {
          "name": "stdout",
          "output_type": "stream",
          "text": [
            "2022-10-20 10:03:06,199 - base - recpack - INFO - Processed epoch 5 in 0.06 s.Batch Training Loss = 2.6852\n",
            "2022-10-20 10:03:06,224 - stopping_criterion - recpack - INFO - StoppingCriterion has value 0.1383568746910678, which is worse than previous iterations.\n",
            "2022-10-20 10:03:06,225 - base - recpack - INFO - Evaluation at end of 5 took 0.03 s.\n"
          ]
        },
        {
          "data": {
            "application/vnd.jupyter.widget-view+json": {
              "model_id": "8ebeaaaccf9b4d6abe836c06529cdf32",
              "version_major": 2,
              "version_minor": 0
            },
            "text/plain": [
              "train_epoch BPRMF: 0it [00:00, ?it/s]"
            ]
          },
          "metadata": {},
          "output_type": "display_data"
        },
        {
          "name": "stdout",
          "output_type": "stream",
          "text": [
            "2022-10-20 10:03:06,271 - base - recpack - INFO - Processed epoch 6 in 0.04 s.Batch Training Loss = 2.6841\n",
            "2022-10-20 10:03:06,294 - stopping_criterion - recpack - INFO - StoppingCriterion has value 0.1383568746910678, which is worse than previous iterations.\n",
            "2022-10-20 10:03:06,297 - base - recpack - INFO - Evaluation at end of 6 took 0.02 s.\n"
          ]
        },
        {
          "data": {
            "application/vnd.jupyter.widget-view+json": {
              "model_id": "431c917ed8f54715a16d1dacd1f00110",
              "version_major": 2,
              "version_minor": 0
            },
            "text/plain": [
              "train_epoch BPRMF: 0it [00:00, ?it/s]"
            ]
          },
          "metadata": {},
          "output_type": "display_data"
        },
        {
          "name": "stdout",
          "output_type": "stream",
          "text": [
            "2022-10-20 10:03:06,350 - base - recpack - INFO - Processed epoch 7 in 0.05 s.Batch Training Loss = 2.6696\n",
            "2022-10-20 10:03:06,392 - stopping_criterion - recpack - INFO - StoppingCriterion has value 0.1383568746910678, which is worse than previous iterations.\n",
            "2022-10-20 10:03:06,394 - base - recpack - INFO - Evaluation at end of 7 took 0.04 s.\n"
          ]
        },
        {
          "data": {
            "application/vnd.jupyter.widget-view+json": {
              "model_id": "779739fa6b5f428698f1f0ec801b6cc7",
              "version_major": 2,
              "version_minor": 0
            },
            "text/plain": [
              "train_epoch BPRMF: 0it [00:00, ?it/s]"
            ]
          },
          "metadata": {},
          "output_type": "display_data"
        },
        {
          "name": "stdout",
          "output_type": "stream",
          "text": [
            "2022-10-20 10:03:06,453 - base - recpack - INFO - Processed epoch 8 in 0.06 s.Batch Training Loss = 2.6958\n",
            "2022-10-20 10:03:06,480 - stopping_criterion - recpack - INFO - StoppingCriterion has value 0.1383568746910678, which is worse than previous iterations.\n",
            "2022-10-20 10:03:06,499 - base - recpack - INFO - Evaluation at end of 8 took 0.04 s.\n"
          ]
        },
        {
          "data": {
            "application/vnd.jupyter.widget-view+json": {
              "model_id": "864ce9ac0f52480e8be1a96a16fa48ee",
              "version_major": 2,
              "version_minor": 0
            },
            "text/plain": [
              "train_epoch BPRMF: 0it [00:00, ?it/s]"
            ]
          },
          "metadata": {},
          "output_type": "display_data"
        },
        {
          "name": "stdout",
          "output_type": "stream",
          "text": [
            "2022-10-20 10:03:06,585 - base - recpack - INFO - Processed epoch 9 in 0.08 s.Batch Training Loss = 2.6758\n",
            "2022-10-20 10:03:06,607 - stopping_criterion - recpack - INFO - StoppingCriterion has value 0.1383568746910678, which is worse than previous iterations.\n",
            "2022-10-20 10:03:06,607 - base - recpack - INFO - Evaluation at end of 9 took 0.02 s.\n",
            "2022-10-20 10:03:06,616 - base - recpack - INFO - Fitting BPRMF complete - Took 0.97s\n"
          ]
        },
        {
          "data": {
            "application/vnd.jupyter.widget-view+json": {
              "model_id": "4a6c9b7ef06644cbbfa79eaf033d44ca",
              "version_major": 2,
              "version_minor": 0
            },
            "text/plain": [
              "train_epoch BPRMF: 0it [00:00, ?it/s]"
            ]
          },
          "metadata": {},
          "output_type": "display_data"
        },
        {
          "name": "stdout",
          "output_type": "stream",
          "text": [
            "2022-10-20 10:03:06,702 - base - recpack - INFO - Processed epoch 0 in 0.06 s.Batch Training Loss = 2.6596\n",
            "2022-10-20 10:03:06,730 - stopping_criterion - recpack - INFO - StoppingCriterion has value 0.14184057685634335, which is better than previous iterations.\n",
            "2022-10-20 10:03:06,731 - base - recpack - INFO - Model improved. Storing better model.\n",
            "2022-10-20 10:03:06,735 - base - recpack - INFO - Evaluation at end of 0 took 0.03 s.\n"
          ]
        },
        {
          "data": {
            "application/vnd.jupyter.widget-view+json": {
              "model_id": "725fde8cb62942d88d7cea556aecb64a",
              "version_major": 2,
              "version_minor": 0
            },
            "text/plain": [
              "train_epoch BPRMF: 0it [00:00, ?it/s]"
            ]
          },
          "metadata": {},
          "output_type": "display_data"
        },
        {
          "name": "stdout",
          "output_type": "stream",
          "text": [
            "2022-10-20 10:03:06,789 - base - recpack - INFO - Processed epoch 1 in 0.05 s.Batch Training Loss = 2.6939\n",
            "2022-10-20 10:03:06,818 - stopping_criterion - recpack - INFO - StoppingCriterion has value 0.14184057685634335, which is worse than previous iterations.\n",
            "2022-10-20 10:03:06,819 - base - recpack - INFO - Evaluation at end of 1 took 0.03 s.\n"
          ]
        },
        {
          "data": {
            "application/vnd.jupyter.widget-view+json": {
              "model_id": "aa67ad77d4ee4766b98ced793d712bd9",
              "version_major": 2,
              "version_minor": 0
            },
            "text/plain": [
              "train_epoch BPRMF: 0it [00:00, ?it/s]"
            ]
          },
          "metadata": {},
          "output_type": "display_data"
        },
        {
          "name": "stdout",
          "output_type": "stream",
          "text": [
            "2022-10-20 10:03:06,891 - base - recpack - INFO - Processed epoch 2 in 0.07 s.Batch Training Loss = 2.6759\n",
            "2022-10-20 10:03:06,917 - stopping_criterion - recpack - INFO - StoppingCriterion has value 0.14184057685634335, which is worse than previous iterations.\n",
            "2022-10-20 10:03:06,917 - base - recpack - INFO - Evaluation at end of 2 took 0.02 s.\n"
          ]
        },
        {
          "data": {
            "application/vnd.jupyter.widget-view+json": {
              "model_id": "7dbcd14b42554a1186c8f80d7c35181b",
              "version_major": 2,
              "version_minor": 0
            },
            "text/plain": [
              "train_epoch BPRMF: 0it [00:00, ?it/s]"
            ]
          },
          "metadata": {},
          "output_type": "display_data"
        },
        {
          "name": "stdout",
          "output_type": "stream",
          "text": [
            "2022-10-20 10:03:06,984 - base - recpack - INFO - Processed epoch 3 in 0.07 s.Batch Training Loss = 2.6833\n",
            "2022-10-20 10:03:07,011 - stopping_criterion - recpack - INFO - StoppingCriterion has value 0.14184057685634335, which is worse than previous iterations.\n",
            "2022-10-20 10:03:07,012 - base - recpack - INFO - Evaluation at end of 3 took 0.03 s.\n"
          ]
        },
        {
          "data": {
            "application/vnd.jupyter.widget-view+json": {
              "model_id": "a75179142e7d45418b22bcd39b9090af",
              "version_major": 2,
              "version_minor": 0
            },
            "text/plain": [
              "train_epoch BPRMF: 0it [00:00, ?it/s]"
            ]
          },
          "metadata": {},
          "output_type": "display_data"
        },
        {
          "name": "stdout",
          "output_type": "stream",
          "text": [
            "2022-10-20 10:03:07,072 - base - recpack - INFO - Processed epoch 4 in 0.06 s.Batch Training Loss = 2.6605\n",
            "2022-10-20 10:03:07,101 - stopping_criterion - recpack - INFO - StoppingCriterion has value 0.14184057685634335, which is worse than previous iterations.\n",
            "2022-10-20 10:03:07,102 - base - recpack - INFO - Evaluation at end of 4 took 0.03 s.\n"
          ]
        },
        {
          "data": {
            "application/vnd.jupyter.widget-view+json": {
              "model_id": "8a085c9dfcb74fc892293b7ced84c302",
              "version_major": 2,
              "version_minor": 0
            },
            "text/plain": [
              "train_epoch BPRMF: 0it [00:00, ?it/s]"
            ]
          },
          "metadata": {},
          "output_type": "display_data"
        },
        {
          "name": "stdout",
          "output_type": "stream",
          "text": [
            "2022-10-20 10:03:07,165 - base - recpack - INFO - Processed epoch 5 in 0.06 s.Batch Training Loss = 2.6731\n",
            "2022-10-20 10:03:07,207 - stopping_criterion - recpack - INFO - StoppingCriterion has value 0.14184057685634335, which is worse than previous iterations.\n",
            "2022-10-20 10:03:07,208 - base - recpack - INFO - Evaluation at end of 5 took 0.04 s.\n"
          ]
        },
        {
          "data": {
            "application/vnd.jupyter.widget-view+json": {
              "model_id": "4e00cb25894b4988867647340c2b6d83",
              "version_major": 2,
              "version_minor": 0
            },
            "text/plain": [
              "train_epoch BPRMF: 0it [00:00, ?it/s]"
            ]
          },
          "metadata": {},
          "output_type": "display_data"
        },
        {
          "name": "stdout",
          "output_type": "stream",
          "text": [
            "2022-10-20 10:03:07,271 - base - recpack - INFO - Processed epoch 6 in 0.06 s.Batch Training Loss = 2.6757\n",
            "2022-10-20 10:03:07,293 - stopping_criterion - recpack - INFO - StoppingCriterion has value 0.14184057685634335, which is worse than previous iterations.\n",
            "2022-10-20 10:03:07,294 - base - recpack - INFO - Evaluation at end of 6 took 0.02 s.\n"
          ]
        },
        {
          "data": {
            "application/vnd.jupyter.widget-view+json": {
              "model_id": "652163b7aa46461c8ac94c843384af6b",
              "version_major": 2,
              "version_minor": 0
            },
            "text/plain": [
              "train_epoch BPRMF: 0it [00:00, ?it/s]"
            ]
          },
          "metadata": {},
          "output_type": "display_data"
        },
        {
          "name": "stdout",
          "output_type": "stream",
          "text": [
            "2022-10-20 10:03:07,356 - base - recpack - INFO - Processed epoch 7 in 0.06 s.Batch Training Loss = 2.6889\n",
            "2022-10-20 10:03:07,388 - stopping_criterion - recpack - INFO - StoppingCriterion has value 0.14184057685634335, which is worse than previous iterations.\n",
            "2022-10-20 10:03:07,389 - base - recpack - INFO - Evaluation at end of 7 took 0.03 s.\n"
          ]
        },
        {
          "data": {
            "application/vnd.jupyter.widget-view+json": {
              "model_id": "6650726ab43b4a0388dceb3cacd037ab",
              "version_major": 2,
              "version_minor": 0
            },
            "text/plain": [
              "train_epoch BPRMF: 0it [00:00, ?it/s]"
            ]
          },
          "metadata": {},
          "output_type": "display_data"
        },
        {
          "name": "stdout",
          "output_type": "stream",
          "text": [
            "2022-10-20 10:03:07,461 - base - recpack - INFO - Processed epoch 8 in 0.07 s.Batch Training Loss = 2.6710\n",
            "2022-10-20 10:03:07,490 - stopping_criterion - recpack - INFO - StoppingCriterion has value 0.14184057685634335, which is worse than previous iterations.\n",
            "2022-10-20 10:03:07,491 - base - recpack - INFO - Evaluation at end of 8 took 0.03 s.\n"
          ]
        },
        {
          "data": {
            "application/vnd.jupyter.widget-view+json": {
              "model_id": "730ad2f0f5f6468eb16250865a594a9b",
              "version_major": 2,
              "version_minor": 0
            },
            "text/plain": [
              "train_epoch BPRMF: 0it [00:00, ?it/s]"
            ]
          },
          "metadata": {},
          "output_type": "display_data"
        },
        {
          "name": "stdout",
          "output_type": "stream",
          "text": [
            "2022-10-20 10:03:07,550 - base - recpack - INFO - Processed epoch 9 in 0.06 s.Batch Training Loss = 2.6827\n",
            "2022-10-20 10:03:07,576 - stopping_criterion - recpack - INFO - StoppingCriterion has value 0.14184057685634335, which is worse than previous iterations.\n",
            "2022-10-20 10:03:07,577 - base - recpack - INFO - Evaluation at end of 9 took 0.03 s.\n",
            "2022-10-20 10:03:07,582 - base - recpack - INFO - Fitting BPRMF complete - Took 0.943s\n"
          ]
        },
        {
          "data": {
            "application/vnd.jupyter.widget-view+json": {
              "model_id": "2750ae8c651a43c6b06e10fd2ca7788d",
              "version_major": 2,
              "version_minor": 0
            },
            "text/plain": [
              "train_epoch BPRMF: 0it [00:00, ?it/s]"
            ]
          },
          "metadata": {},
          "output_type": "display_data"
        },
        {
          "name": "stdout",
          "output_type": "stream",
          "text": [
            "2022-10-20 10:03:07,657 - base - recpack - INFO - Processed epoch 0 in 0.05 s.Batch Training Loss = 2.6850\n",
            "2022-10-20 10:03:07,683 - stopping_criterion - recpack - INFO - StoppingCriterion has value 0.11693322618097736, which is better than previous iterations.\n",
            "2022-10-20 10:03:07,685 - base - recpack - INFO - Model improved. Storing better model.\n",
            "2022-10-20 10:03:07,687 - base - recpack - INFO - Evaluation at end of 0 took 0.02 s.\n"
          ]
        },
        {
          "data": {
            "application/vnd.jupyter.widget-view+json": {
              "model_id": "67819391c6c14932a6ee4a681ab48847",
              "version_major": 2,
              "version_minor": 0
            },
            "text/plain": [
              "train_epoch BPRMF: 0it [00:00, ?it/s]"
            ]
          },
          "metadata": {},
          "output_type": "display_data"
        },
        {
          "name": "stdout",
          "output_type": "stream",
          "text": [
            "2022-10-20 10:03:07,736 - base - recpack - INFO - Processed epoch 1 in 0.05 s.Batch Training Loss = 2.6924\n",
            "2022-10-20 10:03:07,760 - stopping_criterion - recpack - INFO - StoppingCriterion has value 0.11693322618097736, which is worse than previous iterations.\n",
            "2022-10-20 10:03:07,768 - base - recpack - INFO - Evaluation at end of 1 took 0.03 s.\n"
          ]
        },
        {
          "data": {
            "application/vnd.jupyter.widget-view+json": {
              "model_id": "b02e794f95ff4941bb64adfd9f7cf42d",
              "version_major": 2,
              "version_minor": 0
            },
            "text/plain": [
              "train_epoch BPRMF: 0it [00:00, ?it/s]"
            ]
          },
          "metadata": {},
          "output_type": "display_data"
        },
        {
          "name": "stdout",
          "output_type": "stream",
          "text": [
            "2022-10-20 10:03:07,819 - base - recpack - INFO - Processed epoch 2 in 0.04 s.Batch Training Loss = 2.6847\n",
            "2022-10-20 10:03:07,841 - stopping_criterion - recpack - INFO - StoppingCriterion has value 0.11693322618097736, which is worse than previous iterations.\n",
            "2022-10-20 10:03:07,842 - base - recpack - INFO - Evaluation at end of 2 took 0.02 s.\n"
          ]
        },
        {
          "data": {
            "application/vnd.jupyter.widget-view+json": {
              "model_id": "fcbc2331d2354ffe86c9e9a57198eeea",
              "version_major": 2,
              "version_minor": 0
            },
            "text/plain": [
              "train_epoch BPRMF: 0it [00:00, ?it/s]"
            ]
          },
          "metadata": {},
          "output_type": "display_data"
        },
        {
          "name": "stdout",
          "output_type": "stream",
          "text": [
            "2022-10-20 10:03:07,888 - base - recpack - INFO - Processed epoch 3 in 0.04 s.Batch Training Loss = 2.6868\n",
            "2022-10-20 10:03:07,911 - stopping_criterion - recpack - INFO - StoppingCriterion has value 0.11693322618097736, which is worse than previous iterations.\n",
            "2022-10-20 10:03:07,912 - base - recpack - INFO - Evaluation at end of 3 took 0.02 s.\n"
          ]
        },
        {
          "data": {
            "application/vnd.jupyter.widget-view+json": {
              "model_id": "577eb72f7b7d418a9b21f7a75a24eb39",
              "version_major": 2,
              "version_minor": 0
            },
            "text/plain": [
              "train_epoch BPRMF: 0it [00:00, ?it/s]"
            ]
          },
          "metadata": {},
          "output_type": "display_data"
        },
        {
          "name": "stdout",
          "output_type": "stream",
          "text": [
            "2022-10-20 10:03:07,963 - base - recpack - INFO - Processed epoch 4 in 0.05 s.Batch Training Loss = 2.6817\n",
            "2022-10-20 10:03:07,987 - stopping_criterion - recpack - INFO - StoppingCriterion has value 0.11693322618097736, which is worse than previous iterations.\n",
            "2022-10-20 10:03:07,989 - base - recpack - INFO - Evaluation at end of 4 took 0.02 s.\n"
          ]
        },
        {
          "data": {
            "application/vnd.jupyter.widget-view+json": {
              "model_id": "eddcb58326174e49abaee5b93c4a587c",
              "version_major": 2,
              "version_minor": 0
            },
            "text/plain": [
              "train_epoch BPRMF: 0it [00:00, ?it/s]"
            ]
          },
          "metadata": {},
          "output_type": "display_data"
        },
        {
          "name": "stdout",
          "output_type": "stream",
          "text": [
            "2022-10-20 10:03:08,057 - base - recpack - INFO - Processed epoch 5 in 0.07 s.Batch Training Loss = 2.6764\n",
            "2022-10-20 10:03:08,087 - stopping_criterion - recpack - INFO - StoppingCriterion has value 0.11693322618097736, which is worse than previous iterations.\n",
            "2022-10-20 10:03:08,090 - base - recpack - INFO - Evaluation at end of 5 took 0.03 s.\n"
          ]
        },
        {
          "data": {
            "application/vnd.jupyter.widget-view+json": {
              "model_id": "c6841ffef60d45f589be59100883e528",
              "version_major": 2,
              "version_minor": 0
            },
            "text/plain": [
              "train_epoch BPRMF: 0it [00:00, ?it/s]"
            ]
          },
          "metadata": {},
          "output_type": "display_data"
        },
        {
          "name": "stdout",
          "output_type": "stream",
          "text": [
            "2022-10-20 10:03:08,140 - base - recpack - INFO - Processed epoch 6 in 0.05 s.Batch Training Loss = 2.6852\n",
            "2022-10-20 10:03:08,164 - stopping_criterion - recpack - INFO - StoppingCriterion has value 0.11693322618097736, which is worse than previous iterations.\n",
            "2022-10-20 10:03:08,165 - base - recpack - INFO - Evaluation at end of 6 took 0.02 s.\n"
          ]
        },
        {
          "data": {
            "application/vnd.jupyter.widget-view+json": {
              "model_id": "9f6fd436ac1344e092336cdf153cbe8b",
              "version_major": 2,
              "version_minor": 0
            },
            "text/plain": [
              "train_epoch BPRMF: 0it [00:00, ?it/s]"
            ]
          },
          "metadata": {},
          "output_type": "display_data"
        },
        {
          "name": "stdout",
          "output_type": "stream",
          "text": [
            "2022-10-20 10:03:08,300 - base - recpack - INFO - Processed epoch 7 in 0.13 s.Batch Training Loss = 2.6668\n",
            "2022-10-20 10:03:08,335 - stopping_criterion - recpack - INFO - StoppingCriterion has value 0.11693322618097736, which is worse than previous iterations.\n",
            "2022-10-20 10:03:08,336 - base - recpack - INFO - Evaluation at end of 7 took 0.03 s.\n"
          ]
        },
        {
          "data": {
            "application/vnd.jupyter.widget-view+json": {
              "model_id": "640637ccbd844a079d35d3e390bca7eb",
              "version_major": 2,
              "version_minor": 0
            },
            "text/plain": [
              "train_epoch BPRMF: 0it [00:00, ?it/s]"
            ]
          },
          "metadata": {},
          "output_type": "display_data"
        },
        {
          "name": "stdout",
          "output_type": "stream",
          "text": [
            "2022-10-20 10:03:08,399 - base - recpack - INFO - Processed epoch 8 in 0.06 s.Batch Training Loss = 2.6947\n",
            "2022-10-20 10:03:08,426 - stopping_criterion - recpack - INFO - StoppingCriterion has value 0.11693322618097736, which is worse than previous iterations.\n",
            "2022-10-20 10:03:08,427 - base - recpack - INFO - Evaluation at end of 8 took 0.03 s.\n"
          ]
        },
        {
          "data": {
            "application/vnd.jupyter.widget-view+json": {
              "model_id": "76af70caa46c4a61883f63b394b35621",
              "version_major": 2,
              "version_minor": 0
            },
            "text/plain": [
              "train_epoch BPRMF: 0it [00:00, ?it/s]"
            ]
          },
          "metadata": {},
          "output_type": "display_data"
        },
        {
          "name": "stdout",
          "output_type": "stream",
          "text": [
            "2022-10-20 10:03:08,497 - base - recpack - INFO - Processed epoch 9 in 0.07 s.Batch Training Loss = 2.6857\n",
            "2022-10-20 10:03:08,519 - stopping_criterion - recpack - INFO - StoppingCriterion has value 0.11693322618097736, which is worse than previous iterations.\n",
            "2022-10-20 10:03:08,519 - base - recpack - INFO - Evaluation at end of 9 took 0.02 s.\n",
            "2022-10-20 10:03:08,526 - base - recpack - INFO - Fitting BPRMF complete - Took 0.921s\n"
          ]
        },
        {
          "data": {
            "application/vnd.jupyter.widget-view+json": {
              "model_id": "58cfa161b4f54d72b2e2ae336896cff5",
              "version_major": 2,
              "version_minor": 0
            },
            "text/plain": [
              "train_epoch BPRMF: 0it [00:00, ?it/s]"
            ]
          },
          "metadata": {},
          "output_type": "display_data"
        },
        {
          "name": "stdout",
          "output_type": "stream",
          "text": [
            "2022-10-20 10:03:08,621 - base - recpack - INFO - Processed epoch 0 in 0.06 s.Batch Training Loss = 2.6621\n",
            "2022-10-20 10:03:08,648 - stopping_criterion - recpack - INFO - StoppingCriterion has value 0.1001637958209096, which is better than previous iterations.\n",
            "2022-10-20 10:03:08,649 - base - recpack - INFO - Model improved. Storing better model.\n",
            "2022-10-20 10:03:08,654 - base - recpack - INFO - Evaluation at end of 0 took 0.03 s.\n"
          ]
        },
        {
          "data": {
            "application/vnd.jupyter.widget-view+json": {
              "model_id": "25db2a97057a41eca6b10110c8cce2ca",
              "version_major": 2,
              "version_minor": 0
            },
            "text/plain": [
              "train_epoch BPRMF: 0it [00:00, ?it/s]"
            ]
          },
          "metadata": {},
          "output_type": "display_data"
        },
        {
          "name": "stdout",
          "output_type": "stream",
          "text": [
            "2022-10-20 10:03:08,749 - base - recpack - INFO - Processed epoch 1 in 0.09 s.Batch Training Loss = 2.6623\n",
            "2022-10-20 10:03:08,770 - stopping_criterion - recpack - INFO - StoppingCriterion has value 0.1001637958209096, which is worse than previous iterations.\n",
            "2022-10-20 10:03:08,771 - base - recpack - INFO - Evaluation at end of 1 took 0.02 s.\n"
          ]
        },
        {
          "data": {
            "application/vnd.jupyter.widget-view+json": {
              "model_id": "17ae8a3598f14abda95db80e058008fa",
              "version_major": 2,
              "version_minor": 0
            },
            "text/plain": [
              "train_epoch BPRMF: 0it [00:00, ?it/s]"
            ]
          },
          "metadata": {},
          "output_type": "display_data"
        },
        {
          "name": "stdout",
          "output_type": "stream",
          "text": [
            "2022-10-20 10:03:08,839 - base - recpack - INFO - Processed epoch 2 in 0.07 s.Batch Training Loss = 2.6632\n",
            "2022-10-20 10:03:08,870 - stopping_criterion - recpack - INFO - StoppingCriterion has value 0.1001637958209096, which is worse than previous iterations.\n",
            "2022-10-20 10:03:08,870 - base - recpack - INFO - Evaluation at end of 2 took 0.03 s.\n"
          ]
        },
        {
          "data": {
            "application/vnd.jupyter.widget-view+json": {
              "model_id": "1016f2942dfd4f80925f340c5f83a793",
              "version_major": 2,
              "version_minor": 0
            },
            "text/plain": [
              "train_epoch BPRMF: 0it [00:00, ?it/s]"
            ]
          },
          "metadata": {},
          "output_type": "display_data"
        },
        {
          "name": "stdout",
          "output_type": "stream",
          "text": [
            "2022-10-20 10:03:08,952 - base - recpack - INFO - Processed epoch 3 in 0.08 s.Batch Training Loss = 2.6561\n",
            "2022-10-20 10:03:08,975 - stopping_criterion - recpack - INFO - StoppingCriterion has value 0.1001637958209096, which is worse than previous iterations.\n",
            "2022-10-20 10:03:08,977 - base - recpack - INFO - Evaluation at end of 3 took 0.02 s.\n"
          ]
        },
        {
          "data": {
            "application/vnd.jupyter.widget-view+json": {
              "model_id": "3e09b604616b407ba29977a309a7c135",
              "version_major": 2,
              "version_minor": 0
            },
            "text/plain": [
              "train_epoch BPRMF: 0it [00:00, ?it/s]"
            ]
          },
          "metadata": {},
          "output_type": "display_data"
        },
        {
          "name": "stdout",
          "output_type": "stream",
          "text": [
            "2022-10-20 10:03:09,027 - base - recpack - INFO - Processed epoch 4 in 0.05 s.Batch Training Loss = 2.6612\n",
            "2022-10-20 10:03:09,047 - stopping_criterion - recpack - INFO - StoppingCriterion has value 0.1001637958209096, which is worse than previous iterations.\n",
            "2022-10-20 10:03:09,049 - base - recpack - INFO - Evaluation at end of 4 took 0.02 s.\n"
          ]
        },
        {
          "data": {
            "application/vnd.jupyter.widget-view+json": {
              "model_id": "9b4f2272d0234312bc969526fc8956c7",
              "version_major": 2,
              "version_minor": 0
            },
            "text/plain": [
              "train_epoch BPRMF: 0it [00:00, ?it/s]"
            ]
          },
          "metadata": {},
          "output_type": "display_data"
        },
        {
          "name": "stdout",
          "output_type": "stream",
          "text": [
            "2022-10-20 10:03:09,124 - base - recpack - INFO - Processed epoch 5 in 0.07 s.Batch Training Loss = 2.6582\n",
            "2022-10-20 10:03:09,154 - stopping_criterion - recpack - INFO - StoppingCriterion has value 0.1001637958209096, which is worse than previous iterations.\n",
            "2022-10-20 10:03:09,155 - base - recpack - INFO - Evaluation at end of 5 took 0.03 s.\n"
          ]
        },
        {
          "data": {
            "application/vnd.jupyter.widget-view+json": {
              "model_id": "6f789afd98474ad897607334fb7581af",
              "version_major": 2,
              "version_minor": 0
            },
            "text/plain": [
              "train_epoch BPRMF: 0it [00:00, ?it/s]"
            ]
          },
          "metadata": {},
          "output_type": "display_data"
        },
        {
          "name": "stdout",
          "output_type": "stream",
          "text": [
            "2022-10-20 10:03:09,237 - base - recpack - INFO - Processed epoch 6 in 0.08 s.Batch Training Loss = 2.6612\n",
            "2022-10-20 10:03:09,262 - stopping_criterion - recpack - INFO - StoppingCriterion has value 0.1001637958209096, which is worse than previous iterations.\n",
            "2022-10-20 10:03:09,263 - base - recpack - INFO - Evaluation at end of 6 took 0.02 s.\n"
          ]
        },
        {
          "data": {
            "application/vnd.jupyter.widget-view+json": {
              "model_id": "761bf52f553c4eba9ffa9eb8d146766a",
              "version_major": 2,
              "version_minor": 0
            },
            "text/plain": [
              "train_epoch BPRMF: 0it [00:00, ?it/s]"
            ]
          },
          "metadata": {},
          "output_type": "display_data"
        },
        {
          "name": "stdout",
          "output_type": "stream",
          "text": [
            "2022-10-20 10:03:09,382 - base - recpack - INFO - Processed epoch 7 in 0.12 s.Batch Training Loss = 2.6489\n",
            "2022-10-20 10:03:09,402 - stopping_criterion - recpack - INFO - StoppingCriterion has value 0.1001637958209096, which is worse than previous iterations.\n",
            "2022-10-20 10:03:09,403 - base - recpack - INFO - Evaluation at end of 7 took 0.02 s.\n"
          ]
        },
        {
          "data": {
            "application/vnd.jupyter.widget-view+json": {
              "model_id": "a9fc4af87e744909b81950bd75de75c2",
              "version_major": 2,
              "version_minor": 0
            },
            "text/plain": [
              "train_epoch BPRMF: 0it [00:00, ?it/s]"
            ]
          },
          "metadata": {},
          "output_type": "display_data"
        },
        {
          "name": "stdout",
          "output_type": "stream",
          "text": [
            "2022-10-20 10:03:09,468 - base - recpack - INFO - Processed epoch 8 in 0.06 s.Batch Training Loss = 2.6549\n",
            "2022-10-20 10:03:09,496 - stopping_criterion - recpack - INFO - StoppingCriterion has value 0.1001637958209096, which is worse than previous iterations.\n",
            "2022-10-20 10:03:09,497 - base - recpack - INFO - Evaluation at end of 8 took 0.03 s.\n"
          ]
        },
        {
          "data": {
            "application/vnd.jupyter.widget-view+json": {
              "model_id": "b3047b3f43ad487fa02905fd551205e8",
              "version_major": 2,
              "version_minor": 0
            },
            "text/plain": [
              "train_epoch BPRMF: 0it [00:00, ?it/s]"
            ]
          },
          "metadata": {},
          "output_type": "display_data"
        },
        {
          "name": "stdout",
          "output_type": "stream",
          "text": [
            "2022-10-20 10:03:09,547 - base - recpack - INFO - Processed epoch 9 in 0.05 s.Batch Training Loss = 2.6607\n",
            "2022-10-20 10:03:09,570 - stopping_criterion - recpack - INFO - StoppingCriterion has value 0.1001637958209096, which is worse than previous iterations.\n",
            "2022-10-20 10:03:09,572 - base - recpack - INFO - Evaluation at end of 9 took 0.02 s.\n",
            "2022-10-20 10:03:09,577 - base - recpack - INFO - Fitting BPRMF complete - Took 1.03s\n"
          ]
        },
        {
          "data": {
            "application/vnd.jupyter.widget-view+json": {
              "model_id": "5c1b3c3f46d3487aa4d98f3da23b7fc9",
              "version_major": 2,
              "version_minor": 0
            },
            "text/plain": [
              "train_epoch BPRMF: 0it [00:00, ?it/s]"
            ]
          },
          "metadata": {},
          "output_type": "display_data"
        },
        {
          "name": "stdout",
          "output_type": "stream",
          "text": [
            "2022-10-20 10:03:09,655 - base - recpack - INFO - Processed epoch 0 in 0.05 s.Batch Training Loss = 2.6575\n",
            "2022-10-20 10:03:09,679 - stopping_criterion - recpack - INFO - StoppingCriterion has value 0.17553373359789884, which is better than previous iterations.\n",
            "2022-10-20 10:03:09,682 - base - recpack - INFO - Model improved. Storing better model.\n",
            "2022-10-20 10:03:09,686 - base - recpack - INFO - Evaluation at end of 0 took 0.03 s.\n"
          ]
        },
        {
          "data": {
            "application/vnd.jupyter.widget-view+json": {
              "model_id": "d4d5e7ea1b4a464ba2a84beb3aa5b214",
              "version_major": 2,
              "version_minor": 0
            },
            "text/plain": [
              "train_epoch BPRMF: 0it [00:00, ?it/s]"
            ]
          },
          "metadata": {},
          "output_type": "display_data"
        },
        {
          "name": "stdout",
          "output_type": "stream",
          "text": [
            "2022-10-20 10:03:09,736 - base - recpack - INFO - Processed epoch 1 in 0.05 s.Batch Training Loss = 2.6579\n",
            "2022-10-20 10:03:09,774 - stopping_criterion - recpack - INFO - StoppingCriterion has value 0.17553373359789884, which is worse than previous iterations.\n",
            "2022-10-20 10:03:09,778 - base - recpack - INFO - Evaluation at end of 1 took 0.04 s.\n"
          ]
        },
        {
          "data": {
            "application/vnd.jupyter.widget-view+json": {
              "model_id": "2847100169c44734b3e9b38d6f24e3cd",
              "version_major": 2,
              "version_minor": 0
            },
            "text/plain": [
              "train_epoch BPRMF: 0it [00:00, ?it/s]"
            ]
          },
          "metadata": {},
          "output_type": "display_data"
        },
        {
          "name": "stdout",
          "output_type": "stream",
          "text": [
            "2022-10-20 10:03:09,850 - base - recpack - INFO - Processed epoch 2 in 0.07 s.Batch Training Loss = 2.6784\n",
            "2022-10-20 10:03:09,875 - stopping_criterion - recpack - INFO - StoppingCriterion has value 0.17553373359789884, which is worse than previous iterations.\n",
            "2022-10-20 10:03:09,877 - base - recpack - INFO - Evaluation at end of 2 took 0.03 s.\n"
          ]
        },
        {
          "data": {
            "application/vnd.jupyter.widget-view+json": {
              "model_id": "9f849893166b4571835680dc380e8379",
              "version_major": 2,
              "version_minor": 0
            },
            "text/plain": [
              "train_epoch BPRMF: 0it [00:00, ?it/s]"
            ]
          },
          "metadata": {},
          "output_type": "display_data"
        },
        {
          "name": "stdout",
          "output_type": "stream",
          "text": [
            "2022-10-20 10:03:09,937 - base - recpack - INFO - Processed epoch 3 in 0.06 s.Batch Training Loss = 2.6662\n",
            "2022-10-20 10:03:09,969 - stopping_criterion - recpack - INFO - StoppingCriterion has value 0.17553373359789884, which is worse than previous iterations.\n",
            "2022-10-20 10:03:09,970 - base - recpack - INFO - Evaluation at end of 3 took 0.03 s.\n"
          ]
        },
        {
          "data": {
            "application/vnd.jupyter.widget-view+json": {
              "model_id": "4d92359e32734b19a88b5889a457d66c",
              "version_major": 2,
              "version_minor": 0
            },
            "text/plain": [
              "train_epoch BPRMF: 0it [00:00, ?it/s]"
            ]
          },
          "metadata": {},
          "output_type": "display_data"
        },
        {
          "name": "stdout",
          "output_type": "stream",
          "text": [
            "2022-10-20 10:03:10,054 - base - recpack - INFO - Processed epoch 4 in 0.08 s.Batch Training Loss = 2.6549\n",
            "2022-10-20 10:03:10,081 - stopping_criterion - recpack - INFO - StoppingCriterion has value 0.17553373359789884, which is worse than previous iterations.\n",
            "2022-10-20 10:03:10,082 - base - recpack - INFO - Evaluation at end of 4 took 0.02 s.\n"
          ]
        },
        {
          "data": {
            "application/vnd.jupyter.widget-view+json": {
              "model_id": "ca355f3f5a9f45cab9f5b8b91e8bf35d",
              "version_major": 2,
              "version_minor": 0
            },
            "text/plain": [
              "train_epoch BPRMF: 0it [00:00, ?it/s]"
            ]
          },
          "metadata": {},
          "output_type": "display_data"
        },
        {
          "name": "stdout",
          "output_type": "stream",
          "text": [
            "2022-10-20 10:03:10,164 - base - recpack - INFO - Processed epoch 5 in 0.08 s.Batch Training Loss = 2.6719\n",
            "2022-10-20 10:03:10,192 - stopping_criterion - recpack - INFO - StoppingCriterion has value 0.17553373359789884, which is worse than previous iterations.\n",
            "2022-10-20 10:03:10,193 - base - recpack - INFO - Evaluation at end of 5 took 0.03 s.\n"
          ]
        },
        {
          "data": {
            "application/vnd.jupyter.widget-view+json": {
              "model_id": "0d4553993072403d80391eeff6fb2363",
              "version_major": 2,
              "version_minor": 0
            },
            "text/plain": [
              "train_epoch BPRMF: 0it [00:00, ?it/s]"
            ]
          },
          "metadata": {},
          "output_type": "display_data"
        },
        {
          "name": "stdout",
          "output_type": "stream",
          "text": [
            "2022-10-20 10:03:10,248 - base - recpack - INFO - Processed epoch 6 in 0.05 s.Batch Training Loss = 2.6834\n",
            "2022-10-20 10:03:10,280 - stopping_criterion - recpack - INFO - StoppingCriterion has value 0.17553373359789884, which is worse than previous iterations.\n",
            "2022-10-20 10:03:10,281 - base - recpack - INFO - Evaluation at end of 6 took 0.02 s.\n"
          ]
        },
        {
          "data": {
            "application/vnd.jupyter.widget-view+json": {
              "model_id": "45a307dfdb1b40588dd1c1f4d16dee85",
              "version_major": 2,
              "version_minor": 0
            },
            "text/plain": [
              "train_epoch BPRMF: 0it [00:00, ?it/s]"
            ]
          },
          "metadata": {},
          "output_type": "display_data"
        },
        {
          "name": "stdout",
          "output_type": "stream",
          "text": [
            "2022-10-20 10:03:10,338 - base - recpack - INFO - Processed epoch 7 in 0.05 s.Batch Training Loss = 2.6607\n",
            "2022-10-20 10:03:10,359 - stopping_criterion - recpack - INFO - StoppingCriterion has value 0.17553373359789884, which is worse than previous iterations.\n",
            "2022-10-20 10:03:10,361 - base - recpack - INFO - Evaluation at end of 7 took 0.02 s.\n"
          ]
        },
        {
          "data": {
            "application/vnd.jupyter.widget-view+json": {
              "model_id": "1a88568af20d49739ff4c14c6c62df0d",
              "version_major": 2,
              "version_minor": 0
            },
            "text/plain": [
              "train_epoch BPRMF: 0it [00:00, ?it/s]"
            ]
          },
          "metadata": {},
          "output_type": "display_data"
        },
        {
          "name": "stdout",
          "output_type": "stream",
          "text": [
            "2022-10-20 10:03:10,428 - base - recpack - INFO - Processed epoch 8 in 0.06 s.Batch Training Loss = 2.6525\n",
            "2022-10-20 10:03:10,453 - stopping_criterion - recpack - INFO - StoppingCriterion has value 0.17553373359789884, which is worse than previous iterations.\n",
            "2022-10-20 10:03:10,454 - base - recpack - INFO - Evaluation at end of 8 took 0.02 s.\n"
          ]
        },
        {
          "data": {
            "application/vnd.jupyter.widget-view+json": {
              "model_id": "06785520191c48378b199a1c50ff765a",
              "version_major": 2,
              "version_minor": 0
            },
            "text/plain": [
              "train_epoch BPRMF: 0it [00:00, ?it/s]"
            ]
          },
          "metadata": {},
          "output_type": "display_data"
        },
        {
          "name": "stdout",
          "output_type": "stream",
          "text": [
            "2022-10-20 10:03:10,511 - base - recpack - INFO - Processed epoch 9 in 0.06 s.Batch Training Loss = 2.6581\n",
            "2022-10-20 10:03:10,533 - stopping_criterion - recpack - INFO - StoppingCriterion has value 0.17553373359789884, which is worse than previous iterations.\n",
            "2022-10-20 10:03:10,540 - base - recpack - INFO - Evaluation at end of 9 took 0.03 s.\n",
            "2022-10-20 10:03:10,554 - base - recpack - INFO - Fitting BPRMF complete - Took 0.95s\n"
          ]
        }
      ],
      "source": [
        "builder = PipelineBuilder()\n",
        "builder.set_data_from_scenario(scenario)\n",
        "\n",
        "builder.add_metric('NDCGK', K=10)\n",
        "builder.add_metric('CoverageK', K=10)\n",
        "\n",
        "builder.add_algorithm(\n",
        "    algorithm = 'BPRMF', \n",
        "    params = {\n",
        "        'batch_size': 128,\n",
        "        'max_epochs': 10,\n",
        "        'learning_rate': 0.001,\n",
        "        'stopping_criterion': 'ndcg',\n",
        "        'predict_topK': 50,\n",
        "        'lambda_h': 0.1,\n",
        "        'lambda_w': 0.1,\n",
        "    },\n",
        "    grid = {\n",
        "        'num_components': [16, 32, 64, 128],\n",
        "    }\n",
        ")\n",
        "\n",
        "builder.set_optimisation_metric('NDCGK', K=10)\n",
        "\n",
        "pipeline = builder.build()\n",
        "\n",
        "pipeline.run()"
      ]
    },
    {
      "cell_type": "code",
      "execution_count": 22,
      "id": "54afe508",
      "metadata": {},
      "outputs": [
        {
          "data": {
            "text/html": [
              "<div>\n",
              "<style scoped>\n",
              "    .dataframe tbody tr th:only-of-type {\n",
              "        vertical-align: middle;\n",
              "    }\n",
              "\n",
              "    .dataframe tbody tr th {\n",
              "        vertical-align: top;\n",
              "    }\n",
              "\n",
              "    .dataframe thead th {\n",
              "        text-align: right;\n",
              "    }\n",
              "</style>\n",
              "<table border=\"1\" class=\"dataframe\">\n",
              "  <thead>\n",
              "    <tr style=\"text-align: right;\">\n",
              "      <th></th>\n",
              "      <th>coveragek_10</th>\n",
              "      <th>ndcgk_10</th>\n",
              "    </tr>\n",
              "  </thead>\n",
              "  <tbody>\n",
              "    <tr>\n",
              "      <th>BPRMF</th>\n",
              "      <td>1.0</td>\n",
              "      <td>0.043226</td>\n",
              "    </tr>\n",
              "  </tbody>\n",
              "</table>\n",
              "</div>"
            ],
            "text/plain": [
              "       coveragek_10  ndcgk_10\n",
              "BPRMF           1.0  0.043226"
            ]
          },
          "execution_count": 22,
          "metadata": {},
          "output_type": "execute_result"
        }
      ],
      "source": [
        "pipeline.get_metrics(short=True)"
      ]
    },
    {
      "cell_type": "code",
      "execution_count": 23,
      "id": "0abc7d2e",
      "metadata": {},
      "outputs": [
        {
          "data": {
            "text/html": [
              "<div>\n",
              "<style scoped>\n",
              "    .dataframe tbody tr th:only-of-type {\n",
              "        vertical-align: middle;\n",
              "    }\n",
              "\n",
              "    .dataframe tbody tr th {\n",
              "        vertical-align: top;\n",
              "    }\n",
              "\n",
              "    .dataframe thead th {\n",
              "        text-align: right;\n",
              "    }\n",
              "</style>\n",
              "<table border=\"1\" class=\"dataframe\">\n",
              "  <thead>\n",
              "    <tr style=\"text-align: right;\">\n",
              "      <th></th>\n",
              "      <th>identifier</th>\n",
              "      <th>params</th>\n",
              "      <th>ndcgk_10</th>\n",
              "    </tr>\n",
              "  </thead>\n",
              "  <tbody>\n",
              "    <tr>\n",
              "      <th>0</th>\n",
              "      <td>BPRMF(batch_size=128,keep_last=False,lambda_h=...</td>\n",
              "      <td>{'num_components': 16, 'batch_size': 128, 'max...</td>\n",
              "      <td>0.063295</td>\n",
              "    </tr>\n",
              "    <tr>\n",
              "      <th>1</th>\n",
              "      <td>BPRMF(batch_size=128,keep_last=False,lambda_h=...</td>\n",
              "      <td>{'num_components': 32, 'batch_size': 128, 'max...</td>\n",
              "      <td>0.067360</td>\n",
              "    </tr>\n",
              "    <tr>\n",
              "      <th>2</th>\n",
              "      <td>BPRMF(batch_size=128,keep_last=False,lambda_h=...</td>\n",
              "      <td>{'num_components': 64, 'batch_size': 128, 'max...</td>\n",
              "      <td>0.055457</td>\n",
              "    </tr>\n",
              "    <tr>\n",
              "      <th>3</th>\n",
              "      <td>BPRMF(batch_size=128,keep_last=False,lambda_h=...</td>\n",
              "      <td>{'num_components': 128, 'batch_size': 128, 'ma...</td>\n",
              "      <td>0.026534</td>\n",
              "    </tr>\n",
              "  </tbody>\n",
              "</table>\n",
              "</div>"
            ],
            "text/plain": [
              "                                          identifier  \\\n",
              "0  BPRMF(batch_size=128,keep_last=False,lambda_h=...   \n",
              "1  BPRMF(batch_size=128,keep_last=False,lambda_h=...   \n",
              "2  BPRMF(batch_size=128,keep_last=False,lambda_h=...   \n",
              "3  BPRMF(batch_size=128,keep_last=False,lambda_h=...   \n",
              "\n",
              "                                              params  ndcgk_10  \n",
              "0  {'num_components': 16, 'batch_size': 128, 'max...  0.063295  \n",
              "1  {'num_components': 32, 'batch_size': 128, 'max...  0.067360  \n",
              "2  {'num_components': 64, 'batch_size': 128, 'max...  0.055457  \n",
              "3  {'num_components': 128, 'batch_size': 128, 'ma...  0.026534  "
            ]
          },
          "execution_count": 23,
          "metadata": {},
          "output_type": "execute_result"
        }
      ],
      "source": [
        "pipeline.optimisation_results"
      ]
    },
    {
      "cell_type": "code",
      "execution_count": null,
      "id": "ac7e332e",
      "metadata": {},
      "outputs": [],
      "source": []
    }
  ],
  "metadata": {
    "celltoolbar": "Slideshow",
    "kernelspec": {
      "display_name": "Python 3.9.6 ('recpack')",
      "language": "python",
      "name": "python3"
    },
    "language_info": {
      "codemirror_mode": {
        "name": "ipython",
        "version": 3
      },
      "file_extension": ".py",
      "mimetype": "text/x-python",
      "name": "python",
      "nbconvert_exporter": "python",
      "pygments_lexer": "ipython3",
      "version": "3.9.6"
    },
    "vscode": {
      "interpreter": {
        "hash": "24cfc0f7cec4c0d8ebeb7dd622fa1c59a8f003e5d18a46b85b85a9cd1cf8f7c9"
      }
    }
  },
  "nbformat": 4,
  "nbformat_minor": 5
}
