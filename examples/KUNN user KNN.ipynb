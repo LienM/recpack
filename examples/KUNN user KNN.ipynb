{
 "cells": [
  {
   "cell_type": "code",
   "execution_count": 156,
   "id": "close-vegetable",
   "metadata": {},
   "outputs": [],
   "source": [
    "import numpy as np\n",
    "from scipy.sparse import csr_matrix, lil_matrix"
   ]
  },
  {
   "cell_type": "code",
   "execution_count": 139,
   "id": "vulnerable-holiday",
   "metadata": {},
   "outputs": [],
   "source": [
    "X = csr_matrix(np.array(\n",
    "    [\n",
    "        [0, 0, 0],\n",
    "        [0, 0, 0],\n",
    "        [0, 0, 0],\n",
    "        [1, 1, 0],\n",
    "        [0, 1, 1],\n",
    "    ]\n",
    "))\n",
    "\n",
    "training_interactions = csr_matrix(np.array(\n",
    "    [\n",
    "        [0, 1, 1],\n",
    "        [1, 0, 1],\n",
    "        [1, 1, 1],\n",
    "        [1, 0, 0],\n",
    "        [0, 1, 0],\n",
    "    ]\n",
    "))"
   ]
  },
  {
   "cell_type": "code",
   "execution_count": 140,
   "id": "horizontal-baghdad",
   "metadata": {},
   "outputs": [],
   "source": [
    "def union_csr_matrices(a, b):\n",
    "    return csr_matrix(a.astype(np.bool) + b.astype(np.bool)) * 1.0"
   ]
  },
  {
   "cell_type": "code",
   "execution_count": 141,
   "id": "scientific-complexity",
   "metadata": {},
   "outputs": [
    {
     "data": {
      "text/plain": [
       "array([[0., 1., 1.],\n",
       "       [1., 0., 1.],\n",
       "       [1., 1., 1.],\n",
       "       [1., 1., 0.],\n",
       "       [0., 1., 1.]])"
      ]
     },
     "execution_count": 141,
     "metadata": {},
     "output_type": "execute_result"
    }
   ],
   "source": [
    "# Combine the memoized training interactions with the predict interactions\n",
    "combined_interactions = union_csr_matrices(training_interactions, X)\n",
    "combined_interactions.toarray()"
   ]
  },
  {
   "cell_type": "code",
   "execution_count": 142,
   "id": "twelve-entity",
   "metadata": {},
   "outputs": [
    {
     "data": {
      "text/plain": [
       "[3, 4]"
      ]
     },
     "execution_count": 142,
     "metadata": {},
     "output_type": "execute_result"
    }
   ],
   "source": [
    "pred_users = list(set(X.nonzero()[0]))\n",
    "pred_users"
   ]
  },
  {
   "cell_type": "code",
   "execution_count": 143,
   "id": "subject-balloon",
   "metadata": {},
   "outputs": [
    {
     "data": {
      "text/plain": [
       "array([[0.],\n",
       "       [0.],\n",
       "       [0.],\n",
       "       [1.],\n",
       "       [1.]])"
      ]
     },
     "execution_count": 143,
     "metadata": {},
     "output_type": "execute_result"
    }
   ],
   "source": [
    "mask = np.zeros(combined_interactions.shape[0])\n",
    "mask[pred_users] = 1\n",
    "mask = mask.reshape(mask.shape[0], 1)\n",
    "mask"
   ]
  },
  {
   "cell_type": "code",
   "execution_count": 144,
   "id": "altered-montgomery",
   "metadata": {
    "scrolled": true
   },
   "outputs": [
    {
     "data": {
      "text/plain": [
       "((5, 1), (5, 3))"
      ]
     },
     "execution_count": 144,
     "metadata": {},
     "output_type": "execute_result"
    }
   ],
   "source": [
    "mask.shape, combined_interactions.shape"
   ]
  },
  {
   "cell_type": "code",
   "execution_count": 145,
   "id": "devoted-bubble",
   "metadata": {},
   "outputs": [
    {
     "data": {
      "text/plain": [
       "array([[0., 0., 0.],\n",
       "       [0., 0., 0.],\n",
       "       [0., 0., 0.],\n",
       "       [1., 1., 0.],\n",
       "       [0., 1., 1.]])"
      ]
     },
     "execution_count": 145,
     "metadata": {},
     "output_type": "execute_result"
    }
   ],
   "source": [
    "combined_interactions_selected_users = csr_matrix(\n",
    "    combined_interactions.multiply(mask)\n",
    ")\n",
    "combined_interactions_selected_users.toarray()"
   ]
  },
  {
   "cell_type": "code",
   "execution_count": 146,
   "id": "impressive-suite",
   "metadata": {},
   "outputs": [
    {
     "data": {
      "text/plain": [
       "array([[0., 0., 0.],\n",
       "       [0., 0., 0.],\n",
       "       [0., 0., 0.],\n",
       "       [0., 1., 0.],\n",
       "       [0., 0., 1.]])"
      ]
     },
     "execution_count": 146,
     "metadata": {},
     "output_type": "execute_result"
    }
   ],
   "source": [
    "# Compute the interactions that are only in the prediction matrix.\n",
    "combined_interactions_only_predict = (\n",
    "    combined_interactions_selected_users\n",
    "    - training_interactions.multiply(mask)\n",
    ")\n",
    "# TODO: check that this keeps working with overlap\n",
    "combined_interactions_only_predict.toarray()"
   ]
  },
  {
   "cell_type": "code",
   "execution_count": 147,
   "id": "actual-anime",
   "metadata": {},
   "outputs": [
    {
     "data": {
      "text/plain": [
       "matrix([[0.],\n",
       "        [0.],\n",
       "        [0.],\n",
       "        [2.],\n",
       "        [2.]])"
      ]
     },
     "execution_count": 147,
     "metadata": {},
     "output_type": "execute_result"
    }
   ],
   "source": [
    "pred_user_interaction_counts = combined_interactions_selected_users.sum(axis=1)\n",
    "pred_user_interaction_counts"
   ]
  },
  {
   "cell_type": "code",
   "execution_count": 148,
   "id": "engaged-webster",
   "metadata": {},
   "outputs": [
    {
     "data": {
      "text/plain": [
       "matrix([[2],\n",
       "        [2],\n",
       "        [3],\n",
       "        [1],\n",
       "        [1]])"
      ]
     },
     "execution_count": 148,
     "metadata": {},
     "output_type": "execute_result"
    }
   ],
   "source": [
    "train_user_counts = training_interactions.sum(axis=1)\n",
    "train_user_counts\n"
   ]
  },
  {
   "cell_type": "code",
   "execution_count": 149,
   "id": "sound-recorder",
   "metadata": {},
   "outputs": [
    {
     "data": {
      "text/plain": [
       "matrix([[3, 3, 3]])"
      ]
     },
     "execution_count": 149,
     "metadata": {},
     "output_type": "execute_result"
    }
   ],
   "source": [
    "train_item_counts = training_interactions.sum(axis=0)\n",
    "train_item_counts"
   ]
  },
  {
   "cell_type": "code",
   "execution_count": 150,
   "id": "continent-wrestling",
   "metadata": {},
   "outputs": [
    {
     "data": {
      "text/plain": [
       "matrix([[3, 3, 3],\n",
       "        [3, 3, 3],\n",
       "        [3, 3, 3],\n",
       "        [3, 3, 3],\n",
       "        [3, 3, 3]])"
      ]
     },
     "execution_count": 150,
     "metadata": {},
     "output_type": "execute_result"
    }
   ],
   "source": [
    "np.vstack([train_item_counts for _ in range(X.shape[0])])"
   ]
  },
  {
   "cell_type": "code",
   "execution_count": 151,
   "id": "egyptian-trance",
   "metadata": {},
   "outputs": [
    {
     "data": {
      "text/plain": [
       "matrix([[3., 3., 3.],\n",
       "        [3., 3., 3.],\n",
       "        [3., 3., 3.],\n",
       "        [3., 4., 3.],\n",
       "        [3., 3., 4.]])"
      ]
     },
     "execution_count": 151,
     "metadata": {},
     "output_type": "execute_result"
    }
   ],
   "source": [
    "item_counts_per_user = (\n",
    "    np.vstack([train_item_counts for _ in range(X.shape[0])]) + combined_interactions_only_predict\n",
    ")\n",
    "item_counts_per_user"
   ]
  },
  {
   "cell_type": "code",
   "execution_count": 152,
   "id": "adult-gibson",
   "metadata": {},
   "outputs": [],
   "source": [
    "def invert(x):\n",
    "    ret = np.zeros(x.shape)\n",
    "    ret[x.nonzero()] = 1 / x[x.nonzero()]\n",
    "    return ret"
   ]
  },
  {
   "cell_type": "code",
   "execution_count": 155,
   "id": "regular-oakland",
   "metadata": {},
   "outputs": [
    {
     "data": {
      "text/plain": [
       "array([[0.        , 0.        , 0.        , 0.        , 0.        ],\n",
       "       [0.        , 0.        , 0.        , 0.        , 0.        ],\n",
       "       [0.        , 0.        , 0.        , 0.        , 0.        ],\n",
       "       [0.25      , 0.28867513, 0.43982641, 0.        , 0.35355339],\n",
       "       [0.53867513, 0.25      , 0.43982641, 0.        , 0.        ]])"
      ]
     },
     "execution_count": 155,
     "metadata": {},
     "output_type": "execute_result"
    }
   ],
   "source": [
    "similarities = (\n",
    "    combined_interactions_selected_users.multiply(\n",
    "        invert(np.sqrt(pred_user_interaction_counts))\n",
    "    ).multiply(\n",
    "        invert(np.sqrt(item_counts_per_user))\n",
    "    )\n",
    "    @\n",
    "    training_interactions.multiply(\n",
    "        invert(np.sqrt(train_user_counts))\n",
    "    ).T\n",
    ")\n",
    "similarities.setdiag(0)\n",
    "similarities.toarray()"
   ]
  },
  {
   "cell_type": "code",
   "execution_count": 116,
   "id": "lesbian-electricity",
   "metadata": {},
   "outputs": [
    {
     "data": {
      "text/plain": [
       "0.2886751345948129"
      ]
     },
     "execution_count": 116,
     "metadata": {},
     "output_type": "execute_result"
    }
   ],
   "source": [
    "1/(2*2*3)**.5"
   ]
  },
  {
   "cell_type": "code",
   "execution_count": 31,
   "id": "previous-explorer",
   "metadata": {},
   "outputs": [
    {
     "ename": "NameError",
     "evalue": "name 'self' is not defined",
     "output_type": "error",
     "traceback": [
      "\u001b[0;31m---------------------------------------------------------------------------\u001b[0m",
      "\u001b[0;31mNameError\u001b[0m                                 Traceback (most recent call last)",
      "\u001b[0;32m<ipython-input-31-c0557c98e8c9>\u001b[0m in \u001b[0;36m<module>\u001b[0;34m\u001b[0m\n\u001b[1;32m      2\u001b[0m \u001b[0;34m\u001b[0m\u001b[0m\n\u001b[1;32m      3\u001b[0m \u001b[0;31m# Combine the memoized training interactions with the predict interactions\u001b[0m\u001b[0;34m\u001b[0m\u001b[0;34m\u001b[0m\u001b[0;34m\u001b[0m\u001b[0m\n\u001b[0;32m----> 4\u001b[0;31m \u001b[0mcombined_interactions\u001b[0m \u001b[0;34m=\u001b[0m \u001b[0mself\u001b[0m\u001b[0;34m.\u001b[0m\u001b[0m_union_csr_matrices\u001b[0m\u001b[0;34m(\u001b[0m\u001b[0mself\u001b[0m\u001b[0;34m.\u001b[0m\u001b[0mtraining_interactions_\u001b[0m\u001b[0;34m,\u001b[0m \u001b[0mX\u001b[0m\u001b[0;34m)\u001b[0m\u001b[0;34m\u001b[0m\u001b[0;34m\u001b[0m\u001b[0m\n\u001b[0m\u001b[1;32m      5\u001b[0m \u001b[0;31m# cut combined interactions to only nonzero users in prediction matrix.\u001b[0m\u001b[0;34m\u001b[0m\u001b[0;34m\u001b[0m\u001b[0;34m\u001b[0m\u001b[0m\n\u001b[1;32m      6\u001b[0m \u001b[0mpred_users\u001b[0m \u001b[0;34m=\u001b[0m \u001b[0mget_users\u001b[0m\u001b[0;34m(\u001b[0m\u001b[0mX\u001b[0m\u001b[0;34m)\u001b[0m\u001b[0;34m\u001b[0m\u001b[0;34m\u001b[0m\u001b[0m\n",
      "\u001b[0;31mNameError\u001b[0m: name 'self' is not defined"
     ]
    }
   ],
   "source": [
    "        users_to_predict = set(X.nonzero()[0])\n",
    "\n",
    "        # Combine the memoized training interactions with the predict interactions\n",
    "        combined_interactions = self._union_csr_matrices(self.training_interactions_, X)\n",
    "        # cut combined interactions to only nonzero users in prediction matrix.\n",
    "        pred_users = get_users(X)\n",
    "        mask = np.zeros(combined_interactions.shape[0])\n",
    "        mask[pred_users] = 1\n",
    "        combined_interactions_selected_users = csr_matrix(\n",
    "            combined_interactions.multiply(mask)\n",
    "        )\n",
    "\n",
    "        # Compute the interactions that are only in the prediction matrix.\n",
    "        combined_interactions_only_predict = (\n",
    "            combined_interactions_selected_users\n",
    "            - self.training_interactions_.multiply(pred_users)\n",
    "        )\n",
    "\n",
    "        pred_user_interaction_counts = combined_interactions_selected_users.sum(axis=1)\n",
    "\n",
    "        train_user_counts = self.training_interactions_.sum(axis=1)\n",
    "        train_item_counts = self.training_interactions_.sum(axis=0)\n",
    "\n",
    "        # These are the c(i) values in the paper\n",
    "        # Because we have to account for items that occur both in train and predict,\n",
    "        # but can only use interactions in the X matrix for the user we are computing similarities for (avoid leakage of data)\n",
    "        # We do this by taking the count in the training matrix per item.\n",
    "        # vertically stacking these values to get these counts for each user\n",
    "        # And we then add the interactions for prediction users that only occur during in the X dataset.\n",
    "        # This gives us per user the accurate count of items,\n",
    "        # taking into account only their own history from the prediction dataset.\n",
    "        item_counts_per_user = (\n",
    "            np.vstack([train_item_counts]) + combined_interactions_only_predict\n",
    "        )\n",
    "\n",
    "        # sim(u, v) = sum()\n",
    "        # Similarities are computed by matrix multiplication of two scaled interaction matrices\n",
    "        # the training matrix is scaled by dividing each interaction by the square root of the number of user interactions.\n",
    "        # The combined interactions for prediction users is scaled by dividing by the square root of user interactions\n",
    "        # and by the square root of the interactions with the item.\n",
    "        # fmt:off\n",
    "        similarities = (\n",
    "            combined_interactions_selected_users.multiply(\n",
    "                1 / np.sqrt(pred_user_interaction_counts)\n",
    "            ).multiply(item_counts_per_user).T\n",
    "            @\n",
    "            self.training_interactions_.multiply(\n",
    "                1 / np.sqrt(train_user_counts)\n",
    "            ).multiply(\n",
    "                1 / np.sqrt(train_item_counts)\n",
    "            )\n",
    "        )\n",
    "        # fmt:on\n",
    "\n",
    "        similarities.setdiag(0)\n"
   ]
  },
  {
   "cell_type": "code",
   "execution_count": 95,
   "id": "theoretical-tomato",
   "metadata": {},
   "outputs": [
    {
     "data": {
      "text/plain": [
       "array([-2, -3])"
      ]
     },
     "execution_count": 95,
     "metadata": {},
     "output_type": "execute_result"
    }
   ],
   "source": [
    "np.invert(x)"
   ]
  },
  {
   "cell_type": "code",
   "execution_count": 97,
   "id": "educational-israeli",
   "metadata": {},
   "outputs": [
    {
     "data": {
      "text/plain": [
       "array([1, 2])"
      ]
     },
     "execution_count": 97,
     "metadata": {},
     "output_type": "execute_result"
    }
   ],
   "source": [
    "x"
   ]
  },
  {
   "cell_type": "code",
   "execution_count": 157,
   "id": "athletic-expert",
   "metadata": {},
   "outputs": [],
   "source": [
    "a = lil_matrix(similarities.shape)"
   ]
  },
  {
   "cell_type": "code",
   "execution_count": 158,
   "id": "simple-checkout",
   "metadata": {},
   "outputs": [
    {
     "data": {
      "text/plain": [
       "<5x5 sparse matrix of type '<class 'numpy.float64'>'\n",
       "\twith 0 stored elements in List of Lists format>"
      ]
     },
     "execution_count": 158,
     "metadata": {},
     "output_type": "execute_result"
    }
   ],
   "source": [
    "a"
   ]
  },
  {
   "cell_type": "code",
   "execution_count": null,
   "id": "forward-elephant",
   "metadata": {},
   "outputs": [],
   "source": []
  }
 ],
 "metadata": {
  "kernelspec": {
   "display_name": "Python 3",
   "language": "python",
   "name": "python3"
  },
  "language_info": {
   "codemirror_mode": {
    "name": "ipython",
    "version": 3
   },
   "file_extension": ".py",
   "mimetype": "text/x-python",
   "name": "python",
   "nbconvert_exporter": "python",
   "pygments_lexer": "ipython3",
   "version": "3.9.2"
  }
 },
 "nbformat": 4,
 "nbformat_minor": 5
}
