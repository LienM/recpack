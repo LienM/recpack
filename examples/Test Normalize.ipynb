{
 "cells": [
  {
   "cell_type": "code",
   "execution_count": 8,
   "id": "million-bunny",
   "metadata": {},
   "outputs": [],
   "source": [
    "from sklearn.preprocessing import Normalizer\n",
    "from scipy.sparse import csr_matrix\n",
    "import numpy as np\n",
    "X = csr_matrix(np.array([[4, 1, 2, 2],\n",
    "     [1, 3, 9, 3],\n",
    "     [5, 7, 5, 1]]))"
   ]
  },
  {
   "cell_type": "code",
   "execution_count": 9,
   "id": "relevant-provision",
   "metadata": {},
   "outputs": [
    {
     "data": {
      "text/plain": [
       "Normalizer(norm='l1')"
      ]
     },
     "execution_count": 9,
     "metadata": {},
     "output_type": "execute_result"
    }
   ],
   "source": [
    "transformer = Normalizer(norm='l1')\n",
    "transformer"
   ]
  },
  {
   "cell_type": "code",
   "execution_count": 10,
   "id": "healthy-fight",
   "metadata": {},
   "outputs": [
    {
     "data": {
      "text/plain": [
       "matrix([[1.],\n",
       "        [1.],\n",
       "        [1.]])"
      ]
     },
     "execution_count": 10,
     "metadata": {},
     "output_type": "execute_result"
    }
   ],
   "source": [
    "\n",
    "transformer.transform(X).sum(axis=1)\n"
   ]
  },
  {
   "cell_type": "code",
   "execution_count": null,
   "id": "experienced-tutorial",
   "metadata": {},
   "outputs": [],
   "source": []
  },
  {
   "cell_type": "code",
   "execution_count": null,
   "id": "greatest-spine",
   "metadata": {},
   "outputs": [],
   "source": []
  },
  {
   "cell_type": "code",
   "execution_count": 52,
   "id": "qualified-syracuse",
   "metadata": {},
   "outputs": [],
   "source": [
    "from sklearn.metrics.pairwise import cosine_similarity\n",
    "from sklearn.feature_extraction.text import TfidfTransformer"
   ]
  },
  {
   "cell_type": "code",
   "execution_count": 42,
   "id": "impossible-silicon",
   "metadata": {},
   "outputs": [
    {
     "ename": "NameError",
     "evalue": "name 'self' is not defined",
     "output_type": "error",
     "traceback": [
      "\u001b[0;31m---------------------------------------------------------------------------\u001b[0m",
      "\u001b[0;31mNameError\u001b[0m                                 Traceback (most recent call last)",
      "\u001b[0;32m<ipython-input-42-ed4cf69eb48e>\u001b[0m in \u001b[0;36m<module>\u001b[0;34m\u001b[0m\n\u001b[1;32m      1\u001b[0m \u001b[0;31m# X is a mapping of user to document id, we require a csr_matrix with\u001b[0m\u001b[0;34m\u001b[0m\u001b[0;34m\u001b[0m\u001b[0;34m\u001b[0m\u001b[0m\n\u001b[1;32m      2\u001b[0m \u001b[0;31m# (user id, token id, token_weight) columns\u001b[0m\u001b[0;34m\u001b[0m\u001b[0;34m\u001b[0m\u001b[0;34m\u001b[0m\u001b[0m\n\u001b[0;32m----> 3\u001b[0;31m \u001b[0mX_transformed\u001b[0m \u001b[0;34m=\u001b[0m \u001b[0mself\u001b[0m\u001b[0;34m.\u001b[0m\u001b[0minput_transformer\u001b[0m\u001b[0;34m.\u001b[0m\u001b[0mtransform\u001b[0m\u001b[0;34m(\u001b[0m\u001b[0mX\u001b[0m\u001b[0;34m)\u001b[0m\u001b[0;34m\u001b[0m\u001b[0;34m\u001b[0m\u001b[0m\n\u001b[0m\u001b[1;32m      4\u001b[0m \u001b[0;34m\u001b[0m\u001b[0m\n\u001b[1;32m      5\u001b[0m \u001b[0;31m# apply tfidf term frequencies to obtain a (user, token, tfidf_weight) sparse matrix\u001b[0m\u001b[0;34m\u001b[0m\u001b[0;34m\u001b[0m\u001b[0;34m\u001b[0m\u001b[0m\n",
      "\u001b[0;31mNameError\u001b[0m: name 'self' is not defined"
     ]
    }
   ],
   "source": [
    "# X is a mapping of user to document id, we require a csr_matrix with\n",
    "# (user id, token id, token_weight) columns\n",
    "X_transformed = self.input_transformer.transform(X)\n",
    "\n",
    "# apply tfidf term frequencies to obtain a (user, token, tfidf_weight) sparse matrix\n",
    "document = self.tfidf.transform(X_transformed)\n",
    "\n",
    "# compute cosine sim with all documents\n",
    "full_sim = sklearn.metrics.pairwise.cosine_similarity(self.documents, document, dense_output=False)\n",
    "\n",
    "# sum cosine sim scores for each document\n",
    "summed_scores = np.asarray(full_sim.sum(axis=1).reshape(-1))[0]"
   ]
  },
  {
   "cell_type": "code",
   "execution_count": 64,
   "id": "perfect-equality",
   "metadata": {},
   "outputs": [],
   "source": [
    "# TEST\n",
    "# 1 user\n",
    "# 3 items\n",
    "# 4 tokens\n",
    "\n",
    "item_vectors = np.array([[1, 0, 0, 1], [1, 1, 0, 1], [0, 0, 1, 1]])\n",
    "user_vectors = np.array([[1, 0, 1]]).reshape((1, 3))"
   ]
  },
  {
   "cell_type": "code",
   "execution_count": 65,
   "id": "false-subject",
   "metadata": {},
   "outputs": [],
   "source": [
    "X_transformed = user_vectors @ item_vectors"
   ]
  },
  {
   "cell_type": "code",
   "execution_count": 66,
   "id": "sophisticated-electric",
   "metadata": {},
   "outputs": [
    {
     "data": {
      "text/plain": [
       "array([[1, 0, 1, 2]])"
      ]
     },
     "execution_count": 66,
     "metadata": {},
     "output_type": "execute_result"
    }
   ],
   "source": [
    "X_transformed"
   ]
  },
  {
   "cell_type": "code",
   "execution_count": 67,
   "id": "canadian-isaac",
   "metadata": {},
   "outputs": [
    {
     "data": {
      "text/plain": [
       "array([[0.78980693, 0.        , 0.        , 0.61335554],\n",
       "       [0.54783215, 0.72033345, 0.        , 0.42544054],\n",
       "       [0.        , 0.        , 0.861037  , 0.50854232]])"
      ]
     },
     "execution_count": 67,
     "metadata": {},
     "output_type": "execute_result"
    }
   ],
   "source": [
    "tfidf = TfidfTransformer()\n",
    "documents = tfidf.fit_transform(item_vectors)\n",
    "documents.toarray()"
   ]
  },
  {
   "cell_type": "code",
   "execution_count": 68,
   "id": "embedded-blowing",
   "metadata": {
    "scrolled": true
   },
   "outputs": [
    {
     "data": {
      "text/plain": [
       "array([[0.44102652, 0.        , 0.57989687, 0.68499287]])"
      ]
     },
     "execution_count": 68,
     "metadata": {},
     "output_type": "execute_result"
    }
   ],
   "source": [
    "document = tfidf.transform(X_transformed)\n",
    "document.toarray()"
   ]
  },
  {
   "cell_type": "code",
   "execution_count": 69,
   "id": "stopped-creature",
   "metadata": {},
   "outputs": [
    {
     "data": {
      "text/plain": [
       "array([[0.76846997],\n",
       "       [0.53303224],\n",
       "       [0.84766052]])"
      ]
     },
     "execution_count": 69,
     "metadata": {},
     "output_type": "execute_result"
    }
   ],
   "source": [
    "full_sim = cosine_similarity(documents, document, dense_output=False)\n",
    "full_sim.toarray()"
   ]
  },
  {
   "cell_type": "code",
   "execution_count": 70,
   "id": "theoretical-crawford",
   "metadata": {},
   "outputs": [
    {
     "data": {
      "text/plain": [
       "array([0.76846997, 0.53303224, 0.84766052])"
      ]
     },
     "execution_count": 70,
     "metadata": {},
     "output_type": "execute_result"
    }
   ],
   "source": [
    "summed_scores = np.asarray(full_sim.sum(axis=1).reshape(-1))[0]\n",
    "summed_scores"
   ]
  },
  {
   "cell_type": "code",
   "execution_count": null,
   "id": "manual-salad",
   "metadata": {},
   "outputs": [],
   "source": []
  }
 ],
 "metadata": {
  "kernelspec": {
   "display_name": "Python 3",
   "language": "python",
   "name": "python3"
  },
  "language_info": {
   "codemirror_mode": {
    "name": "ipython",
    "version": 3
   },
   "file_extension": ".py",
   "mimetype": "text/x-python",
   "name": "python",
   "nbconvert_exporter": "python",
   "pygments_lexer": "ipython3",
   "version": "3.9.2"
  }
 },
 "nbformat": 4,
 "nbformat_minor": 5
}
