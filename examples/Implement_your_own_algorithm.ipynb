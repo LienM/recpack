{
    "cells": [
        {
            "cell_type": "code",
            "execution_count": 1,
            "id": "joint-import",
            "metadata": {},
            "outputs": [],
            "source": [
                "import numpy as np\n",
                "import pandas as pd\n",
                "from scipy.sparse import csr_matrix, lil_matrix\n",
                "\n",
                "from recpack.algorithms.base import Algorithm, TorchMLAlgorithm, FactorizationAlgorithm\n",
                "from recpack.algorithms.util import get_users, get_batches, naive_sparse2tensor, naive_tensor2sparse\n",
                "from recpack.matrix import to_binary, InteractionMatrix"
            ]
        },
        {
            "cell_type": "markdown",
            "id": "heard-negotiation",
            "metadata": {},
            "source": [
                "# Softmax over popularity scores"
            ]
        },
        {
            "cell_type": "code",
            "execution_count": 2,
            "id": "tribal-original",
            "metadata": {},
            "outputs": [],
            "source": [
                "import numpy as np\n",
                "from scipy.sparse import csr_matrix\n",
                "\n",
                "from recpack.algorithms.base import Algorithm\n",
                "\n",
                "class RandomizedSoftmaxPopularity(Algorithm):\n",
                "    \"\"\"Recommend items using softmax on the natural logarithm of item counts.\n",
                "\n",
                "    Recommendations are sampled from the probability distribution\n",
                "    created by taking the softmax of the natural logarithm of item counts.\n",
                "    Items are scored such that the distance between the item in first place\n",
                "    and the item in second place is the same as between all other items.\n",
                "\n",
                "    :param K: Only the K most frequent items are considered for recommendation\n",
                "    :param tau: Temperature in the softmax computation\n",
                "    \"\"\"\n",
                "    def __init__(self, K, tau):\n",
                "        self.K = K\n",
                "        self.tau = tau\n",
                "\n",
                "    def _fit(self, X: csr_matrix):\n",
                "        # compute pop by taking logarithm of the raw counts\n",
                "        #.A1 puts it into a 1d array, making all subsequent operations easy\n",
                "        pop = np.log(np.sum(X, axis=0)).A1\n",
                "\n",
                "        max_pop = np.max(pop)\n",
                "\n",
                "        # Cut to top K\n",
                "        self.top_k_pop_items_ = np.argsort(pop)[-self.K:]\n",
                "        top_k_pop = pop[self.top_k_pop_items_]\n",
                "\n",
                "        # To make softmax numerically stable, we compute exp((pop - max(pop))/self.tau)\n",
                "        # instead of exp(pop/self.tau):\n",
                "        #\n",
                "        # softmax for item i can then be computed as\n",
                "        # e^((pop[i] - max(pop))/tau) / sum([e^(pop[j] - max(pop))/self.tau for j in topK])\n",
                "        top_k_pop_minus_max = (top_k_pop - max_pop)/self.tau\n",
                "\n",
                "        top_k_exp = np.exp(top_k_pop_minus_max)\n",
                "\n",
                "        top_k_pop_sum = np.sum(top_k_exp)\n",
                "\n",
                "        self.softmax_scores_ = top_k_exp / top_k_pop_sum    \n",
                "        \n",
                "\n",
                "    def _predict(self, X:csr_matrix):\n",
                "        # Randomly sample items, with weights decided by the softmax scores\n",
                "        users = X.nonzero()[0]\n",
                "\n",
                "        # The resulting score = (K - ix)/K\n",
                "        # The first sampled item gets score 1, and the last sampled item score 1/K\n",
                "        score_list = [\n",
                "            (u, i, (self.K-ix)/self.K)\n",
                "            for u in set(users)\n",
                "            for ix, i in enumerate(\n",
                "                np.random.choice(\n",
                "                    self.top_k_pop_items_,\n",
                "                    size=self.K,\n",
                "                    replace=False,\n",
                "                    p=self.softmax_scores_\n",
                "                )\n",
                "            )\n",
                "        ]\n",
                "        user_idxs, item_idxs, scores = list(zip(*score_list))\n",
                "        score_matrix = csr_matrix((scores, (user_idxs, item_idxs)), shape=X.shape)\n",
                "\n",
                "        return score_matrix"
            ]
        },
        {
            "cell_type": "markdown",
            "id": "opening-hostel",
            "metadata": {},
            "source": [
                "## Try it out"
            ]
        },
        {
            "cell_type": "code",
            "execution_count": 3,
            "id": "pharmaceutical-sussex",
            "metadata": {},
            "outputs": [],
            "source": [
                "users = [np.random.randint(0, 50) for i in range(1000)]\n",
                "items = [np.random.randint(0, 50) for i in range(1000)]\n",
                "values = [1 for i in range(1000)]\n",
                "pageviews = csr_matrix((values, (users, items)), shape=(50, 50))\n",
                "pageviews = to_binary(pageviews)\n"
            ]
        },
        {
            "cell_type": "code",
            "execution_count": 4,
            "id": "southern-cooler",
            "metadata": {},
            "outputs": [],
            "source": [
                "algo = RandomizedSoftmaxPopularity(K=20, tau=0.10)"
            ]
        },
        {
            "cell_type": "code",
            "execution_count": 5,
            "id": "general-korean",
            "metadata": {},
            "outputs": [
                {
                    "name": "stdout",
                    "output_type": "stream",
                    "text": [
                        "2022-10-20 10:03:30,692 - base - recpack - INFO - Fitting RandomizedSoftmaxPopularity complete - Took 0.00136s\n"
                    ]
                },
                {
                    "data": {
                        "text/html": [
                            "<style>#sk-container-id-1 {color: black;background-color: white;}#sk-container-id-1 pre{padding: 0;}#sk-container-id-1 div.sk-toggleable {background-color: white;}#sk-container-id-1 label.sk-toggleable__label {cursor: pointer;display: block;width: 100%;margin-bottom: 0;padding: 0.3em;box-sizing: border-box;text-align: center;}#sk-container-id-1 label.sk-toggleable__label-arrow:before {content: \"▸\";float: left;margin-right: 0.25em;color: #696969;}#sk-container-id-1 label.sk-toggleable__label-arrow:hover:before {color: black;}#sk-container-id-1 div.sk-estimator:hover label.sk-toggleable__label-arrow:before {color: black;}#sk-container-id-1 div.sk-toggleable__content {max-height: 0;max-width: 0;overflow: hidden;text-align: left;background-color: #f0f8ff;}#sk-container-id-1 div.sk-toggleable__content pre {margin: 0.2em;color: black;border-radius: 0.25em;background-color: #f0f8ff;}#sk-container-id-1 input.sk-toggleable__control:checked~div.sk-toggleable__content {max-height: 200px;max-width: 100%;overflow: auto;}#sk-container-id-1 input.sk-toggleable__control:checked~label.sk-toggleable__label-arrow:before {content: \"▾\";}#sk-container-id-1 div.sk-estimator input.sk-toggleable__control:checked~label.sk-toggleable__label {background-color: #d4ebff;}#sk-container-id-1 div.sk-label input.sk-toggleable__control:checked~label.sk-toggleable__label {background-color: #d4ebff;}#sk-container-id-1 input.sk-hidden--visually {border: 0;clip: rect(1px 1px 1px 1px);clip: rect(1px, 1px, 1px, 1px);height: 1px;margin: -1px;overflow: hidden;padding: 0;position: absolute;width: 1px;}#sk-container-id-1 div.sk-estimator {font-family: monospace;background-color: #f0f8ff;border: 1px dotted black;border-radius: 0.25em;box-sizing: border-box;margin-bottom: 0.5em;}#sk-container-id-1 div.sk-estimator:hover {background-color: #d4ebff;}#sk-container-id-1 div.sk-parallel-item::after {content: \"\";width: 100%;border-bottom: 1px solid gray;flex-grow: 1;}#sk-container-id-1 div.sk-label:hover label.sk-toggleable__label {background-color: #d4ebff;}#sk-container-id-1 div.sk-serial::before {content: \"\";position: absolute;border-left: 1px solid gray;box-sizing: border-box;top: 0;bottom: 0;left: 50%;z-index: 0;}#sk-container-id-1 div.sk-serial {display: flex;flex-direction: column;align-items: center;background-color: white;padding-right: 0.2em;padding-left: 0.2em;position: relative;}#sk-container-id-1 div.sk-item {position: relative;z-index: 1;}#sk-container-id-1 div.sk-parallel {display: flex;align-items: stretch;justify-content: center;background-color: white;position: relative;}#sk-container-id-1 div.sk-item::before, #sk-container-id-1 div.sk-parallel-item::before {content: \"\";position: absolute;border-left: 1px solid gray;box-sizing: border-box;top: 0;bottom: 0;left: 50%;z-index: -1;}#sk-container-id-1 div.sk-parallel-item {display: flex;flex-direction: column;z-index: 1;position: relative;background-color: white;}#sk-container-id-1 div.sk-parallel-item:first-child::after {align-self: flex-end;width: 50%;}#sk-container-id-1 div.sk-parallel-item:last-child::after {align-self: flex-start;width: 50%;}#sk-container-id-1 div.sk-parallel-item:only-child::after {width: 0;}#sk-container-id-1 div.sk-dashed-wrapped {border: 1px dashed gray;margin: 0 0.4em 0.5em 0.4em;box-sizing: border-box;padding-bottom: 0.4em;background-color: white;}#sk-container-id-1 div.sk-label label {font-family: monospace;font-weight: bold;display: inline-block;line-height: 1.2em;}#sk-container-id-1 div.sk-label-container {text-align: center;}#sk-container-id-1 div.sk-container {/* jupyter's `normalize.less` sets `[hidden] { display: none; }` but bootstrap.min.css set `[hidden] { display: none !important; }` so we also need the `!important` here to be able to override the default hidden behavior on the sphinx rendered scikit-learn.org. See: https://github.com/scikit-learn/scikit-learn/issues/21755 */display: inline-block !important;position: relative;}#sk-container-id-1 div.sk-text-repr-fallback {display: none;}</style><div id=\"sk-container-id-1\" class=\"sk-top-container\"><div class=\"sk-text-repr-fallback\"><pre>RandomizedSoftmaxPopularity</pre><b>In a Jupyter environment, please rerun this cell to show the HTML representation or trust the notebook. <br />On GitHub, the HTML representation is unable to render, please try loading this page with nbviewer.org.</b></div><div class=\"sk-container\" hidden><div class=\"sk-item\"><div class=\"sk-estimator sk-toggleable\"><input class=\"sk-toggleable__control sk-hidden--visually\" id=\"sk-estimator-id-1\" type=\"checkbox\" checked><label for=\"sk-estimator-id-1\" class=\"sk-toggleable__label sk-toggleable__label-arrow\">RandomizedSoftmaxPopularity</label><div class=\"sk-toggleable__content\"><pre>RandomizedSoftmaxPopularity</pre></div></div></div></div></div>"
                        ],
                        "text/plain": [
                            "RandomizedSoftmaxPopularity(K=20, tau=0.1)"
                        ]
                    },
                    "execution_count": 5,
                    "metadata": {},
                    "output_type": "execute_result"
                }
            ],
            "source": [
                "algo.fit(pageviews)"
            ]
        },
        {
            "cell_type": "code",
            "execution_count": 6,
            "id": "middle-intranet",
            "metadata": {
                "scrolled": true
            },
            "outputs": [
                {
                    "data": {
                        "text/plain": [
                            "array([0.  , 0.  , 0.  , 0.  , 0.05, 0.1 , 0.8 , 0.  , 0.  , 0.  , 0.  ,\n",
                            "       0.65, 0.  , 0.85, 0.  , 0.6 , 0.  , 0.  , 0.  , 0.7 , 1.  , 0.  ,\n",
                            "       0.5 , 0.  , 0.  , 0.  , 0.  , 0.  , 0.35, 0.  , 0.45, 0.  , 0.55,\n",
                            "       0.  , 0.  , 0.  , 0.  , 0.9 , 0.  , 0.  , 0.95, 0.25, 0.3 , 0.  ,\n",
                            "       0.  , 0.15, 0.2 , 0.  , 0.4 , 0.75])"
                        ]
                    },
                    "execution_count": 6,
                    "metadata": {},
                    "output_type": "execute_result"
                }
            ],
            "source": [
                "algo.predict(pageviews).toarray()[0]"
            ]
        },
        {
            "cell_type": "code",
            "execution_count": null,
            "id": "altered-ocean",
            "metadata": {},
            "outputs": [],
            "source": []
        },
        {
            "cell_type": "markdown",
            "id": "going-liver",
            "metadata": {},
            "source": [
                "## Recency"
            ]
        },
        {
            "cell_type": "code",
            "execution_count": 7,
            "id": "stunning-sharing",
            "metadata": {},
            "outputs": [],
            "source": [
                "import numpy as np\n",
                "from scipy.sparse import csr_matrix, lil_matrix\n",
                "\n",
                "from recpack.algorithms.base import Algorithm\n",
                "from recpack.matrix import InteractionMatrix\n",
                "\n",
                "class Recency(Algorithm):\n",
                "    def _transform_fit_input(self, X):\n",
                "        # X needs to be an InteractionMatrix for us to have access to\n",
                "        # the time of interaction at fitting time\n",
                "        self._assert_is_interaction_matrix(X)\n",
                "        self._assert_has_timestamps(X)\n",
                "        # No transformation needed\n",
                "        return X\n",
                "    \n",
                "    def _fit(self, X:InteractionMatrix):\n",
                "        # data.timestamps gives a pandas MultiIndex object, indexed by user and item,\n",
                "        # we drop the index, and group by just the item index\n",
                "        # then we select the maximal timestamp from this groupby\n",
                "        max_ts_per_item = X.timestamps.reset_index().groupby('iid')['ts'].max()\n",
                "\n",
                "        # apply min_max normalisation\n",
                "        recency = np.zeros(X.shape[1])\n",
                "        recency[max_ts_per_item.index] = max_ts_per_item.values\n",
                "\n",
                "        most_recent = np.max(recency)\n",
                "        least_recent = np.min(recency)\n",
                "\n",
                "        recency = (recency - least_recent) / (most_recent - least_recent)\n",
                "        self.recency_ = recency.copy()\n",
                "        \n",
                "    def _predict(self, X: csr_matrix):\n",
                "        results = lil_matrix(X.shape)\n",
                "\n",
                "        users = get_users(X)\n",
                "\n",
                "        results[users] = self.recency_\n",
                "\n",
                "        return results.tocsr()\n",
                "\n",
                "        "
            ]
        },
        {
            "cell_type": "code",
            "execution_count": 8,
            "id": "overall-heater",
            "metadata": {},
            "outputs": [],
            "source": [
                "num_users = 50\n",
                "num_items = 100\n",
                "num_interactions = 5000\n",
                "\n",
                "min_t = 0\n",
                "max_t = 500\n",
                "\n",
                "USER_IX = InteractionMatrix.USER_IX\n",
                "ITEM_IX = InteractionMatrix.ITEM_IX\n",
                "TIMESTAMP_IX = \"ts\"\n",
                "\n",
                "\n",
                "def data_m():\n",
                "    np.random.seed(42)\n",
                "\n",
                "    input_dict = {\n",
                "        InteractionMatrix.USER_IX: [np.random.randint(0, num_users) for _ in range(0, num_interactions)],\n",
                "        InteractionMatrix.ITEM_IX: [\n",
                "            np.random.randint(0, num_items) for _ in range(0, num_interactions)\n",
                "        ],\n",
                "        InteractionMatrix.TIMESTAMP_IX: [\n",
                "            np.random.randint(min_t, max_t) for _ in range(0, num_interactions)\n",
                "        ],\n",
                "    }\n",
                "\n",
                "    df = pd.DataFrame.from_dict(input_dict)\n",
                "    df.drop_duplicates([InteractionMatrix.USER_IX, InteractionMatrix.ITEM_IX], inplace=True)\n",
                "    data = InteractionMatrix(\n",
                "        df, InteractionMatrix.ITEM_IX, InteractionMatrix.USER_IX, timestamp_ix=InteractionMatrix.TIMESTAMP_IX\n",
                "    )\n",
                "    return data\n",
                "\n",
                "data = data_m()"
            ]
        },
        {
            "cell_type": "code",
            "execution_count": 9,
            "id": "engaging-batch",
            "metadata": {},
            "outputs": [
                {
                    "name": "stdout",
                    "output_type": "stream",
                    "text": [
                        "2022-10-20 10:03:31,239 - base - recpack - INFO - Fitting Recency complete - Took 0.0079s\n"
                    ]
                },
                {
                    "data": {
                        "text/html": [
                            "<style>#sk-container-id-2 {color: black;background-color: white;}#sk-container-id-2 pre{padding: 0;}#sk-container-id-2 div.sk-toggleable {background-color: white;}#sk-container-id-2 label.sk-toggleable__label {cursor: pointer;display: block;width: 100%;margin-bottom: 0;padding: 0.3em;box-sizing: border-box;text-align: center;}#sk-container-id-2 label.sk-toggleable__label-arrow:before {content: \"▸\";float: left;margin-right: 0.25em;color: #696969;}#sk-container-id-2 label.sk-toggleable__label-arrow:hover:before {color: black;}#sk-container-id-2 div.sk-estimator:hover label.sk-toggleable__label-arrow:before {color: black;}#sk-container-id-2 div.sk-toggleable__content {max-height: 0;max-width: 0;overflow: hidden;text-align: left;background-color: #f0f8ff;}#sk-container-id-2 div.sk-toggleable__content pre {margin: 0.2em;color: black;border-radius: 0.25em;background-color: #f0f8ff;}#sk-container-id-2 input.sk-toggleable__control:checked~div.sk-toggleable__content {max-height: 200px;max-width: 100%;overflow: auto;}#sk-container-id-2 input.sk-toggleable__control:checked~label.sk-toggleable__label-arrow:before {content: \"▾\";}#sk-container-id-2 div.sk-estimator input.sk-toggleable__control:checked~label.sk-toggleable__label {background-color: #d4ebff;}#sk-container-id-2 div.sk-label input.sk-toggleable__control:checked~label.sk-toggleable__label {background-color: #d4ebff;}#sk-container-id-2 input.sk-hidden--visually {border: 0;clip: rect(1px 1px 1px 1px);clip: rect(1px, 1px, 1px, 1px);height: 1px;margin: -1px;overflow: hidden;padding: 0;position: absolute;width: 1px;}#sk-container-id-2 div.sk-estimator {font-family: monospace;background-color: #f0f8ff;border: 1px dotted black;border-radius: 0.25em;box-sizing: border-box;margin-bottom: 0.5em;}#sk-container-id-2 div.sk-estimator:hover {background-color: #d4ebff;}#sk-container-id-2 div.sk-parallel-item::after {content: \"\";width: 100%;border-bottom: 1px solid gray;flex-grow: 1;}#sk-container-id-2 div.sk-label:hover label.sk-toggleable__label {background-color: #d4ebff;}#sk-container-id-2 div.sk-serial::before {content: \"\";position: absolute;border-left: 1px solid gray;box-sizing: border-box;top: 0;bottom: 0;left: 50%;z-index: 0;}#sk-container-id-2 div.sk-serial {display: flex;flex-direction: column;align-items: center;background-color: white;padding-right: 0.2em;padding-left: 0.2em;position: relative;}#sk-container-id-2 div.sk-item {position: relative;z-index: 1;}#sk-container-id-2 div.sk-parallel {display: flex;align-items: stretch;justify-content: center;background-color: white;position: relative;}#sk-container-id-2 div.sk-item::before, #sk-container-id-2 div.sk-parallel-item::before {content: \"\";position: absolute;border-left: 1px solid gray;box-sizing: border-box;top: 0;bottom: 0;left: 50%;z-index: -1;}#sk-container-id-2 div.sk-parallel-item {display: flex;flex-direction: column;z-index: 1;position: relative;background-color: white;}#sk-container-id-2 div.sk-parallel-item:first-child::after {align-self: flex-end;width: 50%;}#sk-container-id-2 div.sk-parallel-item:last-child::after {align-self: flex-start;width: 50%;}#sk-container-id-2 div.sk-parallel-item:only-child::after {width: 0;}#sk-container-id-2 div.sk-dashed-wrapped {border: 1px dashed gray;margin: 0 0.4em 0.5em 0.4em;box-sizing: border-box;padding-bottom: 0.4em;background-color: white;}#sk-container-id-2 div.sk-label label {font-family: monospace;font-weight: bold;display: inline-block;line-height: 1.2em;}#sk-container-id-2 div.sk-label-container {text-align: center;}#sk-container-id-2 div.sk-container {/* jupyter's `normalize.less` sets `[hidden] { display: none; }` but bootstrap.min.css set `[hidden] { display: none !important; }` so we also need the `!important` here to be able to override the default hidden behavior on the sphinx rendered scikit-learn.org. See: https://github.com/scikit-learn/scikit-learn/issues/21755 */display: inline-block !important;position: relative;}#sk-container-id-2 div.sk-text-repr-fallback {display: none;}</style><div id=\"sk-container-id-2\" class=\"sk-top-container\"><div class=\"sk-text-repr-fallback\"><pre>Recency</pre><b>In a Jupyter environment, please rerun this cell to show the HTML representation or trust the notebook. <br />On GitHub, the HTML representation is unable to render, please try loading this page with nbviewer.org.</b></div><div class=\"sk-container\" hidden><div class=\"sk-item\"><div class=\"sk-estimator sk-toggleable\"><input class=\"sk-toggleable__control sk-hidden--visually\" id=\"sk-estimator-id-2\" type=\"checkbox\" checked><label for=\"sk-estimator-id-2\" class=\"sk-toggleable__label sk-toggleable__label-arrow\">Recency</label><div class=\"sk-toggleable__content\"><pre>Recency</pre></div></div></div></div></div>"
                        ],
                        "text/plain": [
                            "Recency()"
                        ]
                    },
                    "execution_count": 9,
                    "metadata": {},
                    "output_type": "execute_result"
                }
            ],
            "source": [
                "algo = Recency()\n",
                "algo.fit(data)"
            ]
        },
        {
            "cell_type": "code",
            "execution_count": 10,
            "id": "colonial-joshua",
            "metadata": {},
            "outputs": [
                {
                    "data": {
                        "text/plain": [
                            "array([[0.97413793, 0.98275862, 0.71551724, ..., 0.75      , 0.88793103,\n",
                            "        0.93103448],\n",
                            "       [0.97413793, 0.98275862, 0.71551724, ..., 0.75      , 0.88793103,\n",
                            "        0.93103448],\n",
                            "       [0.97413793, 0.98275862, 0.71551724, ..., 0.75      , 0.88793103,\n",
                            "        0.93103448],\n",
                            "       ...,\n",
                            "       [0.97413793, 0.98275862, 0.71551724, ..., 0.75      , 0.88793103,\n",
                            "        0.93103448],\n",
                            "       [0.97413793, 0.98275862, 0.71551724, ..., 0.75      , 0.88793103,\n",
                            "        0.93103448],\n",
                            "       [0.97413793, 0.98275862, 0.71551724, ..., 0.75      , 0.88793103,\n",
                            "        0.93103448]])"
                        ]
                    },
                    "execution_count": 10,
                    "metadata": {},
                    "output_type": "execute_result"
                }
            ],
            "source": [
                "algo.predict(data).toarray()"
            ]
        },
        {
            "cell_type": "code",
            "execution_count": null,
            "id": "regional-fiction",
            "metadata": {},
            "outputs": [],
            "source": []
        },
        {
            "cell_type": "code",
            "execution_count": null,
            "id": "moderate-sierra",
            "metadata": {},
            "outputs": [],
            "source": []
        },
        {
            "cell_type": "code",
            "execution_count": null,
            "id": "recent-short",
            "metadata": {},
            "outputs": [],
            "source": []
        },
        {
            "cell_type": "markdown",
            "id": "therapeutic-glass",
            "metadata": {},
            "source": [
                "## Torch algo"
            ]
        },
        {
            "cell_type": "code",
            "execution_count": 11,
            "id": "perceived-membership",
            "metadata": {},
            "outputs": [],
            "source": [
                "from typing import List\n",
                "\n",
                "import numpy as np\n",
                "from scipy.sparse import csr_matrix, lil_matrix\n",
                "import torch\n",
                "import torch.nn as nn\n",
                "import torch.optim as optim\n",
                "\n",
                "\n",
                "from recpack.algorithms.base import TorchMLAlgorithm\n",
                "from recpack.algorithms.stopping_criterion import StoppingCriterion\n",
                "\n",
                "class MFModule(nn.Module):\n",
                "    \"\"\"MF torch module, encodes the embeddings and the forward functionality.\n",
                "\n",
                "    :param num_users: the amount of users\n",
                "    :type num_users: int\n",
                "    :param num_items: the amount of items\n",
                "    :type num_items: int\n",
                "    :param num_components: The size of the embedding per user and item, defaults to 100\n",
                "    :type num_components: int, optional\n",
                "    \"\"\"\n",
                "\n",
                "    def __init__(self, num_users, num_items, num_components=100):\n",
                "        super().__init__()\n",
                "\n",
                "        self.num_components = num_components\n",
                "        self.num_users = num_users\n",
                "        self.num_items = num_items\n",
                "\n",
                "        self.user_embedding = nn.Embedding(num_users, num_components)  # User embedding\n",
                "        self.item_embedding = nn.Embedding(num_items, num_components)  # Item embedding\n",
                "\n",
                "        self.std = 1 / num_components ** 0.5\n",
                "        # Initialise embeddings to a random start\n",
                "        nn.init.normal_(self.user_embedding.weight, std=self.std)\n",
                "        nn.init.normal_(self.item_embedding.weight, std=self.std)\n",
                "\n",
                "    def forward(\n",
                "        self, user_tensor: torch.Tensor, item_tensor: torch.Tensor\n",
                "    ) -> torch.Tensor:\n",
                "        \"\"\"\n",
                "        Compute dot-product of user embedding (w_u) and item embedding (h_i)\n",
                "        for every user and item pair in user_tensor and item_tensor.\n",
                "\n",
                "        :param user_tensor: [description]\n",
                "        :type user_tensor: [type]\n",
                "        :param item_tensor: [description]\n",
                "        :type item_tensor: [type]\n",
                "        \"\"\"\n",
                "        w_u = self.user_embedding(user_tensor)\n",
                "        h_i = self.item_embedding(item_tensor)\n",
                "\n",
                "        return w_u.matmul(h_i.T)\n",
                "\n",
                "def my_loss(true_sim, predicted_sim):\n",
                "    \"\"\"Computes the total absolute error from predicted compared to true,\n",
                "    and averages over all users\n",
                "    \"\"\"\n",
                "    return torch.mean(torch.sum(torch.abs(true_sim - predicted_sim), axis=1))\n",
                "\n",
                "\n",
                "class SillyMF(TorchMLAlgorithm):\n",
                "    def __init__(self, batch_size, max_epochs, learning_rate, num_components=100):\n",
                "        super().__init__(\n",
                "            batch_size=batch_size,\n",
                "            max_epochs=max_epochs,\n",
                "            learning_rate=learning_rate,\n",
                "            stopping_criterion='recall',\n",
                "            seed=42\n",
                "        )\n",
                "        self.num_components = num_components\n",
                "\n",
                "    def _init_model(self, X:csr_matrix):\n",
                "        num_users, num_items = X.shape\n",
                "        self.model_ = MFModule(\n",
                "            num_users, num_items, num_components=self.num_components\n",
                "        ).to(self.device)\n",
                "\n",
                "        # We'll use a basic SGD optimiser\n",
                "        self.optimizer = optim.SGD(self.model_.parameters(), lr=self.learning_rate)\n",
                "        self.steps = 0\n",
                "\n",
                "    def _train_epoch(self, X):\n",
                "        losses = []\n",
                "        item_tensor = torch.arange(X.shape[1]).to(self.device)\n",
                "        for users in get_batches(get_users(X), batch_size=self.batch_size):\n",
                "            self.optimizer.zero_grad()\n",
                "            user_tensor = torch.LongTensor(users).to(self.device)\n",
                "            scores = self.model_.forward(user_tensor, item_tensor)\n",
                "            expected_scores = naive_sparse2tensor(X[users])\n",
                "            loss = my_loss(expected_scores, scores)\n",
                "            \n",
                "            # Backwards propagation of the loss\n",
                "            loss.backward()\n",
                "            losses.append(loss.item())\n",
                "            # Update the weight according to the gradients.\n",
                "            # All automated thanks to torch.\n",
                "            self.optimizer.step()\n",
                "            self.steps += 1\n",
                "        return losses\n",
                "            \n",
                "    def _batch_predict(self, X: csr_matrix, users: List[int] = None) -> np.ndarray:\n",
                "        \"\"\"Predict scores for matrix X, given the selected users.\n",
                "\n",
                "        If there are no selected users, you can assume X is a full matrix,\n",
                "        and users can be retrieved as the nonzero indices in the X matrix.\n",
                "\n",
                "        :param X: Matrix of user item interactions\n",
                "        :type X: csr_matrix\n",
                "        :param users: users selected for recommendation\n",
                "        :type users: List[int]\n",
                "        :return: dense matrix of scores per user item pair.\n",
                "        :rtype: np.ndarray\n",
                "        \"\"\"\n",
                "        X_pred = lil_matrix(X.shape)\n",
                "\n",
                "        if users is None:\n",
                "            users = get_users(X)\n",
                "\n",
                "        # Turn the np arrays and lists to torch tensors\n",
                "        user_tensor = torch.LongTensor(users).to(self.device)\n",
                "        item_tensor = torch.arange(X.shape[1]).to(self.device)\n",
                "\n",
                "        X_pred[users] = self.model_(user_tensor, item_tensor).detach().cpu().numpy()\n",
                "        return X_pred.tocsr()\n",
                "    "
            ]
        },
        {
            "cell_type": "code",
            "execution_count": 12,
            "id": "modern-rolling",
            "metadata": {},
            "outputs": [
                {
                    "name": "stdout",
                    "output_type": "stream",
                    "text": [
                        "2022-10-20 10:03:31,703 - base - recpack - INFO - Processed epoch 0 in 0.08 s.Batch Training Loss = 59.7139\n",
                        "2022-10-20 10:03:31,741 - stopping_criterion - recpack - INFO - StoppingCriterion has value 0.5810212485313105, which is better than previous iterations.\n",
                        "2022-10-20 10:03:31,743 - base - recpack - INFO - Model improved. Storing better model.\n",
                        "2022-10-20 10:03:31,751 - base - recpack - INFO - Evaluation at end of 0 took 0.04 s.\n",
                        "2022-10-20 10:03:31,763 - base - recpack - INFO - Processed epoch 1 in 0.00 s.Batch Training Loss = 51.2695\n",
                        "2022-10-20 10:03:31,796 - stopping_criterion - recpack - INFO - StoppingCriterion has value 0.6343107563231402, which is better than previous iterations.\n",
                        "2022-10-20 10:03:31,801 - base - recpack - INFO - Model improved. Storing better model.\n",
                        "2022-10-20 10:03:31,812 - base - recpack - INFO - Evaluation at end of 1 took 0.05 s.\n",
                        "2022-10-20 10:03:31,830 - base - recpack - INFO - Processed epoch 2 in 0.02 s.Batch Training Loss = 44.9966\n",
                        "2022-10-20 10:03:31,862 - stopping_criterion - recpack - INFO - StoppingCriterion has value 0.6840043413758584, which is better than previous iterations.\n",
                        "2022-10-20 10:03:31,864 - base - recpack - INFO - Model improved. Storing better model.\n",
                        "2022-10-20 10:03:31,869 - base - recpack - INFO - Evaluation at end of 2 took 0.04 s.\n",
                        "2022-10-20 10:03:31,874 - base - recpack - INFO - Fitting SillyMF complete - Took 0.252s\n"
                    ]
                },
                {
                    "data": {
                        "text/html": [
                            "<style>#sk-container-id-3 {color: black;background-color: white;}#sk-container-id-3 pre{padding: 0;}#sk-container-id-3 div.sk-toggleable {background-color: white;}#sk-container-id-3 label.sk-toggleable__label {cursor: pointer;display: block;width: 100%;margin-bottom: 0;padding: 0.3em;box-sizing: border-box;text-align: center;}#sk-container-id-3 label.sk-toggleable__label-arrow:before {content: \"▸\";float: left;margin-right: 0.25em;color: #696969;}#sk-container-id-3 label.sk-toggleable__label-arrow:hover:before {color: black;}#sk-container-id-3 div.sk-estimator:hover label.sk-toggleable__label-arrow:before {color: black;}#sk-container-id-3 div.sk-toggleable__content {max-height: 0;max-width: 0;overflow: hidden;text-align: left;background-color: #f0f8ff;}#sk-container-id-3 div.sk-toggleable__content pre {margin: 0.2em;color: black;border-radius: 0.25em;background-color: #f0f8ff;}#sk-container-id-3 input.sk-toggleable__control:checked~div.sk-toggleable__content {max-height: 200px;max-width: 100%;overflow: auto;}#sk-container-id-3 input.sk-toggleable__control:checked~label.sk-toggleable__label-arrow:before {content: \"▾\";}#sk-container-id-3 div.sk-estimator input.sk-toggleable__control:checked~label.sk-toggleable__label {background-color: #d4ebff;}#sk-container-id-3 div.sk-label input.sk-toggleable__control:checked~label.sk-toggleable__label {background-color: #d4ebff;}#sk-container-id-3 input.sk-hidden--visually {border: 0;clip: rect(1px 1px 1px 1px);clip: rect(1px, 1px, 1px, 1px);height: 1px;margin: -1px;overflow: hidden;padding: 0;position: absolute;width: 1px;}#sk-container-id-3 div.sk-estimator {font-family: monospace;background-color: #f0f8ff;border: 1px dotted black;border-radius: 0.25em;box-sizing: border-box;margin-bottom: 0.5em;}#sk-container-id-3 div.sk-estimator:hover {background-color: #d4ebff;}#sk-container-id-3 div.sk-parallel-item::after {content: \"\";width: 100%;border-bottom: 1px solid gray;flex-grow: 1;}#sk-container-id-3 div.sk-label:hover label.sk-toggleable__label {background-color: #d4ebff;}#sk-container-id-3 div.sk-serial::before {content: \"\";position: absolute;border-left: 1px solid gray;box-sizing: border-box;top: 0;bottom: 0;left: 50%;z-index: 0;}#sk-container-id-3 div.sk-serial {display: flex;flex-direction: column;align-items: center;background-color: white;padding-right: 0.2em;padding-left: 0.2em;position: relative;}#sk-container-id-3 div.sk-item {position: relative;z-index: 1;}#sk-container-id-3 div.sk-parallel {display: flex;align-items: stretch;justify-content: center;background-color: white;position: relative;}#sk-container-id-3 div.sk-item::before, #sk-container-id-3 div.sk-parallel-item::before {content: \"\";position: absolute;border-left: 1px solid gray;box-sizing: border-box;top: 0;bottom: 0;left: 50%;z-index: -1;}#sk-container-id-3 div.sk-parallel-item {display: flex;flex-direction: column;z-index: 1;position: relative;background-color: white;}#sk-container-id-3 div.sk-parallel-item:first-child::after {align-self: flex-end;width: 50%;}#sk-container-id-3 div.sk-parallel-item:last-child::after {align-self: flex-start;width: 50%;}#sk-container-id-3 div.sk-parallel-item:only-child::after {width: 0;}#sk-container-id-3 div.sk-dashed-wrapped {border: 1px dashed gray;margin: 0 0.4em 0.5em 0.4em;box-sizing: border-box;padding-bottom: 0.4em;background-color: white;}#sk-container-id-3 div.sk-label label {font-family: monospace;font-weight: bold;display: inline-block;line-height: 1.2em;}#sk-container-id-3 div.sk-label-container {text-align: center;}#sk-container-id-3 div.sk-container {/* jupyter's `normalize.less` sets `[hidden] { display: none; }` but bootstrap.min.css set `[hidden] { display: none !important; }` so we also need the `!important` here to be able to override the default hidden behavior on the sphinx rendered scikit-learn.org. See: https://github.com/scikit-learn/scikit-learn/issues/21755 */display: inline-block !important;position: relative;}#sk-container-id-3 div.sk-text-repr-fallback {display: none;}</style><div id=\"sk-container-id-3\" class=\"sk-top-container\"><div class=\"sk-text-repr-fallback\"><pre>SillyMF</pre><b>In a Jupyter environment, please rerun this cell to show the HTML representation or trust the notebook. <br />On GitHub, the HTML representation is unable to render, please try loading this page with nbviewer.org.</b></div><div class=\"sk-container\" hidden><div class=\"sk-item\"><div class=\"sk-estimator sk-toggleable\"><input class=\"sk-toggleable__control sk-hidden--visually\" id=\"sk-estimator-id-3\" type=\"checkbox\" checked><label for=\"sk-estimator-id-3\" class=\"sk-toggleable__label sk-toggleable__label-arrow\">SillyMF</label><div class=\"sk-toggleable__content\"><pre>SillyMF</pre></div></div></div></div></div>"
                        ],
                        "text/plain": [
                            "SillyMF(batch_size=10, learning_rate=0.5, max_epochs=3, num_components=20)"
                        ]
                    },
                    "execution_count": 12,
                    "metadata": {},
                    "output_type": "execute_result"
                }
            ],
            "source": [
                "from recpack.scenarios import Timed\n",
                "\n",
                "algo = SillyMF(10, 3, 0.5, num_components=20)\n",
                "\n",
                "sc = Timed(400, t_validation=300, validation=True)\n",
                "sc.split(data)\n",
                "algo.fit(sc.full_training_data, sc.validation_data)\n"
            ]
        },
        {
            "cell_type": "code",
            "execution_count": 13,
            "id": "ruled-tumor",
            "metadata": {},
            "outputs": [
                {
                    "data": {
                        "text/plain": [
                            "array([[ 2.09083080e-01,  5.53321123e-01,  1.09767720e-01, ...,\n",
                            "         3.91005307e-01, -1.81419745e-01,  5.17807901e-04],\n",
                            "       [ 1.35509565e-01,  4.09004986e-01,  5.57367913e-02, ...,\n",
                            "         6.77114904e-01,  7.93383181e-01,  1.76269025e-01],\n",
                            "       [ 6.83239028e-02,  7.78306127e-01,  6.06442392e-01, ...,\n",
                            "         1.01825333e+00,  1.14447556e-01, -3.88061367e-02],\n",
                            "       ...,\n",
                            "       [-1.12866610e-01,  4.20635819e-01,  9.83859777e-01, ...,\n",
                            "         9.81629133e-01,  2.91985780e-01,  7.73021281e-02],\n",
                            "       [-1.00181818e-01,  1.99663043e-01,  1.44307065e+00, ...,\n",
                            "         3.82905960e-01,  9.90740657e-02,  2.41271377e-01],\n",
                            "       [-1.45038396e-01,  6.57923460e-01,  9.25068855e-01, ...,\n",
                            "         6.84387803e-01,  3.66482288e-02,  3.12753737e-01]])"
                        ]
                    },
                    "execution_count": 13,
                    "metadata": {},
                    "output_type": "execute_result"
                }
            ],
            "source": [
                "algo.predict(sc.test_data[0]).toarray()"
            ]
        },
        {
            "cell_type": "code",
            "execution_count": null,
            "id": "apparent-revelation",
            "metadata": {},
            "outputs": [],
            "source": []
        },
        {
            "cell_type": "markdown",
            "id": "promising-browser",
            "metadata": {},
            "source": [
                "## SVD"
            ]
        },
        {
            "cell_type": "code",
            "execution_count": 14,
            "id": "available-companion",
            "metadata": {},
            "outputs": [],
            "source": [
                "import numpy as np\n",
                "from scipy.sparse import csr_matrix, lil_matrix, diags\n",
                "from sklearn.decomposition import TruncatedSVD\n",
                "\n",
                "from recpack.algorithms.base import FactorizationAlgorithm\n",
                "\n",
                "class SVD(FactorizationAlgorithm):\n",
                "    \"\"\"Singular Value Decomposition as dimension reduction recommendation algorithm.\n",
                "\n",
                "    SVD computed using the TruncatedSVD implementation from sklearn.\n",
                "    U x Sigma x V = X\n",
                "    U are the user features, and the item features are computed as Sigma x V.\n",
                "\n",
                "    :param num_components: The size of the latent dimension\n",
                "    :type num_components: int\n",
                "\n",
                "    :param random_state: The seed for the random state to allow for comparison\n",
                "    :type random_state: int\n",
                "    \"\"\"\n",
                "\n",
                "    def __init__(self, num_components=100, random_state=42):\n",
                "        super().__init__(num_components=num_components)\n",
                "\n",
                "        self.random_state = random_state\n",
                "\n",
                "    def _fit(self, X: csr_matrix):\n",
                "        model = TruncatedSVD(\n",
                "            n_components=self.num_components, n_iter=7, random_state=self.random_state\n",
                "        )\n",
                "        # Factorization computes U x Sigma x V\n",
                "        # U are the user features,\n",
                "        # Sigma x V are the item features.\n",
                "        self.user_embedding_ = model.fit_transform(X)\n",
                "\n",
                "        V = model.components_\n",
                "        sigma = diags(model.singular_values_)\n",
                "        self.item_embedding_ = sigma @ V\n",
                "\n",
                "        return self"
            ]
        },
        {
            "cell_type": "code",
            "execution_count": 15,
            "id": "uniform-description",
            "metadata": {},
            "outputs": [],
            "source": [
                "algo = SVD(num_components = 20)"
            ]
        },
        {
            "cell_type": "code",
            "execution_count": 16,
            "id": "rapid-walker",
            "metadata": {},
            "outputs": [
                {
                    "name": "stdout",
                    "output_type": "stream",
                    "text": [
                        "2022-10-20 10:03:32,254 - base - recpack - INFO - Fitting SVD complete - Took 0.0144s\n"
                    ]
                },
                {
                    "data": {
                        "text/html": [
                            "<style>#sk-container-id-4 {color: black;background-color: white;}#sk-container-id-4 pre{padding: 0;}#sk-container-id-4 div.sk-toggleable {background-color: white;}#sk-container-id-4 label.sk-toggleable__label {cursor: pointer;display: block;width: 100%;margin-bottom: 0;padding: 0.3em;box-sizing: border-box;text-align: center;}#sk-container-id-4 label.sk-toggleable__label-arrow:before {content: \"▸\";float: left;margin-right: 0.25em;color: #696969;}#sk-container-id-4 label.sk-toggleable__label-arrow:hover:before {color: black;}#sk-container-id-4 div.sk-estimator:hover label.sk-toggleable__label-arrow:before {color: black;}#sk-container-id-4 div.sk-toggleable__content {max-height: 0;max-width: 0;overflow: hidden;text-align: left;background-color: #f0f8ff;}#sk-container-id-4 div.sk-toggleable__content pre {margin: 0.2em;color: black;border-radius: 0.25em;background-color: #f0f8ff;}#sk-container-id-4 input.sk-toggleable__control:checked~div.sk-toggleable__content {max-height: 200px;max-width: 100%;overflow: auto;}#sk-container-id-4 input.sk-toggleable__control:checked~label.sk-toggleable__label-arrow:before {content: \"▾\";}#sk-container-id-4 div.sk-estimator input.sk-toggleable__control:checked~label.sk-toggleable__label {background-color: #d4ebff;}#sk-container-id-4 div.sk-label input.sk-toggleable__control:checked~label.sk-toggleable__label {background-color: #d4ebff;}#sk-container-id-4 input.sk-hidden--visually {border: 0;clip: rect(1px 1px 1px 1px);clip: rect(1px, 1px, 1px, 1px);height: 1px;margin: -1px;overflow: hidden;padding: 0;position: absolute;width: 1px;}#sk-container-id-4 div.sk-estimator {font-family: monospace;background-color: #f0f8ff;border: 1px dotted black;border-radius: 0.25em;box-sizing: border-box;margin-bottom: 0.5em;}#sk-container-id-4 div.sk-estimator:hover {background-color: #d4ebff;}#sk-container-id-4 div.sk-parallel-item::after {content: \"\";width: 100%;border-bottom: 1px solid gray;flex-grow: 1;}#sk-container-id-4 div.sk-label:hover label.sk-toggleable__label {background-color: #d4ebff;}#sk-container-id-4 div.sk-serial::before {content: \"\";position: absolute;border-left: 1px solid gray;box-sizing: border-box;top: 0;bottom: 0;left: 50%;z-index: 0;}#sk-container-id-4 div.sk-serial {display: flex;flex-direction: column;align-items: center;background-color: white;padding-right: 0.2em;padding-left: 0.2em;position: relative;}#sk-container-id-4 div.sk-item {position: relative;z-index: 1;}#sk-container-id-4 div.sk-parallel {display: flex;align-items: stretch;justify-content: center;background-color: white;position: relative;}#sk-container-id-4 div.sk-item::before, #sk-container-id-4 div.sk-parallel-item::before {content: \"\";position: absolute;border-left: 1px solid gray;box-sizing: border-box;top: 0;bottom: 0;left: 50%;z-index: -1;}#sk-container-id-4 div.sk-parallel-item {display: flex;flex-direction: column;z-index: 1;position: relative;background-color: white;}#sk-container-id-4 div.sk-parallel-item:first-child::after {align-self: flex-end;width: 50%;}#sk-container-id-4 div.sk-parallel-item:last-child::after {align-self: flex-start;width: 50%;}#sk-container-id-4 div.sk-parallel-item:only-child::after {width: 0;}#sk-container-id-4 div.sk-dashed-wrapped {border: 1px dashed gray;margin: 0 0.4em 0.5em 0.4em;box-sizing: border-box;padding-bottom: 0.4em;background-color: white;}#sk-container-id-4 div.sk-label label {font-family: monospace;font-weight: bold;display: inline-block;line-height: 1.2em;}#sk-container-id-4 div.sk-label-container {text-align: center;}#sk-container-id-4 div.sk-container {/* jupyter's `normalize.less` sets `[hidden] { display: none; }` but bootstrap.min.css set `[hidden] { display: none !important; }` so we also need the `!important` here to be able to override the default hidden behavior on the sphinx rendered scikit-learn.org. See: https://github.com/scikit-learn/scikit-learn/issues/21755 */display: inline-block !important;position: relative;}#sk-container-id-4 div.sk-text-repr-fallback {display: none;}</style><div id=\"sk-container-id-4\" class=\"sk-top-container\"><div class=\"sk-text-repr-fallback\"><pre>SVD</pre><b>In a Jupyter environment, please rerun this cell to show the HTML representation or trust the notebook. <br />On GitHub, the HTML representation is unable to render, please try loading this page with nbviewer.org.</b></div><div class=\"sk-container\" hidden><div class=\"sk-item\"><div class=\"sk-estimator sk-toggleable\"><input class=\"sk-toggleable__control sk-hidden--visually\" id=\"sk-estimator-id-4\" type=\"checkbox\" checked><label for=\"sk-estimator-id-4\" class=\"sk-toggleable__label sk-toggleable__label-arrow\">SVD</label><div class=\"sk-toggleable__content\"><pre>SVD</pre></div></div></div></div></div>"
                        ],
                        "text/plain": [
                            "SVD(num_components=20)"
                        ]
                    },
                    "execution_count": 16,
                    "metadata": {},
                    "output_type": "execute_result"
                }
            ],
            "source": [
                "algo.fit(data)"
            ]
        },
        {
            "cell_type": "code",
            "execution_count": 17,
            "id": "southeast-biology",
            "metadata": {},
            "outputs": [
                {
                    "data": {
                        "text/plain": [
                            "<50x100 sparse matrix of type '<class 'numpy.float64'>'\n",
                            "\twith 5000 stored elements in Compressed Sparse Row format>"
                        ]
                    },
                    "execution_count": 17,
                    "metadata": {},
                    "output_type": "execute_result"
                }
            ],
            "source": [
                "algo.predict(data)"
            ]
        },
        {
            "cell_type": "markdown",
            "id": "183c0975",
            "metadata": {},
            "source": [
                "# Use with pipelines"
            ]
        },
        {
            "cell_type": "code",
            "execution_count": 18,
            "id": "f29c458e",
            "metadata": {},
            "outputs": [],
            "source": [
                "from recpack.pipelines import ALGORITHM_REGISTRY\n",
                "\n",
                "ALGORITHM_REGISTRY.register(SillyMF.__name__, SillyMF)\n"
            ]
        },
        {
            "cell_type": "code",
            "execution_count": 19,
            "id": "100b8dbc",
            "metadata": {},
            "outputs": [],
            "source": [
                "from recpack.pipelines import PipelineBuilder\n",
                "\n",
                "pipeline_builder = PipelineBuilder()\n",
                "\n",
                "pipeline_builder.set_data_from_scenario(sc)\n"
            ]
        },
        {
            "cell_type": "code",
            "execution_count": 20,
            "id": "e30cd32e",
            "metadata": {},
            "outputs": [],
            "source": [
                "# Add the baseline algorithms\n",
                "# Grid parameters will be optimised using grid search before final evaluation\n",
                "pipeline_builder.add_algorithm('ItemKNN', grid={'K': [10, 20]})\n",
                "pipeline_builder.add_algorithm('EASE', grid={'l2': [10, 100, 1000], 'alpha': [0, 0.1, 0.5]})\n"
            ]
        },
        {
            "cell_type": "code",
            "execution_count": 21,
            "id": "4e33b121",
            "metadata": {},
            "outputs": [],
            "source": [
                "# Add our new algorithm\n",
                "# Optimising learning rate and num_components\n",
                "# setting fixed values for max_epochs and batch_size\n",
                "pipeline_builder.add_algorithm(\n",
                "    'SillyMF',\n",
                "    grid={\n",
                "        'learning_rate': [0.1, 0.01, 0.3], \n",
                "        'num_components': [100, 200, 400]\n",
                "    },\n",
                "    params={\n",
                "        'max_epochs': 5,\n",
                "        'batch_size': 1024\n",
                "    }\n",
                ")\n"
            ]
        },
        {
            "cell_type": "code",
            "execution_count": 22,
            "id": "8b796655",
            "metadata": {
                "scrolled": true
            },
            "outputs": [],
            "source": [
                "# Add NDCG and Recall to be evaluated at 10, 20\n",
                "pipeline_builder.add_metric('NDCGK', [10, 20])\n",
                "pipeline_builder.add_metric('RecallK', [10, 20])\n"
            ]
        },
        {
            "cell_type": "code",
            "execution_count": 23,
            "id": "724268a8",
            "metadata": {},
            "outputs": [],
            "source": [
                "pipeline_builder.set_optimisation_metric('RecallK', 10)"
            ]
        },
        {
            "cell_type": "code",
            "execution_count": 24,
            "id": "9d38af0d",
            "metadata": {},
            "outputs": [],
            "source": [
                "pipeline = pipeline_builder.build()\n"
            ]
        },
        {
            "cell_type": "code",
            "execution_count": 25,
            "id": "78e68161",
            "metadata": {},
            "outputs": [
                {
                    "data": {
                        "application/vnd.jupyter.widget-view+json": {
                            "model_id": "f1c080e2a77f4b1cb98812a6e017e6b8",
                            "version_major": 2,
                            "version_minor": 0
                        },
                        "text/plain": [
                            "  0%|          | 0/3 [00:00<?, ?it/s]"
                        ]
                    },
                    "metadata": {},
                    "output_type": "display_data"
                },
                {
                    "name": "stdout",
                    "output_type": "stream",
                    "text": [
                        "2022-10-20 10:03:33,036 - base - recpack - INFO - Fitting ItemKNN complete - Took 0.0191s\n",
                        "2022-10-20 10:03:33,073 - base - recpack - INFO - Fitting ItemKNN complete - Took 0.0149s\n",
                        "2022-10-20 10:03:33,104 - base - recpack - INFO - Fitting ItemKNN complete - Took 0.0111s\n",
                        "2022-10-20 10:03:33,171 - base - recpack - INFO - Fitting EASE complete - Took 0.011s\n",
                        "2022-10-20 10:03:33,191 - base - recpack - INFO - Fitting EASE complete - Took 0.00448s\n",
                        "2022-10-20 10:03:33,215 - base - recpack - INFO - Fitting EASE complete - Took 0.00676s\n",
                        "2022-10-20 10:03:33,239 - base - recpack - INFO - Fitting EASE complete - Took 0.00468s\n",
                        "2022-10-20 10:03:33,261 - base - recpack - INFO - Fitting EASE complete - Took 0.00503s\n",
                        "2022-10-20 10:03:33,280 - base - recpack - INFO - Fitting EASE complete - Took 0.00534s\n",
                        "2022-10-20 10:03:33,302 - base - recpack - INFO - Fitting EASE complete - Took 0.0066s\n",
                        "2022-10-20 10:03:33,324 - base - recpack - INFO - Fitting EASE complete - Took 0.00442s\n",
                        "2022-10-20 10:03:33,346 - base - recpack - INFO - Fitting EASE complete - Took 0.00492s\n",
                        "2022-10-20 10:03:33,367 - base - recpack - INFO - Fitting EASE complete - Took 0.00563s\n",
                        "2022-10-20 10:03:33,429 - base - recpack - INFO - Processed epoch 0 in 0.00 s.Batch Training Loss = 43.3616\n",
                        "2022-10-20 10:03:33,444 - stopping_criterion - recpack - INFO - StoppingCriterion has value 0.5118481867289917, which is better than previous iterations.\n",
                        "2022-10-20 10:03:33,445 - base - recpack - INFO - Model improved. Storing better model.\n",
                        "2022-10-20 10:03:33,448 - base - recpack - INFO - Evaluation at end of 0 took 0.02 s.\n",
                        "2022-10-20 10:03:33,453 - base - recpack - INFO - Processed epoch 1 in 0.00 s.Batch Training Loss = 42.9068\n",
                        "2022-10-20 10:03:33,469 - stopping_criterion - recpack - INFO - StoppingCriterion has value 0.5080381634189683, which is worse than previous iterations.\n",
                        "2022-10-20 10:03:33,470 - base - recpack - INFO - Evaluation at end of 1 took 0.02 s.\n",
                        "2022-10-20 10:03:33,475 - base - recpack - INFO - Processed epoch 2 in 0.00 s.Batch Training Loss = 42.4810\n",
                        "2022-10-20 10:03:33,491 - stopping_criterion - recpack - INFO - StoppingCriterion has value 0.4936004447049339, which is worse than previous iterations.\n",
                        "2022-10-20 10:03:33,492 - base - recpack - INFO - Evaluation at end of 2 took 0.01 s.\n",
                        "2022-10-20 10:03:33,497 - base - recpack - INFO - Processed epoch 3 in 0.00 s.Batch Training Loss = 42.0792\n",
                        "2022-10-20 10:03:33,511 - stopping_criterion - recpack - INFO - StoppingCriterion has value 0.5013542742087634, which is worse than previous iterations.\n",
                        "2022-10-20 10:03:33,512 - base - recpack - INFO - Evaluation at end of 3 took 0.01 s.\n",
                        "2022-10-20 10:03:33,517 - base - recpack - INFO - Processed epoch 4 in 0.00 s.Batch Training Loss = 41.6999\n",
                        "2022-10-20 10:03:33,531 - stopping_criterion - recpack - INFO - StoppingCriterion has value 0.48732256615073954, which is worse than previous iterations.\n",
                        "2022-10-20 10:03:33,532 - base - recpack - INFO - Evaluation at end of 4 took 0.01 s.\n",
                        "2022-10-20 10:03:33,537 - base - recpack - INFO - Fitting SillyMF complete - Took 0.116s\n",
                        "2022-10-20 10:03:33,562 - base - recpack - INFO - Processed epoch 0 in 0.00 s.Batch Training Loss = 42.1549\n",
                        "2022-10-20 10:03:33,576 - stopping_criterion - recpack - INFO - StoppingCriterion has value 0.4955589412307679, which is better than previous iterations.\n",
                        "2022-10-20 10:03:33,577 - base - recpack - INFO - Model improved. Storing better model.\n",
                        "2022-10-20 10:03:33,581 - base - recpack - INFO - Evaluation at end of 0 took 0.02 s.\n",
                        "2022-10-20 10:03:33,586 - base - recpack - INFO - Processed epoch 1 in 0.00 s.Batch Training Loss = 41.7363\n",
                        "2022-10-20 10:03:33,601 - stopping_criterion - recpack - INFO - StoppingCriterion has value 0.48802672551047166, which is worse than previous iterations.\n",
                        "2022-10-20 10:03:33,602 - base - recpack - INFO - Evaluation at end of 1 took 0.01 s.\n",
                        "2022-10-20 10:03:33,605 - base - recpack - INFO - Processed epoch 2 in 0.00 s.Batch Training Loss = 41.3415\n",
                        "2022-10-20 10:03:33,623 - stopping_criterion - recpack - INFO - StoppingCriterion has value 0.4826030719366633, which is worse than previous iterations.\n",
                        "2022-10-20 10:03:33,623 - base - recpack - INFO - Evaluation at end of 2 took 0.02 s.\n",
                        "2022-10-20 10:03:33,629 - base - recpack - INFO - Processed epoch 3 in 0.01 s.Batch Training Loss = 40.9715\n",
                        "2022-10-20 10:03:33,645 - stopping_criterion - recpack - INFO - StoppingCriterion has value 0.4570033967580407, which is worse than previous iterations.\n",
                        "2022-10-20 10:03:33,646 - base - recpack - INFO - Evaluation at end of 3 took 0.02 s.\n",
                        "2022-10-20 10:03:33,652 - base - recpack - INFO - Processed epoch 4 in 0.00 s.Batch Training Loss = 40.6213\n",
                        "2022-10-20 10:03:33,668 - stopping_criterion - recpack - INFO - StoppingCriterion has value 0.4466870672327328, which is worse than previous iterations.\n",
                        "2022-10-20 10:03:33,669 - base - recpack - INFO - Evaluation at end of 4 took 0.02 s.\n",
                        "2022-10-20 10:03:33,673 - base - recpack - INFO - Fitting SillyMF complete - Took 0.117s\n",
                        "2022-10-20 10:03:33,702 - base - recpack - INFO - Processed epoch 0 in 0.00 s.Batch Training Loss = 41.0721\n",
                        "2022-10-20 10:03:33,718 - stopping_criterion - recpack - INFO - StoppingCriterion has value 0.4947637773303408, which is better than previous iterations.\n",
                        "2022-10-20 10:03:33,719 - base - recpack - INFO - Model improved. Storing better model.\n",
                        "2022-10-20 10:03:33,724 - base - recpack - INFO - Evaluation at end of 0 took 0.02 s.\n",
                        "2022-10-20 10:03:33,728 - base - recpack - INFO - Processed epoch 1 in 0.00 s.Batch Training Loss = 40.6673\n",
                        "2022-10-20 10:03:33,745 - stopping_criterion - recpack - INFO - StoppingCriterion has value 0.4716269819791492, which is worse than previous iterations.\n",
                        "2022-10-20 10:03:33,746 - base - recpack - INFO - Evaluation at end of 1 took 0.02 s.\n",
                        "2022-10-20 10:03:33,754 - base - recpack - INFO - Processed epoch 2 in 0.01 s.Batch Training Loss = 40.2882\n",
                        "2022-10-20 10:03:33,831 - stopping_criterion - recpack - INFO - StoppingCriterion has value 0.44271854976808545, which is worse than previous iterations.\n",
                        "2022-10-20 10:03:33,834 - base - recpack - INFO - Evaluation at end of 2 took 0.03 s.\n",
                        "2022-10-20 10:03:33,838 - base - recpack - INFO - Processed epoch 3 in 0.00 s.Batch Training Loss = 39.9319\n",
                        "2022-10-20 10:03:33,856 - stopping_criterion - recpack - INFO - StoppingCriterion has value 0.41752429871470126, which is worse than previous iterations.\n",
                        "2022-10-20 10:03:33,857 - base - recpack - INFO - Evaluation at end of 3 took 0.02 s.\n",
                        "2022-10-20 10:03:33,861 - base - recpack - INFO - Processed epoch 4 in 0.00 s.Batch Training Loss = 39.5978\n",
                        "2022-10-20 10:03:33,877 - stopping_criterion - recpack - INFO - StoppingCriterion has value 0.4028397353420573, which is worse than previous iterations.\n",
                        "2022-10-20 10:03:33,878 - base - recpack - INFO - Evaluation at end of 4 took 0.02 s.\n",
                        "2022-10-20 10:03:33,881 - base - recpack - INFO - Fitting SillyMF complete - Took 0.187s\n",
                        "2022-10-20 10:03:33,908 - base - recpack - INFO - Processed epoch 0 in 0.00 s.Batch Training Loss = 43.3616\n",
                        "2022-10-20 10:03:33,922 - stopping_criterion - recpack - INFO - StoppingCriterion has value 0.5107902446710496, which is better than previous iterations.\n",
                        "2022-10-20 10:03:33,923 - base - recpack - INFO - Model improved. Storing better model.\n",
                        "2022-10-20 10:03:33,926 - base - recpack - INFO - Evaluation at end of 0 took 0.02 s.\n",
                        "2022-10-20 10:03:33,931 - base - recpack - INFO - Processed epoch 1 in 0.00 s.Batch Training Loss = 43.3147\n",
                        "2022-10-20 10:03:33,946 - stopping_criterion - recpack - INFO - StoppingCriterion has value 0.5123287062095112, which is better than previous iterations.\n",
                        "2022-10-20 10:03:33,947 - base - recpack - INFO - Model improved. Storing better model.\n",
                        "2022-10-20 10:03:33,951 - base - recpack - INFO - Evaluation at end of 1 took 0.02 s.\n",
                        "2022-10-20 10:03:33,956 - base - recpack - INFO - Processed epoch 2 in 0.00 s.Batch Training Loss = 43.2681\n",
                        "2022-10-20 10:03:33,973 - stopping_criterion - recpack - INFO - StoppingCriterion has value 0.5123287062095112, which is worse than previous iterations.\n",
                        "2022-10-20 10:03:33,974 - base - recpack - INFO - Evaluation at end of 2 took 0.02 s.\n",
                        "2022-10-20 10:03:33,979 - base - recpack - INFO - Processed epoch 3 in 0.00 s.Batch Training Loss = 43.2219\n",
                        "2022-10-20 10:03:33,995 - stopping_criterion - recpack - INFO - StoppingCriterion has value 0.5123287062095112, which is worse than previous iterations.\n",
                        "2022-10-20 10:03:33,995 - base - recpack - INFO - Evaluation at end of 3 took 0.02 s.\n",
                        "2022-10-20 10:03:33,999 - base - recpack - INFO - Processed epoch 4 in 0.00 s.Batch Training Loss = 43.1760\n",
                        "2022-10-20 10:03:34,014 - stopping_criterion - recpack - INFO - StoppingCriterion has value 0.5123287062095112, which is worse than previous iterations.\n",
                        "2022-10-20 10:03:34,016 - base - recpack - INFO - Evaluation at end of 4 took 0.02 s.\n",
                        "2022-10-20 10:03:34,019 - base - recpack - INFO - Fitting SillyMF complete - Took 0.117s\n",
                        "2022-10-20 10:03:34,046 - base - recpack - INFO - Processed epoch 0 in 0.00 s.Batch Training Loss = 42.1549\n",
                        "2022-10-20 10:03:34,061 - stopping_criterion - recpack - INFO - StoppingCriterion has value 0.5079821393776502, which is better than previous iterations.\n",
                        "2022-10-20 10:03:34,062 - base - recpack - INFO - Model improved. Storing better model.\n",
                        "2022-10-20 10:03:34,067 - base - recpack - INFO - Evaluation at end of 0 took 0.02 s.\n",
                        "2022-10-20 10:03:34,070 - base - recpack - INFO - Processed epoch 1 in 0.00 s.Batch Training Loss = 42.1115\n",
                        "2022-10-20 10:03:34,105 - stopping_criterion - recpack - INFO - StoppingCriterion has value 0.5051336545291654, which is worse than previous iterations.\n",
                        "2022-10-20 10:03:34,176 - base - recpack - INFO - Evaluation at end of 1 took 0.11 s.\n",
                        "2022-10-20 10:03:34,187 - base - recpack - INFO - Processed epoch 2 in 0.00 s.Batch Training Loss = 42.0684\n",
                        "2022-10-20 10:03:34,220 - stopping_criterion - recpack - INFO - StoppingCriterion has value 0.5062447656402765, which is worse than previous iterations.\n",
                        "2022-10-20 10:03:34,231 - base - recpack - INFO - Evaluation at end of 2 took 0.04 s.\n",
                        "2022-10-20 10:03:34,239 - base - recpack - INFO - Processed epoch 3 in 0.00 s.Batch Training Loss = 42.0256\n",
                        "2022-10-20 10:03:34,263 - stopping_criterion - recpack - INFO - StoppingCriterion has value 0.5026861020816129, which is worse than previous iterations.\n",
                        "2022-10-20 10:03:34,289 - base - recpack - INFO - Evaluation at end of 3 took 0.05 s.\n",
                        "2022-10-20 10:03:34,298 - base - recpack - INFO - Processed epoch 4 in 0.00 s.Batch Training Loss = 41.9830\n",
                        "2022-10-20 10:03:34,321 - stopping_criterion - recpack - INFO - StoppingCriterion has value 0.5014797528752638, which is worse than previous iterations.\n",
                        "2022-10-20 10:03:34,324 - base - recpack - INFO - Evaluation at end of 4 took 0.02 s.\n",
                        "2022-10-20 10:03:34,331 - base - recpack - INFO - Fitting SillyMF complete - Took 0.291s\n",
                        "2022-10-20 10:03:34,391 - base - recpack - INFO - Processed epoch 0 in 0.01 s.Batch Training Loss = 41.0721\n",
                        "2022-10-20 10:03:34,435 - stopping_criterion - recpack - INFO - StoppingCriterion has value 0.5081436731483171, which is better than previous iterations.\n",
                        "2022-10-20 10:03:34,443 - base - recpack - INFO - Model improved. Storing better model.\n",
                        "2022-10-20 10:03:34,449 - base - recpack - INFO - Evaluation at end of 0 took 0.04 s.\n",
                        "2022-10-20 10:03:34,457 - base - recpack - INFO - Processed epoch 1 in 0.01 s.Batch Training Loss = 41.0300\n",
                        "2022-10-20 10:03:34,476 - stopping_criterion - recpack - INFO - StoppingCriterion has value 0.5053817683864124, which is worse than previous iterations.\n",
                        "2022-10-20 10:03:34,478 - base - recpack - INFO - Evaluation at end of 1 took 0.02 s.\n",
                        "2022-10-20 10:03:34,486 - base - recpack - INFO - Processed epoch 2 in 0.00 s.Batch Training Loss = 40.9881\n",
                        "2022-10-20 10:03:34,534 - stopping_criterion - recpack - INFO - StoppingCriterion has value 0.5053164089092882, which is worse than previous iterations.\n",
                        "2022-10-20 10:03:34,534 - base - recpack - INFO - Evaluation at end of 2 took 0.04 s.\n",
                        "2022-10-20 10:03:34,537 - base - recpack - INFO - Processed epoch 3 in 0.00 s.Batch Training Loss = 40.9465\n",
                        "2022-10-20 10:03:34,558 - stopping_criterion - recpack - INFO - StoppingCriterion has value 0.5028719644648437, which is worse than previous iterations.\n",
                        "2022-10-20 10:03:34,560 - base - recpack - INFO - Evaluation at end of 3 took 0.02 s.\n",
                        "2022-10-20 10:03:34,568 - base - recpack - INFO - Processed epoch 4 in 0.01 s.Batch Training Loss = 40.9052\n",
                        "2022-10-20 10:03:34,588 - stopping_criterion - recpack - INFO - StoppingCriterion has value 0.5029304439970075, which is worse than previous iterations.\n",
                        "2022-10-20 10:03:34,590 - base - recpack - INFO - Evaluation at end of 4 took 0.02 s.\n",
                        "2022-10-20 10:03:34,597 - base - recpack - INFO - Fitting SillyMF complete - Took 0.223s\n",
                        "2022-10-20 10:03:34,628 - base - recpack - INFO - Processed epoch 0 in 0.00 s.Batch Training Loss = 43.3616\n",
                        "2022-10-20 10:03:34,642 - stopping_criterion - recpack - INFO - StoppingCriterion has value 0.4941777285322177, which is better than previous iterations.\n",
                        "2022-10-20 10:03:34,644 - base - recpack - INFO - Model improved. Storing better model.\n",
                        "2022-10-20 10:03:34,646 - base - recpack - INFO - Evaluation at end of 0 took 0.02 s.\n",
                        "2022-10-20 10:03:34,653 - base - recpack - INFO - Processed epoch 1 in 0.00 s.Batch Training Loss = 42.0860\n",
                        "2022-10-20 10:03:34,669 - stopping_criterion - recpack - INFO - StoppingCriterion has value 0.48609918572999067, which is worse than previous iterations.\n",
                        "2022-10-20 10:03:34,670 - base - recpack - INFO - Evaluation at end of 1 took 0.02 s.\n",
                        "2022-10-20 10:03:34,673 - base - recpack - INFO - Processed epoch 2 in 0.00 s.Batch Training Loss = 41.0207\n",
                        "2022-10-20 10:03:34,692 - stopping_criterion - recpack - INFO - StoppingCriterion has value 0.4440134402061646, which is worse than previous iterations.\n",
                        "2022-10-20 10:03:34,693 - base - recpack - INFO - Evaluation at end of 2 took 0.02 s.\n",
                        "2022-10-20 10:03:34,697 - base - recpack - INFO - Processed epoch 3 in 0.00 s.Batch Training Loss = 40.0953\n",
                        "2022-10-20 10:03:34,712 - stopping_criterion - recpack - INFO - StoppingCriterion has value 0.4261850916541319, which is worse than previous iterations.\n",
                        "2022-10-20 10:03:34,713 - base - recpack - INFO - Evaluation at end of 3 took 0.01 s.\n",
                        "2022-10-20 10:03:34,717 - base - recpack - INFO - Processed epoch 4 in 0.00 s.Batch Training Loss = 39.2803\n",
                        "2022-10-20 10:03:34,732 - stopping_criterion - recpack - INFO - StoppingCriterion has value 0.39547377931665856, which is worse than previous iterations.\n",
                        "2022-10-20 10:03:34,733 - base - recpack - INFO - Evaluation at end of 4 took 0.01 s.\n",
                        "2022-10-20 10:03:34,736 - base - recpack - INFO - Fitting SillyMF complete - Took 0.116s\n",
                        "2022-10-20 10:03:34,762 - base - recpack - INFO - Processed epoch 0 in 0.00 s.Batch Training Loss = 42.1549\n",
                        "2022-10-20 10:03:34,776 - stopping_criterion - recpack - INFO - StoppingCriterion has value 0.47228388295570967, which is better than previous iterations.\n",
                        "2022-10-20 10:03:34,777 - base - recpack - INFO - Model improved. Storing better model.\n",
                        "2022-10-20 10:03:34,780 - base - recpack - INFO - Evaluation at end of 0 took 0.02 s.\n",
                        "2022-10-20 10:03:34,787 - base - recpack - INFO - Processed epoch 1 in 0.00 s.Batch Training Loss = 40.9936\n",
                        "2022-10-20 10:03:34,803 - stopping_criterion - recpack - INFO - StoppingCriterion has value 0.427189711647142, which is worse than previous iterations.\n",
                        "2022-10-20 10:03:34,804 - base - recpack - INFO - Evaluation at end of 1 took 0.02 s.\n",
                        "2022-10-20 10:03:34,807 - base - recpack - INFO - Processed epoch 2 in 0.00 s.Batch Training Loss = 40.0238\n",
                        "2022-10-20 10:03:34,823 - stopping_criterion - recpack - INFO - StoppingCriterion has value 0.4191392980084931, which is worse than previous iterations.\n",
                        "2022-10-20 10:03:34,824 - base - recpack - INFO - Evaluation at end of 2 took 0.01 s.\n",
                        "2022-10-20 10:03:34,828 - base - recpack - INFO - Processed epoch 3 in 0.00 s.Batch Training Loss = 39.1817\n",
                        "2022-10-20 10:03:34,843 - stopping_criterion - recpack - INFO - StoppingCriterion has value 0.3653174552485698, which is worse than previous iterations.\n",
                        "2022-10-20 10:03:34,843 - base - recpack - INFO - Evaluation at end of 3 took 0.01 s.\n",
                        "2022-10-20 10:03:34,848 - base - recpack - INFO - Processed epoch 4 in 0.00 s.Batch Training Loss = 38.4202\n",
                        "2022-10-20 10:03:34,863 - stopping_criterion - recpack - INFO - StoppingCriterion has value 0.3535271829993192, which is worse than previous iterations.\n",
                        "2022-10-20 10:03:34,864 - base - recpack - INFO - Evaluation at end of 4 took 0.01 s.\n",
                        "2022-10-20 10:03:34,868 - base - recpack - INFO - Fitting SillyMF complete - Took 0.113s\n",
                        "2022-10-20 10:03:34,895 - base - recpack - INFO - Processed epoch 0 in 0.00 s.Batch Training Loss = 41.0721\n",
                        "2022-10-20 10:03:34,911 - stopping_criterion - recpack - INFO - StoppingCriterion has value 0.4444929843977832, which is better than previous iterations.\n",
                        "2022-10-20 10:03:34,912 - base - recpack - INFO - Model improved. Storing better model.\n",
                        "2022-10-20 10:03:34,917 - base - recpack - INFO - Evaluation at end of 0 took 0.02 s.\n",
                        "2022-10-20 10:03:34,921 - base - recpack - INFO - Processed epoch 1 in 0.00 s.Batch Training Loss = 39.9721\n",
                        "2022-10-20 10:03:34,939 - stopping_criterion - recpack - INFO - StoppingCriterion has value 0.41392268017500217, which is worse than previous iterations.\n",
                        "2022-10-20 10:03:34,940 - base - recpack - INFO - Evaluation at end of 1 took 0.02 s.\n",
                        "2022-10-20 10:03:34,945 - base - recpack - INFO - Processed epoch 2 in 0.00 s.Batch Training Loss = 39.0702\n",
                        "2022-10-20 10:03:34,962 - stopping_criterion - recpack - INFO - StoppingCriterion has value 0.36854521321471784, which is worse than previous iterations.\n",
                        "2022-10-20 10:03:34,963 - base - recpack - INFO - Evaluation at end of 2 took 0.02 s.\n",
                        "2022-10-20 10:03:34,969 - base - recpack - INFO - Processed epoch 3 in 0.00 s.Batch Training Loss = 38.2750\n",
                        "2022-10-20 10:03:34,985 - stopping_criterion - recpack - INFO - StoppingCriterion has value 0.32073969357096294, which is worse than previous iterations.\n",
                        "2022-10-20 10:03:34,986 - base - recpack - INFO - Evaluation at end of 3 took 0.02 s.\n",
                        "2022-10-20 10:03:34,991 - base - recpack - INFO - Processed epoch 4 in 0.00 s.Batch Training Loss = 37.5566\n",
                        "2022-10-20 10:03:35,007 - stopping_criterion - recpack - INFO - StoppingCriterion has value 0.2814221427007804, which is worse than previous iterations.\n",
                        "2022-10-20 10:03:35,008 - base - recpack - INFO - Evaluation at end of 4 took 0.02 s.\n",
                        "2022-10-20 10:03:35,013 - base - recpack - INFO - Fitting SillyMF complete - Took 0.125s\n",
                        "2022-10-20 10:03:35,040 - base - recpack - INFO - Processed epoch 0 in 0.00 s.Batch Training Loss = 43.3616\n",
                        "2022-10-20 10:03:35,056 - stopping_criterion - recpack - INFO - StoppingCriterion has value 0.4941777285322177, which is better than previous iterations.\n",
                        "2022-10-20 10:03:35,057 - base - recpack - INFO - Model improved. Storing better model.\n",
                        "2022-10-20 10:03:35,063 - base - recpack - INFO - Evaluation at end of 0 took 0.02 s.\n",
                        "2022-10-20 10:03:35,067 - base - recpack - INFO - Processed epoch 1 in 0.00 s.Batch Training Loss = 42.0860\n",
                        "2022-10-20 10:03:35,095 - stopping_criterion - recpack - INFO - StoppingCriterion has value 0.48609918572999067, which is worse than previous iterations.\n",
                        "2022-10-20 10:03:35,096 - base - recpack - INFO - Evaluation at end of 1 took 0.03 s.\n",
                        "2022-10-20 10:03:35,102 - base - recpack - INFO - Processed epoch 2 in 0.00 s.Batch Training Loss = 41.0207\n",
                        "2022-10-20 10:03:35,119 - stopping_criterion - recpack - INFO - StoppingCriterion has value 0.4440134402061646, which is worse than previous iterations.\n",
                        "2022-10-20 10:03:35,120 - base - recpack - INFO - Evaluation at end of 2 took 0.02 s.\n",
                        "2022-10-20 10:03:35,124 - base - recpack - INFO - Processed epoch 3 in 0.00 s.Batch Training Loss = 40.0953\n",
                        "2022-10-20 10:03:35,141 - stopping_criterion - recpack - INFO - StoppingCriterion has value 0.4261850916541319, which is worse than previous iterations.\n",
                        "2022-10-20 10:03:35,142 - base - recpack - INFO - Evaluation at end of 3 took 0.02 s.\n",
                        "2022-10-20 10:03:35,148 - base - recpack - INFO - Processed epoch 4 in 0.00 s.Batch Training Loss = 39.2803\n",
                        "2022-10-20 10:03:35,164 - stopping_criterion - recpack - INFO - StoppingCriterion has value 0.39547377931665856, which is worse than previous iterations.\n",
                        "2022-10-20 10:03:35,165 - base - recpack - INFO - Evaluation at end of 4 took 0.02 s.\n",
                        "2022-10-20 10:03:35,172 - base - recpack - INFO - Fitting SillyMF complete - Took 0.138s\n"
                    ]
                }
            ],
            "source": [
                "pipeline.run()"
            ]
        },
        {
            "cell_type": "code",
            "execution_count": 26,
            "id": "808f2eaf",
            "metadata": {},
            "outputs": [
                {
                    "data": {
                        "text/html": [
                            "<div>\n",
                            "<style scoped>\n",
                            "    .dataframe tbody tr th:only-of-type {\n",
                            "        vertical-align: middle;\n",
                            "    }\n",
                            "\n",
                            "    .dataframe tbody tr th {\n",
                            "        vertical-align: top;\n",
                            "    }\n",
                            "\n",
                            "    .dataframe thead th {\n",
                            "        text-align: right;\n",
                            "    }\n",
                            "</style>\n",
                            "<table border=\"1\" class=\"dataframe\">\n",
                            "  <thead>\n",
                            "    <tr style=\"text-align: right;\">\n",
                            "      <th></th>\n",
                            "      <th>ndcgk_10</th>\n",
                            "      <th>ndcgk_20</th>\n",
                            "      <th>recallk_10</th>\n",
                            "      <th>recallk_20</th>\n",
                            "    </tr>\n",
                            "  </thead>\n",
                            "  <tbody>\n",
                            "    <tr>\n",
                            "      <th>ItemKNN(K=10,normalize_X=False,normalize_sim=False,pop_discount=None,similarity=cosine)</th>\n",
                            "      <td>0.297456</td>\n",
                            "      <td>0.384559</td>\n",
                            "      <td>0.250170</td>\n",
                            "      <td>0.462022</td>\n",
                            "    </tr>\n",
                            "    <tr>\n",
                            "      <th>EASE(alpha=0.1,density=None,l2=1000)</th>\n",
                            "      <td>0.288720</td>\n",
                            "      <td>0.380011</td>\n",
                            "      <td>0.246242</td>\n",
                            "      <td>0.462670</td>\n",
                            "    </tr>\n",
                            "    <tr>\n",
                            "      <th>SillyMF(batch_size=1024,learning_rate=0.3,max_epochs=5,num_components=100)</th>\n",
                            "      <td>0.255279</td>\n",
                            "      <td>0.333828</td>\n",
                            "      <td>0.204741</td>\n",
                            "      <td>0.410540</td>\n",
                            "    </tr>\n",
                            "  </tbody>\n",
                            "</table>\n",
                            "</div>"
                        ],
                        "text/plain": [
                            "                                                    ndcgk_10  ndcgk_20  \\\n",
                            "ItemKNN(K=10,normalize_X=False,normalize_sim=Fa...  0.297456  0.384559   \n",
                            "EASE(alpha=0.1,density=None,l2=1000)                0.288720  0.380011   \n",
                            "SillyMF(batch_size=1024,learning_rate=0.3,max_e...  0.255279  0.333828   \n",
                            "\n",
                            "                                                    recallk_10  recallk_20  \n",
                            "ItemKNN(K=10,normalize_X=False,normalize_sim=Fa...    0.250170    0.462022  \n",
                            "EASE(alpha=0.1,density=None,l2=1000)                  0.246242    0.462670  \n",
                            "SillyMF(batch_size=1024,learning_rate=0.3,max_e...    0.204741    0.410540  "
                        ]
                    },
                    "execution_count": 26,
                    "metadata": {},
                    "output_type": "execute_result"
                }
            ],
            "source": [
                "pipeline.get_metrics()"
            ]
        },
        {
            "cell_type": "code",
            "execution_count": null,
            "id": "6972db01",
            "metadata": {},
            "outputs": [],
            "source": []
        }
    ],
    "metadata": {
        "kernelspec": {
            "display_name": "Python 3.9.6 ('recpack')",
            "language": "python",
            "name": "python3"
        },
        "language_info": {
            "codemirror_mode": {
                "name": "ipython",
                "version": 3
            },
            "file_extension": ".py",
            "mimetype": "text/x-python",
            "name": "python",
            "nbconvert_exporter": "python",
            "pygments_lexer": "ipython3",
            "version": "3.9.6"
        },
        "vscode": {
            "interpreter": {
                "hash": "24cfc0f7cec4c0d8ebeb7dd622fa1c59a8f003e5d18a46b85b85a9cd1cf8f7c9"
            }
        }
    },
    "nbformat": 4,
    "nbformat_minor": 5
}
