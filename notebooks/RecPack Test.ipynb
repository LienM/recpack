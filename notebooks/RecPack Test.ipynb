{
 "cells": [
  {
   "cell_type": "code",
   "execution_count": 1,
   "metadata": {},
   "outputs": [],
   "source": [
    "import recpack"
   ]
  },
  {
   "cell_type": "code",
   "execution_count": 2,
   "metadata": {},
   "outputs": [],
   "source": [
    "import pandas as pd"
   ]
  },
  {
   "cell_type": "code",
   "execution_count": 3,
   "metadata": {},
   "outputs": [
    {
     "name": "stderr",
     "output_type": "stream",
     "text": [
      "/Users/robinverachtert/workspace/doctorate/dist-env/lib/python3.7/site-packages/google/auth/_default.py:69: UserWarning: Your application has authenticated using end user credentials from Google Cloud SDK. We recommend that most server applications use service accounts instead. If your application continues to use end user credentials from Cloud SDK, you might receive a \"quota exceeded\" or \"API not enabled\" error. For more information about service accounts, see https://cloud.google.com/docs/authentication/\n",
      "  warnings.warn(_CLOUD_SDK_CREDENTIALS_WARNING)\n"
     ]
    }
   ],
   "source": [
    "dataframe = pd.read_csv(\n",
    "    'gs://froomle-playground-robin-1-data/datasets/ML_100K/u.data',\n",
    "    sep='\\t',\n",
    "    header=None,\n",
    "    names = ['userId', 'movieId', 'rating', 'timestamp']\n",
    ")"
   ]
  },
  {
   "cell_type": "code",
   "execution_count": 4,
   "metadata": {},
   "outputs": [],
   "source": [
    "from recpack import algorithms"
   ]
  },
  {
   "cell_type": "code",
   "execution_count": 5,
   "metadata": {},
   "outputs": [],
   "source": [
    "from recpack import helpers"
   ]
  },
  {
   "cell_type": "code",
   "execution_count": 6,
   "metadata": {},
   "outputs": [],
   "source": [
    "from recpack import evaluate"
   ]
  },
  {
   "cell_type": "code",
   "execution_count": 7,
   "metadata": {},
   "outputs": [],
   "source": [
    "item_ids = list(dataframe['movieId'].unique())\n",
    "user_ids = list(dataframe['userId'].unique())"
   ]
  },
  {
   "cell_type": "code",
   "execution_count": 8,
   "metadata": {},
   "outputs": [],
   "source": [
    "item_id_mapping = helpers.rescale_id_space(item_ids)"
   ]
  },
  {
   "cell_type": "code",
   "execution_count": 9,
   "metadata": {},
   "outputs": [],
   "source": [
    "user_id_mapping = helpers.rescale_id_space(user_ids)"
   ]
  },
  {
   "cell_type": "code",
   "execution_count": 10,
   "metadata": {},
   "outputs": [],
   "source": [
    "dataframe['iid'] = dataframe['movieId'].map(lambda x: item_id_mapping[x])\n",
    "dataframe['uid'] = dataframe['userId'].map(lambda x: user_id_mapping[x])"
   ]
  },
  {
   "cell_type": "code",
   "execution_count": 11,
   "metadata": {},
   "outputs": [],
   "source": [
    "df = dataframe.drop(['userId', 'movieId', 'rating', 'timestamp'], axis=1)"
   ]
  },
  {
   "cell_type": "code",
   "execution_count": 12,
   "metadata": {},
   "outputs": [],
   "source": [
    "# Still need to move over the train test split function. "
   ]
  },
  {
   "cell_type": "code",
   "execution_count": 13,
   "metadata": {},
   "outputs": [],
   "source": [
    "sp_mat = helpers.create_csr_matrix_from_pandas_df(df, 'iid', 'uid')"
   ]
  },
  {
   "cell_type": "code",
   "execution_count": 23,
   "metadata": {},
   "outputs": [],
   "source": [
    "algo = algorithms.get_algorithm('ease')"
   ]
  },
  {
   "cell_type": "code",
   "execution_count": 24,
   "metadata": {},
   "outputs": [],
   "source": [
    "A = algo()"
   ]
  },
  {
   "cell_type": "code",
   "execution_count": 25,
   "metadata": {},
   "outputs": [
    {
     "data": {
      "text/plain": [
       "array([[ 0.00000000e+00,  1.25653464e-02, -3.49344744e-04, ...,\n",
       "         1.99267437e-04,  1.99267437e-04,  1.99267437e-04],\n",
       "       [ 1.18417712e-02,  0.00000000e+00,  1.17905741e-03, ...,\n",
       "        -2.49942997e-04, -2.49942997e-04, -2.49942997e-04],\n",
       "       [-3.76554206e-04,  1.34854671e-03,  0.00000000e+00, ...,\n",
       "        -6.68682987e-05, -6.68682987e-05, -6.68682987e-05],\n",
       "       ...,\n",
       "       [ 2.16744564e-04, -2.88476615e-04, -6.74774856e-05, ...,\n",
       "         0.00000000e+00,  7.43064622e-04,  7.43064622e-04],\n",
       "       [ 2.16744564e-04, -2.88476615e-04, -6.74774856e-05, ...,\n",
       "         7.43064622e-04,  0.00000000e+00,  7.43064622e-04],\n",
       "       [ 2.16744564e-04, -2.88476615e-04, -6.74774856e-05, ...,\n",
       "         7.43064622e-04,  7.43064622e-04,  0.00000000e+00]])"
      ]
     },
     "execution_count": 25,
     "metadata": {},
     "output_type": "execute_result"
    }
   ],
   "source": [
    "A.fit(sp_mat)"
   ]
  },
  {
   "cell_type": "code",
   "execution_count": 17,
   "metadata": {},
   "outputs": [],
   "source": [
    "import os"
   ]
  },
  {
   "cell_type": "code",
   "execution_count": 18,
   "metadata": {},
   "outputs": [
    {
     "data": {
      "text/plain": [
       "'/Users/robinverachtert/workspace/doctorate/recpack/notebooks'"
      ]
     },
     "execution_count": 18,
     "metadata": {},
     "output_type": "execute_result"
    }
   ],
   "source": [
    "os.getcwd()"
   ]
  },
  {
   "cell_type": "code",
   "execution_count": 19,
   "metadata": {},
   "outputs": [],
   "source": [
    "# A.save(f\"{os.getcwd()}/B\")"
   ]
  },
  {
   "cell_type": "code",
   "execution_count": 20,
   "metadata": {},
   "outputs": [
    {
     "data": {
      "text/plain": [
       "array([[0.00000000e+00, 0.00000000e+00, 0.00000000e+00, ...,\n",
       "        0.00000000e+00, 0.00000000e+00, 0.00000000e+00],\n",
       "       [0.00000000e+00, 0.00000000e+00, 2.73249368e-03, ...,\n",
       "        1.80252013e-04, 1.80252013e-04, 1.80252013e-04],\n",
       "       [0.00000000e+00, 2.91595492e-03, 0.00000000e+00, ...,\n",
       "        8.58224121e-06, 8.58224121e-06, 8.58224121e-06],\n",
       "       ...,\n",
       "       [0.00000000e+00, 1.98520080e-04, 8.85734153e-06, ...,\n",
       "        0.00000000e+00, 5.35271072e-04, 5.35271072e-04],\n",
       "       [0.00000000e+00, 1.98520080e-04, 8.85734153e-06, ...,\n",
       "        5.35271072e-04, 0.00000000e+00, 5.35271072e-04],\n",
       "       [0.00000000e+00, 1.98520080e-04, 8.85734153e-06, ...,\n",
       "        5.35271072e-04, 5.35271072e-04, 0.00000000e+00]])"
      ]
     },
     "execution_count": 20,
     "metadata": {},
     "output_type": "execute_result"
    }
   ],
   "source": [
    "A.load(f\"{os.getcwd()}/B.npy\")"
   ]
  },
  {
   "cell_type": "code",
   "execution_count": 26,
   "metadata": {},
   "outputs": [],
   "source": [
    "metric1 = evaluate.NDCGK(20)"
   ]
  },
  {
   "cell_type": "code",
   "execution_count": 27,
   "metadata": {},
   "outputs": [],
   "source": [
    "metric2 = evaluate.RecallK(20)"
   ]
  },
  {
   "cell_type": "code",
   "execution_count": 28,
   "metadata": {},
   "outputs": [],
   "source": [
    "evaluator = evaluate.FoldInPercentage(0.8, sp_mat)"
   ]
  },
  {
   "cell_type": "code",
   "execution_count": 29,
   "metadata": {},
   "outputs": [],
   "source": [
    "for _in, _out in evaluator:\n",
    "    \n",
    "    if _in.nnz == 0 or _out.nnz == 0:\n",
    "        print(\"oops\")\n",
    "        continue\n",
    "        \n",
    "    \n",
    "    \n",
    "    X_pred = A.predict(_in)\n",
    "    \n",
    "    metric1.update(X_pred[0], _out)\n",
    "    metric2.update(X_pred[0], _out)\n"
   ]
  },
  {
   "cell_type": "code",
   "execution_count": 30,
   "metadata": {},
   "outputs": [
    {
     "data": {
      "text/plain": [
       "0.2648818031679217"
      ]
     },
     "execution_count": 30,
     "metadata": {},
     "output_type": "execute_result"
    }
   ],
   "source": [
    "metric1.value"
   ]
  },
  {
   "cell_type": "code",
   "execution_count": 31,
   "metadata": {},
   "outputs": [
    {
     "data": {
      "text/plain": [
       "0.29645856570926093"
      ]
     },
     "execution_count": 31,
     "metadata": {},
     "output_type": "execute_result"
    }
   ],
   "source": [
    "metric2.value"
   ]
  },
  {
   "cell_type": "code",
   "execution_count": null,
   "metadata": {},
   "outputs": [],
   "source": []
  }
 ],
 "metadata": {
  "kernelspec": {
   "display_name": "Python 3",
   "language": "python",
   "name": "python3"
  },
  "language_info": {
   "codemirror_mode": {
    "name": "ipython",
    "version": 3
   },
   "file_extension": ".py",
   "mimetype": "text/x-python",
   "name": "python",
   "nbconvert_exporter": "python",
   "pygments_lexer": "ipython3",
   "version": "3.7.6"
  }
 },
 "nbformat": 4,
 "nbformat_minor": 2
}
